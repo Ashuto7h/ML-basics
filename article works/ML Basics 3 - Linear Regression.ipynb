{
 "cells": [
  {
   "cell_type": "markdown",
   "metadata": {},
   "source": [
    "# Regression\n",
    "\n",
    "regression is a  `supervised learning technique` which helps in finding the `correlation` between variables and enables to predict `continuous` output variable based on independent variables\n",
    "\n",
    "It is used for\n",
    "\n",
    "Prediction, forecasting, time seres modelling, determining casual effect relationship\n",
    "\n",
    "> Regression shows a line or curve that passes through all the datapoints on target-predictor graph in such a way that the vertical distance between the datapoints and the regression line is minimum.\n",
    "\n",
    "#### Applications of Regression\n",
    "* Prediction of rain using temperature and other factors\n",
    "* Determining Market trends\n",
    "* Prediction of road accidents due to rash driving.\n",
    "\n",
    "### Terminologies\n",
    "**Outliers:** Outlier is an observation which contains either very low value or very high value in comparison to other observed values. An outlier may hamper the result, so it should be avoided.\n",
    "\n",
    "**Multicollinearity:** If the independent variables are highly correlated with each other than other variables, then such condition is called Multicollinearity. It should not be present in the dataset, because it creates problem while ranking the most affecting variable.\n",
    "\n",
    "__Underfitting and Overfitting:__ If our algorithm works well with the training dataset but not well with test dataset, then such problem is called Overfitting. And if our algorithm does not perform well even with training dataset, then such problem is called underfitting."
   ]
  },
  {
   "cell_type": "markdown",
   "metadata": {},
   "source": [
    "## Linear Regression\n",
    "* Linear regression shows the linear relationship between the independent variable (X-axis) and the dependent variable (Y-axis), hence called linear regression.\n",
    "* If there is only one input variable (x), then such linear regression is called __`simple linear regression`__. And if there is more than one input variable, then such linear regression is called __`multiple linear regression`__.\n",
    "* The relationship between variables in the linear regression model can be explained using the below image. Here we are predicting the salary of an employee on the basis of the year of experience. \n",
    "\n",
    "<img src=\"https://static.javatpoint.com/tutorial/machine-learning/images/types-of-regression2.png\">\n",
    "\n",
    "##### Mathematical Equation\n",
    "__Y = aX + b__\n",
    "\n",
    "here a and b are linear coefficients\n",
    "\n",
    "#### Application of linear regression\n",
    "* Analyzing trends and sales estimates\n",
    "*   Salary forecasting\n",
    "*   Real estate prediction\n",
    "*  Arriving at ETAs in traffic.\n",
    "\n",
    "\n",
    "### Finding The Best Fit Line\n",
    "\n",
    "to find the values of a,b,.... (or a0, a1, a2....) we use cost function\n",
    "\n",
    "#### Cost Function\n",
    "* Cost function optimizes the regression coefficients or weights. It measures how a linear regression model is performing.\n",
    "* We can use the cost function to find the accuracy of the mapping function, which maps the input variable to the output variable. This mapping function is also known as Hypothesis function. \n",
    "* For Linear Regression, we use the ___Mean Squared Error (MSE)___ cost function, which is the average of squared error occurred between the predicted values and actual values. It can be written as:\n",
    "<img src=\"https://static.javatpoint.com/tutorial/machine-learning/images/linear-regression-in-machine-learning4.png\">\n",
    "\n",
    "where N = total no. of observation\n",
    "<br>\n",
    "yi = actual value\n",
    "<br>\n",
    "a1xi + a0 = predicted value\n",
    "\n",
    "#### Gradient Descent:\n",
    "*    Gradient descent is used to minimize the MSE by calculating the gradient of the cost function.\n",
    "*   A regression model uses gradient descent to update the coefficients of the line by reducing the cost function.\n",
    "*   It is done by a random selection of values of coefficient and then iteratively update the values to reach the minimum cost function.\n",
    "\n",
    "#### Optimisation by R-Squared Method\n",
    "\n",
    "*    R-squared is a statistical method that determines the goodness of fit.\n",
    "*    It measures the strength of the relationship between the dependent and independent variables on a scale of 0-100%.\n",
    "*    The high value of R-square determines the less difference between the predicted values and actual values and hence represents a good model.\n",
    "*    It is also called a ___coefficient of determination___, or ___coefficient of multiple determination___ for multiple regression.\n",
    "*    It can be calculated from the below formula:\n",
    "\n",
    "<img src =\"https://static.javatpoint.com/tutorial/machine-learning/images/linear-regression-in-machine-learning5.png\">\n",
    "\n",
    "__RMS__ = subtract the regression-predicted values from the actual values, square them (to get rid of directionality), take their average, then take the square root of the average.\n",
    "\n",
    "value near to 1 are considered as a good fit."
   ]
  },
  {
   "cell_type": "markdown",
   "metadata": {},
   "source": [
    "## Implementation of Simple Linear Regression\n",
    "\n",
    "we are training a model to predict salary on the basis of years of experience"
   ]
  },
  {
   "cell_type": "code",
   "execution_count": 1,
   "metadata": {},
   "outputs": [
    {
     "data": {
      "text/html": [
       "<div>\n",
       "<style scoped>\n",
       "    .dataframe tbody tr th:only-of-type {\n",
       "        vertical-align: middle;\n",
       "    }\n",
       "\n",
       "    .dataframe tbody tr th {\n",
       "        vertical-align: top;\n",
       "    }\n",
       "\n",
       "    .dataframe thead th {\n",
       "        text-align: right;\n",
       "    }\n",
       "</style>\n",
       "<table border=\"1\" class=\"dataframe\">\n",
       "  <thead>\n",
       "    <tr style=\"text-align: right;\">\n",
       "      <th></th>\n",
       "      <th>Index</th>\n",
       "      <th>YearsExperience</th>\n",
       "      <th>Salary</th>\n",
       "    </tr>\n",
       "  </thead>\n",
       "  <tbody>\n",
       "    <tr>\n",
       "      <th>0</th>\n",
       "      <td>0</td>\n",
       "      <td>1.0</td>\n",
       "      <td>32383</td>\n",
       "    </tr>\n",
       "    <tr>\n",
       "      <th>1</th>\n",
       "      <td>1</td>\n",
       "      <td>1.1</td>\n",
       "      <td>45207</td>\n",
       "    </tr>\n",
       "    <tr>\n",
       "      <th>2</th>\n",
       "      <td>2</td>\n",
       "      <td>1.3</td>\n",
       "      <td>39751</td>\n",
       "    </tr>\n",
       "    <tr>\n",
       "      <th>3</th>\n",
       "      <td>3</td>\n",
       "      <td>2.0</td>\n",
       "      <td>43525</td>\n",
       "    </tr>\n",
       "    <tr>\n",
       "      <th>4</th>\n",
       "      <td>4</td>\n",
       "      <td>2.2</td>\n",
       "      <td>39891</td>\n",
       "    </tr>\n",
       "    <tr>\n",
       "      <th>5</th>\n",
       "      <td>5</td>\n",
       "      <td>2.7</td>\n",
       "      <td>56642</td>\n",
       "    </tr>\n",
       "    <tr>\n",
       "      <th>6</th>\n",
       "      <td>6</td>\n",
       "      <td>3.0</td>\n",
       "      <td>60150</td>\n",
       "    </tr>\n",
       "    <tr>\n",
       "      <th>7</th>\n",
       "      <td>7</td>\n",
       "      <td>3.2</td>\n",
       "      <td>54445</td>\n",
       "    </tr>\n",
       "    <tr>\n",
       "      <th>8</th>\n",
       "      <td>8</td>\n",
       "      <td>3.2</td>\n",
       "      <td>64445</td>\n",
       "    </tr>\n",
       "    <tr>\n",
       "      <th>9</th>\n",
       "      <td>9</td>\n",
       "      <td>3.7</td>\n",
       "      <td>57189</td>\n",
       "    </tr>\n",
       "    <tr>\n",
       "      <th>10</th>\n",
       "      <td>10</td>\n",
       "      <td>3.9</td>\n",
       "      <td>63218</td>\n",
       "    </tr>\n",
       "    <tr>\n",
       "      <th>11</th>\n",
       "      <td>11</td>\n",
       "      <td>4.0</td>\n",
       "      <td>55794</td>\n",
       "    </tr>\n",
       "    <tr>\n",
       "      <th>12</th>\n",
       "      <td>12</td>\n",
       "      <td>4.0</td>\n",
       "      <td>56957</td>\n",
       "    </tr>\n",
       "    <tr>\n",
       "      <th>13</th>\n",
       "      <td>13</td>\n",
       "      <td>4.1</td>\n",
       "      <td>57081</td>\n",
       "    </tr>\n",
       "  </tbody>\n",
       "</table>\n",
       "</div>"
      ],
      "text/plain": [
       "    Index  YearsExperience  Salary\n",
       "0       0              1.0   32383\n",
       "1       1              1.1   45207\n",
       "2       2              1.3   39751\n",
       "3       3              2.0   43525\n",
       "4       4              2.2   39891\n",
       "5       5              2.7   56642\n",
       "6       6              3.0   60150\n",
       "7       7              3.2   54445\n",
       "8       8              3.2   64445\n",
       "9       9              3.7   57189\n",
       "10     10              3.9   63218\n",
       "11     11              4.0   55794\n",
       "12     12              4.0   56957\n",
       "13     13              4.1   57081"
      ]
     },
     "execution_count": 1,
     "metadata": {},
     "output_type": "execute_result"
    }
   ],
   "source": [
    "import numpy \n",
    "import matplotlib.pyplot as plot\n",
    "import pandas \n",
    "path = r'C:\\Users\\Home\\jupyter works\\CSV\\Salary_Data.csv'\n",
    "dataframe = pandas.read_csv(path)\n",
    "dataframe"
   ]
  },
  {
   "cell_type": "code",
   "execution_count": 2,
   "metadata": {},
   "outputs": [
    {
     "name": "stdout",
     "output_type": "stream",
     "text": [
      "[1.  1.1 1.3 2.  2.2 2.7 3.  3.2 3.2 3.7 3.9 4.  4.  4.1]\n",
      "[32383. 45207. 39751. 43525. 39891. 56642. 60150. 54445. 64445. 57189.\n",
      " 63218. 55794. 56957. 57081.]\n",
      "[3.2 3.  2.2 4.  1.3] [64445. 60150. 39891. 55794. 39751.]\n"
     ]
    }
   ],
   "source": [
    "df_array = dataframe.values\n",
    "x = df_array[:,1]\n",
    "print(x)\n",
    "y = df_array[:,2]\n",
    "print(y)\n",
    "\n",
    "from sklearn.model_selection import train_test_split\n",
    "x_train, x_test, y_train, y_test = train_test_split(x,y,test_size = 0.3, random_state=0)\n",
    "print(x_test,y_test)\n",
    "\n",
    "# in simple linear regression we dont have to perform \n",
    "# feature scaling because it is managed internally."
   ]
  },
  {
   "cell_type": "code",
   "execution_count": 12,
   "metadata": {},
   "outputs": [
    {
     "name": "stdout",
     "output_type": "stream",
     "text": [
      "0.7937829460315858\n",
      "0.5681753559884337\n"
     ]
    }
   ],
   "source": [
    "# fitting simple linear regression to training set\n",
    "from sklearn.linear_model import LinearRegression\n",
    "regressor = LinearRegression()\n",
    "d2_x_train = x_train.reshape(-1,1)\n",
    "regressor.fit(d2_x_train,y_train)\n"
   ]
  },
  {
   "cell_type": "code",
   "execution_count": 4,
   "metadata": {},
   "outputs": [
    {
     "name": "stdout",
     "output_type": "stream",
     "text": [
      "actual predicted\n",
      "64445.0 54242.379697862925\n",
      "60150.0 52853.06245394252\n",
      "39891.0 47295.793478260865\n",
      "55794.0 59799.64867354458\n",
      "39751.0 41043.86588061901\n",
      "actual predicted\n",
      "57081.0 60494.30729550478\n",
      "57189.0 57715.67280766396\n",
      "45207.0 39654.54863669859\n",
      "54445.0 54242.379697862925\n",
      "63218.0 59104.99005158438\n",
      "43525.0 45906.47623434045\n",
      "32383.0 38959.89001473838\n",
      "56642.0 50769.086588061895\n",
      "56957.0 59799.64867354458\n"
     ]
    }
   ],
   "source": [
    "# predicting the values\n",
    "\n",
    "y_pred = regressor.predict(x_test.reshape(-1,1))\n",
    "print(\"actual\", \"predicted\")\n",
    "for i in range(0,len(y_pred)):\n",
    "    print(y_test[i], y_pred[i])\n",
    "    \n",
    "# prediction of training data\n",
    "train_pred = regressor.predict(d2_x_train)\n",
    "print(\"actual\", \"predicted\")\n",
    "for i in range(0,len(train_pred)):\n",
    "    print(y_train[i], train_pred[i])\n",
    "    \n",
    "\n"
   ]
  },
  {
   "cell_type": "code",
   "execution_count": 6,
   "metadata": {
    "scrolled": true
   },
   "outputs": [
    {
     "data": {
      "image/png": "[encoded data removed]",
      "text/plain": [
       "<Figure size 432x288 with 1 Axes>"
      ]
     },
     "metadata": {
      "needs_background": "light"
     },
     "output_type": "display_data"
    },
    {
     "data": {
      "image/png": "[encoded data removed]",
      "text/plain": [
       "<Figure size 432x288 with 1 Axes>"
      ]
     },
     "metadata": {
      "needs_background": "light"
     },
     "output_type": "display_data"
    }
   ],
   "source": [
    "# visuals \n",
    "plot.scatter(x_train, y_train, color=\"green\")\n",
    "plot.plot(x_train,train_pred,color='red')\n",
    "plot.title(\"Salary vs Experience (Training Dataset)\")  \n",
    "plot.xlabel(\"Years of Experience\")  \n",
    "plot.ylabel(\"Salary(In Rupees)\")  \n",
    "plot.show()   \n",
    "\n",
    "plot.scatter(x_test, y_test, color=\"green\")\n",
    "plot.plot(x_test,y_pred,color='red')\n",
    "plot.title(\"Salary vs Experience (Test Dataset)\")  \n",
    "plot.show()"
   ]
  },
  {
   "cell_type": "code",
   "execution_count": 13,
   "metadata": {},
   "outputs": [
    {
     "name": "stdout",
     "output_type": "stream",
     "text": [
      "0.7937829460315858\n",
      "0.5681753559884337\n"
     ]
    }
   ],
   "source": [
    "# Accuracy of model\n",
    "# calculating Root mean square value or variance\n",
    "r_square_train = regressor.score(x_train.reshape(-1,1),y_train)\n",
    "print(r_square_train)\n",
    "r_square_test = regressor.score(x_test.reshape(-1,1),y_test)\n",
    "print(r_square_test)\n",
    "\n",
    "# this is a case of overfitting."
   ]
  },
  {
   "cell_type": "code",
   "execution_count": null,
   "metadata": {},
   "outputs": [],
   "source": []
  }
 ],
 "metadata": {
  "kernelspec": {
   "display_name": "Python 3",
   "language": "python",
   "name": "python3"
  },
  "language_info": {
   "codemirror_mode": {
    "name": "ipython",
    "version": 3
   },
   "file_extension": ".py",
   "mimetype": "text/x-python",
   "name": "python",
   "nbconvert_exporter": "python",
   "pygments_lexer": "ipython3",
   "version": "3.8.5"
  }
 },
 "nbformat": 4,
 "nbformat_minor": 4
}
