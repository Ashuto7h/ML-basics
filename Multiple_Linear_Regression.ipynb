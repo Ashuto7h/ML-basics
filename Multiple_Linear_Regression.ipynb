{
  "nbformat": 4,
  "nbformat_minor": 0,
  "metadata": {
    "kernelspec": {
      "display_name": "Python 3",
      "language": "python",
      "name": "python3"
    },
    "language_info": {
      "codemirror_mode": {
        "name": "ipython",
        "version": 3
      },
      "file_extension": ".py",
      "mimetype": "text/x-python",
      "name": "python",
      "nbconvert_exporter": "python",
      "pygments_lexer": "ipython3",
      "version": "3.8.5"
    },
    "colab": {
      "name": "ML Basics 4 ++ Multiple Linear Regression .ipynb",
      "provenance": [],
      "include_colab_link": true
    }
  },
  "cells": [
    {
      "cell_type": "markdown",
      "metadata": {
        "id": "view-in-github",
        "colab_type": "text"
      },
      "source": [
        "<a href=\"https://colab.research.google.com/github/Ashuto7h/ML-basics/blob/main/Multiple_Linear_Regression.ipynb\" target=\"_parent\"><img src=\"https://colab.research.google.com/assets/colab-badge.svg\" alt=\"Open In Colab\"/></a>"
      ]
    },
    {
      "cell_type": "markdown",
      "metadata": {
        "id": "n5iI6ORgS562"
      },
      "source": [
        "# Multiple Linear Regression\n",
        "\n",
        "In most of the cases the prediction is based on more than one features. In this regression we plot data points in a multiple dimension.\n"
      ]
    },
    {
      "cell_type": "markdown",
      "metadata": {
        "id": "3EnNXLMJS57C"
      },
      "source": [
        "## About DataSet\n",
        "The data taken in this tutorial is from UCI Machine learning repository.\n",
        "\n",
        "link = https://archive.ics.uci.edu/ml/datasets/Combined+Cycle+Power+Plant\n",
        "\n",
        "The dataset contains 9568 data points collected from a Combined Cycle Power Plant over 6 years (2006-2011), when the power plant was set to work with full load. Features consist of hourly average ambient variables Temperature (T), Ambient Pressure (AP), Relative Humidity (RH) and Exhaust Vacuum (V) to __predict the net hourly electrical energy output (EP)__ of the plant.\n",
        "\n",
        "#### Attribute Information:\n",
        "\n",
        "Features consist of hourly average ambient variables\n",
        "- Temperature (AT) in the range 1.81°C and 37.11°C,\n",
        "- Ambient Pressure (AP) in the range 992.89-1033.30 milibar,\n",
        "- Relative Humidity (RH) in the range 25.56% to 100.16%\n",
        "- Exhaust Vacuum (V) in teh range 25.36-81.56 cm Hg\n",
        "- Net hourly electrical energy output (PE) 420.26-495.76 MW\n",
        "\n",
        "The averages are taken from various sensors located around the plant that record the ambient variables every second. The variables are given without normalization. "
      ]
    },
    {
      "cell_type": "code",
      "metadata": {
        "id": "W3FN3JapS57D",
        "outputId": "5ef26931-1e9d-486a-f56e-59ac51d0f98a"
      },
      "source": [
        "import pandas\n",
        "path = r\"C:\\Users\\Home\\jupyter works\\CSV\\CCPP_data_set.csv\"\n",
        "dataframe = pandas.read_csv(path)\n",
        "dataframe.info()\n",
        "dataframe.head(10)"
      ],
      "execution_count": null,
      "outputs": [
        {
          "output_type": "stream",
          "text": [
            "<class 'pandas.core.frame.DataFrame'>\n",
            "RangeIndex: 9568 entries, 0 to 9567\n",
            "Data columns (total 5 columns):\n",
            " #   Column  Non-Null Count  Dtype  \n",
            "---  ------  --------------  -----  \n",
            " 0   AT      9568 non-null   float64\n",
            " 1   V       9568 non-null   float64\n",
            " 2   AP      9568 non-null   float64\n",
            " 3   RH      9568 non-null   float64\n",
            " 4   PE      9568 non-null   float64\n",
            "dtypes: float64(5)\n",
            "memory usage: 373.9 KB\n"
          ],
          "name": "stdout"
        },
        {
          "output_type": "execute_result",
          "data": {
            "text/html": [
              "<div>\n",
              "<style scoped>\n",
              "    .dataframe tbody tr th:only-of-type {\n",
              "        vertical-align: middle;\n",
              "    }\n",
              "\n",
              "    .dataframe tbody tr th {\n",
              "        vertical-align: top;\n",
              "    }\n",
              "\n",
              "    .dataframe thead th {\n",
              "        text-align: right;\n",
              "    }\n",
              "</style>\n",
              "<table border=\"1\" class=\"dataframe\">\n",
              "  <thead>\n",
              "    <tr style=\"text-align: right;\">\n",
              "      <th></th>\n",
              "      <th>AT</th>\n",
              "      <th>V</th>\n",
              "      <th>AP</th>\n",
              "      <th>RH</th>\n",
              "      <th>PE</th>\n",
              "    </tr>\n",
              "  </thead>\n",
              "  <tbody>\n",
              "    <tr>\n",
              "      <th>0</th>\n",
              "      <td>14.96</td>\n",
              "      <td>41.76</td>\n",
              "      <td>1024.07</td>\n",
              "      <td>73.17</td>\n",
              "      <td>463.26</td>\n",
              "    </tr>\n",
              "    <tr>\n",
              "      <th>1</th>\n",
              "      <td>25.18</td>\n",
              "      <td>62.96</td>\n",
              "      <td>1020.04</td>\n",
              "      <td>59.08</td>\n",
              "      <td>444.37</td>\n",
              "    </tr>\n",
              "    <tr>\n",
              "      <th>2</th>\n",
              "      <td>5.11</td>\n",
              "      <td>39.40</td>\n",
              "      <td>1012.16</td>\n",
              "      <td>92.14</td>\n",
              "      <td>488.56</td>\n",
              "    </tr>\n",
              "    <tr>\n",
              "      <th>3</th>\n",
              "      <td>20.86</td>\n",
              "      <td>57.32</td>\n",
              "      <td>1010.24</td>\n",
              "      <td>76.64</td>\n",
              "      <td>446.48</td>\n",
              "    </tr>\n",
              "    <tr>\n",
              "      <th>4</th>\n",
              "      <td>10.82</td>\n",
              "      <td>37.50</td>\n",
              "      <td>1009.23</td>\n",
              "      <td>96.62</td>\n",
              "      <td>473.90</td>\n",
              "    </tr>\n",
              "    <tr>\n",
              "      <th>5</th>\n",
              "      <td>26.27</td>\n",
              "      <td>59.44</td>\n",
              "      <td>1012.23</td>\n",
              "      <td>58.77</td>\n",
              "      <td>443.67</td>\n",
              "    </tr>\n",
              "    <tr>\n",
              "      <th>6</th>\n",
              "      <td>15.89</td>\n",
              "      <td>43.96</td>\n",
              "      <td>1014.02</td>\n",
              "      <td>75.24</td>\n",
              "      <td>467.35</td>\n",
              "    </tr>\n",
              "    <tr>\n",
              "      <th>7</th>\n",
              "      <td>9.48</td>\n",
              "      <td>44.71</td>\n",
              "      <td>1019.12</td>\n",
              "      <td>66.43</td>\n",
              "      <td>478.42</td>\n",
              "    </tr>\n",
              "    <tr>\n",
              "      <th>8</th>\n",
              "      <td>14.64</td>\n",
              "      <td>45.00</td>\n",
              "      <td>1021.78</td>\n",
              "      <td>41.25</td>\n",
              "      <td>475.98</td>\n",
              "    </tr>\n",
              "    <tr>\n",
              "      <th>9</th>\n",
              "      <td>11.74</td>\n",
              "      <td>43.56</td>\n",
              "      <td>1015.14</td>\n",
              "      <td>70.72</td>\n",
              "      <td>477.50</td>\n",
              "    </tr>\n",
              "  </tbody>\n",
              "</table>\n",
              "</div>"
            ],
            "text/plain": [
              "      AT      V       AP     RH      PE\n",
              "0  14.96  41.76  1024.07  73.17  463.26\n",
              "1  25.18  62.96  1020.04  59.08  444.37\n",
              "2   5.11  39.40  1012.16  92.14  488.56\n",
              "3  20.86  57.32  1010.24  76.64  446.48\n",
              "4  10.82  37.50  1009.23  96.62  473.90\n",
              "5  26.27  59.44  1012.23  58.77  443.67\n",
              "6  15.89  43.96  1014.02  75.24  467.35\n",
              "7   9.48  44.71  1019.12  66.43  478.42\n",
              "8  14.64  45.00  1021.78  41.25  475.98\n",
              "9  11.74  43.56  1015.14  70.72  477.50"
            ]
          },
          "metadata": {
            "tags": []
          },
          "execution_count": 1
        }
      ]
    },
    {
      "cell_type": "code",
      "metadata": {
        "id": "ThtUUxRMS57G",
        "outputId": "c6d3bdec-aaf3-442f-d534-47e0520d6236"
      },
      "source": [
        "# extracting independent and dependent variables\n",
        "x = dataframe.iloc[:,:-1].values  # index based\n",
        "y = dataframe.loc[:,\"PE\"].values  # value based\n",
        "print(x[0],\"\\n\",y[0])"
      ],
      "execution_count": null,
      "outputs": [
        {
          "output_type": "stream",
          "text": [
            "[  14.96   41.76 1024.07   73.17] \n",
            " 463.26\n"
          ],
          "name": "stdout"
        }
      ]
    },
    {
      "cell_type": "markdown",
      "metadata": {
        "id": "84CrMZ5TS57I"
      },
      "source": [
        "### Feature Scaling\n",
        "In Multiple Linear Regression also, we dont have to do feature scaling, because it is internally handled by the library."
      ]
    },
    {
      "cell_type": "code",
      "metadata": {
        "id": "YRegohUvS57K",
        "outputId": "05c5b67a-0c21-476a-f263-5dd52f58c11a"
      },
      "source": [
        "#  splitting data\n",
        "from sklearn.model_selection import train_test_split\n",
        "x_train, x_test, y_train, y_test = train_test_split(x,y,test_size = 0.2, random_state=0)\n",
        "\n",
        "# fitting model to training set\n",
        "from sklearn.linear_model import LinearRegression\n",
        "model = LinearRegression()\n",
        "model.fit(x_train,y_train)"
      ],
      "execution_count": null,
      "outputs": [
        {
          "output_type": "execute_result",
          "data": {
            "text/plain": [
              "LinearRegression()"
            ]
          },
          "metadata": {
            "tags": []
          },
          "execution_count": 3
        }
      ]
    },
    {
      "cell_type": "code",
      "metadata": {
        "id": "cR6zO1riS57L",
        "outputId": "d18f90af-0dff-448e-a27b-fc1400b30f03"
      },
      "source": [
        "# predictions\n",
        "y_pred = model.predict(x_test)\n",
        "print(\"actual     predicted\")\n",
        "for i in range(0,5):\n",
        "    print(\"{:.2f}     {:.2f}\".format(y_test[i], y_pred[i]))"
      ],
      "execution_count": null,
      "outputs": [
        {
          "output_type": "stream",
          "text": [
            "actual     predicted\n",
            "431.23     431.43\n",
            "460.01     458.56\n",
            "461.14     462.75\n",
            "445.90     448.60\n",
            "451.29     457.87\n"
          ],
          "name": "stdout"
        }
      ]
    },
    {
      "cell_type": "code",
      "metadata": {
        "id": "VrkHsSzIS57M",
        "outputId": "43989a10-25c4-4e4f-fb3f-05d9c0f0a24e"
      },
      "source": [
        "# Scores\n",
        "r_sq = model.score(x,y)\n",
        "r_sq_train = model.score(x_train,y_train)\n",
        "r_sq_test = model.score(x_test,y_test)\n",
        "print(\"r_sq : \",r_sq, r_sq_train, r_sq_test)\n",
        "\n",
        "# to find error = 1 - r_sq\n",
        "\n",
        "print('intercept :', model.intercept_ )\n",
        "print('slope :', model.coef_)\n"
      ],
      "execution_count": null,
      "outputs": [
        {
          "output_type": "stream",
          "text": [
            "r_sq :  0.9286947104407257 0.9277253998587902 0.9325315554761303\n",
            "intercept : 452.8410371616384\n",
            "slope : [-1.97313099 -0.23649993  0.06387891 -0.15807019]\n"
          ],
          "name": "stdout"
        }
      ]
    },
    {
      "cell_type": "markdown",
      "metadata": {
        "id": "VSb8pHKvS57O"
      },
      "source": [
        "value of r_sq tells that the accuracy of whole model is 92.86% while that of training set is 92.77% and of test set is 93.25%\n",
        "\n",
        "eq of dependent variable is \n",
        "<br>\n",
        "y = b0 + b1X1 + b2X2......\n",
        "<br>\n",
        "where b0 is intercept and\n",
        "<br>\n",
        "coefficients b1,b2,... are shown as an array.\n",
        "<br>\n",
        "the predictions are made by putting values in above equation"
      ]
    },
    {
      "cell_type": "markdown",
      "metadata": {
        "id": "rNVT95B9S57P"
      },
      "source": [
        "# Backwad Elimination Method\n",
        "\n",
        "Backward Elimination is a feature selection technique, used to remove the features which are not effective in prediction.\n",
        "\n",
        "Steps : \n",
        "- Select a Significance level (P-value) generally (SL = 0.05)\n",
        "- fit the model with all posible predictors\n",
        "- find p-values of all predictors\n",
        "- remove the predictor with highest p value then fit model again and repeat the process till p-value is greater than 0.05\n",
        "\n"
      ]
    },
    {
      "cell_type": "code",
      "metadata": {
        "id": "5uK-COvrS57P",
        "outputId": "2733ed7d-7a68-4467-8cb9-54e40ddd8f56"
      },
      "source": [
        "import statsmodels.regression.linear_model as sm\n",
        "import numpy\n",
        "print(x[0])\n",
        "# add a column of values = 1 (int)\n",
        "be_x = numpy.append(arr = numpy.ones((9568,1)).astype(int), values = x, axis=1)\n",
        "print(be_x[0:5])\n"
      ],
      "execution_count": null,
      "outputs": [
        {
          "output_type": "stream",
          "text": [
            "[  14.96   41.76 1024.07   73.17]\n",
            "[[1.00000e+00 1.49600e+01 4.17600e+01 1.02407e+03 7.31700e+01]\n",
            " [1.00000e+00 2.51800e+01 6.29600e+01 1.02004e+03 5.90800e+01]\n",
            " [1.00000e+00 5.11000e+00 3.94000e+01 1.01216e+03 9.21400e+01]\n",
            " [1.00000e+00 2.08600e+01 5.73200e+01 1.01024e+03 7.66400e+01]\n",
            " [1.00000e+00 1.08200e+01 3.75000e+01 1.00923e+03 9.66200e+01]]\n"
          ],
          "name": "stdout"
        }
      ]
    },
    {
      "cell_type": "code",
      "metadata": {
        "id": "8-eKClpVS57R",
        "outputId": "269e526d-5150-4e8d-dc65-899db860b775"
      },
      "source": [
        "# finding significance level\n",
        "x_opt = be_x[:,[0,1,2,3,4]]\n",
        "ols = sm.OLS(endog = y, exog = x_opt).fit()\n",
        "ols.summary()\n",
        "\n",
        "# means every variable of this dataset is necessa"
      ],
      "execution_count": null,
      "outputs": [
        {
          "output_type": "execute_result",
          "data": {
            "text/html": [
              "<table class=\"simpletable\">\n",
              "<caption>OLS Regression Results</caption>\n",
              "<tr>\n",
              "  <th>Dep. Variable:</th>            <td>y</td>        <th>  R-squared:         </th> <td>   0.929</td> \n",
              "</tr>\n",
              "<tr>\n",
              "  <th>Model:</th>                   <td>OLS</td>       <th>  Adj. R-squared:    </th> <td>   0.929</td> \n",
              "</tr>\n",
              "<tr>\n",
              "  <th>Method:</th>             <td>Least Squares</td>  <th>  F-statistic:       </th> <td>3.114e+04</td>\n",
              "</tr>\n",
              "<tr>\n",
              "  <th>Date:</th>             <td>Sun, 25 Oct 2020</td> <th>  Prob (F-statistic):</th>  <td>  0.00</td>  \n",
              "</tr>\n",
              "<tr>\n",
              "  <th>Time:</th>                 <td>17:31:18</td>     <th>  Log-Likelihood:    </th> <td> -28088.</td> \n",
              "</tr>\n",
              "<tr>\n",
              "  <th>No. Observations:</th>      <td>  9568</td>      <th>  AIC:               </th> <td>5.619e+04</td>\n",
              "</tr>\n",
              "<tr>\n",
              "  <th>Df Residuals:</th>          <td>  9563</td>      <th>  BIC:               </th> <td>5.622e+04</td>\n",
              "</tr>\n",
              "<tr>\n",
              "  <th>Df Model:</th>              <td>     4</td>      <th>                     </th>     <td> </td>    \n",
              "</tr>\n",
              "<tr>\n",
              "  <th>Covariance Type:</th>      <td>nonrobust</td>    <th>                     </th>     <td> </td>    \n",
              "</tr>\n",
              "</table>\n",
              "<table class=\"simpletable\">\n",
              "<tr>\n",
              "    <td></td>       <th>coef</th>     <th>std err</th>      <th>t</th>      <th>P>|t|</th>  <th>[0.025</th>    <th>0.975]</th>  \n",
              "</tr>\n",
              "<tr>\n",
              "  <th>const</th> <td>  454.6093</td> <td>    9.749</td> <td>   46.634</td> <td> 0.000</td> <td>  435.500</td> <td>  473.718</td>\n",
              "</tr>\n",
              "<tr>\n",
              "  <th>x1</th>    <td>   -1.9775</td> <td>    0.015</td> <td> -129.342</td> <td> 0.000</td> <td>   -2.007</td> <td>   -1.948</td>\n",
              "</tr>\n",
              "<tr>\n",
              "  <th>x2</th>    <td>   -0.2339</td> <td>    0.007</td> <td>  -32.122</td> <td> 0.000</td> <td>   -0.248</td> <td>   -0.220</td>\n",
              "</tr>\n",
              "<tr>\n",
              "  <th>x3</th>    <td>    0.0621</td> <td>    0.009</td> <td>    6.564</td> <td> 0.000</td> <td>    0.044</td> <td>    0.081</td>\n",
              "</tr>\n",
              "<tr>\n",
              "  <th>x4</th>    <td>   -0.1581</td> <td>    0.004</td> <td>  -37.918</td> <td> 0.000</td> <td>   -0.166</td> <td>   -0.150</td>\n",
              "</tr>\n",
              "</table>\n",
              "<table class=\"simpletable\">\n",
              "<tr>\n",
              "  <th>Omnibus:</th>       <td>892.002</td> <th>  Durbin-Watson:     </th> <td>   2.033</td>\n",
              "</tr>\n",
              "<tr>\n",
              "  <th>Prob(Omnibus):</th> <td> 0.000</td>  <th>  Jarque-Bera (JB):  </th> <td>4086.777</td>\n",
              "</tr>\n",
              "<tr>\n",
              "  <th>Skew:</th>          <td>-0.352</td>  <th>  Prob(JB):          </th> <td>    0.00</td>\n",
              "</tr>\n",
              "<tr>\n",
              "  <th>Kurtosis:</th>      <td> 6.123</td>  <th>  Cond. No.          </th> <td>2.13e+05</td>\n",
              "</tr>\n",
              "</table><br/><br/>Notes:<br/>[1] Standard Errors assume that the covariance matrix of the errors is correctly specified.<br/>[2] The condition number is large, 2.13e+05. This might indicate that there are<br/>strong multicollinearity or other numerical problems."
            ],
            "text/plain": [
              "<class 'statsmodels.iolib.summary.Summary'>\n",
              "\"\"\"\n",
              "                            OLS Regression Results                            \n",
              "==============================================================================\n",
              "Dep. Variable:                      y   R-squared:                       0.929\n",
              "Model:                            OLS   Adj. R-squared:                  0.929\n",
              "Method:                 Least Squares   F-statistic:                 3.114e+04\n",
              "Date:                Sun, 25 Oct 2020   Prob (F-statistic):               0.00\n",
              "Time:                        17:31:18   Log-Likelihood:                -28088.\n",
              "No. Observations:                9568   AIC:                         5.619e+04\n",
              "Df Residuals:                    9563   BIC:                         5.622e+04\n",
              "Df Model:                           4                                         \n",
              "Covariance Type:            nonrobust                                         \n",
              "==============================================================================\n",
              "                 coef    std err          t      P>|t|      [0.025      0.975]\n",
              "------------------------------------------------------------------------------\n",
              "const        454.6093      9.749     46.634      0.000     435.500     473.718\n",
              "x1            -1.9775      0.015   -129.342      0.000      -2.007      -1.948\n",
              "x2            -0.2339      0.007    -32.122      0.000      -0.248      -0.220\n",
              "x3             0.0621      0.009      6.564      0.000       0.044       0.081\n",
              "x4            -0.1581      0.004    -37.918      0.000      -0.166      -0.150\n",
              "==============================================================================\n",
              "Omnibus:                      892.002   Durbin-Watson:                   2.033\n",
              "Prob(Omnibus):                  0.000   Jarque-Bera (JB):             4086.777\n",
              "Skew:                          -0.352   Prob(JB):                         0.00\n",
              "Kurtosis:                       6.123   Cond. No.                     2.13e+05\n",
              "==============================================================================\n",
              "\n",
              "Notes:\n",
              "[1] Standard Errors assume that the covariance matrix of the errors is correctly specified.\n",
              "[2] The condition number is large, 2.13e+05. This might indicate that there are\n",
              "strong multicollinearity or other numerical problems.\n",
              "\"\"\""
            ]
          },
          "metadata": {
            "tags": []
          },
          "execution_count": 9
        }
      ]
    },
    {
      "cell_type": "code",
      "metadata": {
        "id": "R97JBX0fS57T"
      },
      "source": [
        ""
      ],
      "execution_count": null,
      "outputs": []
    }
  ]
}