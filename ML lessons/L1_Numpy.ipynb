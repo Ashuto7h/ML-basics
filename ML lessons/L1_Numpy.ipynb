{
 "cells": [
  {
   "cell_type": "markdown",
   "metadata": {
    "id": "95j3k4w9lUPs"
   },
   "source": [
    "# Exploratory Data Analysis (EDA)\n",
    "\n",
    "lib required = numpy, pandas, \n",
    "matplotlib,seaborn\n",
    "\n"
   ]
  },
  {
   "cell_type": "code",
   "execution_count": 1,
   "metadata": {
    "colab": {
     "base_uri": "https://localhost:8080/"
    },
    "id": "gNDh004LiYxU",
    "outputId": "c9557776-fd74-4abc-bf89-883ff66cf081"
   },
   "outputs": [
    {
     "output_type": "stream",
     "name": "stdout",
     "text": [
      "1.19.1 | 1.1.3 | 3.3.2 | 0.11.0\n"
     ]
    }
   ],
   "source": [
    "import numpy\n",
    "import pandas\n",
    "import matplotlib as mpl\n",
    "import seaborn\n",
    "print(numpy.__version__, pandas.__version__, mpl.__version__, seaborn.__version__, sep=\" | \")\n"
   ]
  },
  {
   "cell_type": "markdown",
   "metadata": {
    "id": "O8Cz383XxLbM"
   },
   "source": [
    "# Numpy\n",
    "#### How to create numpy array"
   ]
  },
  {
   "cell_type": "code",
   "execution_count": 2,
   "metadata": {
    "colab": {
     "base_uri": "https://localhost:8080/"
    },
    "id": "tfiVD7gUxKL9",
    "outputId": "7f09d659-ca4c-4120-be3b-3ff9741504d5"
   },
   "outputs": [
    {
     "output_type": "stream",
     "name": "stdout",
     "text": [
      "[1 2 3] <class 'numpy.ndarray'>\n[0 1 2 3 4] <class 'numpy.ndarray'>\n"
     ]
    }
   ],
   "source": [
    "# from list\n",
    "a = numpy.array([1,2,3])\n",
    "print(a, type(a))\n",
    "\n",
    "# using arange\n",
    "b = numpy.arange(5)\n",
    "print(b, type(b))"
   ]
  },
  {
   "cell_type": "markdown",
   "metadata": {
    "id": "mhMqMQjKxypd"
   },
   "source": [
    "#### Why we moved from list or any other container to numpy array"
   ]
  },
  {
   "cell_type": "code",
   "execution_count": 3,
   "metadata": {
    "colab": {
     "base_uri": "https://localhost:8080/"
    },
    "id": "5BJSB2cFx546",
    "outputId": "792563c1-a19e-4378-f28c-29495582d903"
   },
   "outputs": [
    {
     "output_type": "stream",
     "name": "stdout",
     "text": [
      "548 µs ± 38 µs per loop (mean ± std. dev. of 7 runs, 1000 loops each)\n"
     ]
    }
   ],
   "source": [
    "l = list(range(1000))\n",
    "%timeit [i**2 for i in l]"
   ]
  },
  {
   "cell_type": "code",
   "execution_count": 4,
   "metadata": {
    "colab": {
     "base_uri": "https://localhost:8080/"
    },
    "id": "BpuhE0HvyZla",
    "outputId": "9cab565b-981f-432f-e3fd-fb4c0ef9f76e"
   },
   "outputs": [
    {
     "output_type": "stream",
     "name": "stdout",
     "text": [
      "4.71 µs ± 615 ns per loop (mean ± std. dev. of 7 runs, 100000 loops each)\n"
     ]
    }
   ],
   "source": [
    "# doing same thing in numpy array\n",
    "l1 = numpy.arange(1000)\n",
    "%timeit numpy.array(i**2 for i in l1)\n",
    "\n",
    "# the time taken is about 100 to 150 times faster"
   ]
  },
  {
   "cell_type": "markdown",
   "metadata": {
    "id": "lr59nBIUxyg3"
   },
   "source": [
    "#### Checking dimension, shape and length\n",
    "\n",
    "_ndim in ML can be representation of number of features_"
   ]
  },
  {
   "cell_type": "code",
   "execution_count": 5,
   "metadata": {
    "colab": {
     "base_uri": "https://localhost:8080/"
    },
    "id": "ZTkd2oTezpAo",
    "outputId": "8eb00f46-651b-4221-ccd9-4b8fd59395d8"
   },
   "outputs": [
    {
     "output_type": "stream",
     "name": "stdout",
     "text": [
      "[1 2 3]\n<class 'numpy.ndarray'>\n1\n(3,)\n3\n"
     ]
    }
   ],
   "source": [
    "a = numpy.array([1,2,3])\n",
    "print(a)\n",
    "print(type(a))\n",
    "print(a.ndim) # this tells the no. of dimensions\n",
    "print(a.shape) # format = (row, no_of_el_in_row, .... no of el in <==)\n",
    "print(len(a)) # if one dim, no. of elements returned. else no. of rows is returned"
   ]
  },
  {
   "cell_type": "code",
   "execution_count": 6,
   "metadata": {
    "colab": {
     "base_uri": "https://localhost:8080/"
    },
    "id": "DQzyYemF0ss0",
    "outputId": "1f98683a-8ee2-4ca6-a34e-b56fe604c575"
   },
   "outputs": [
    {
     "output_type": "stream",
     "name": "stdout",
     "text": [
      "2\n(2, 3)\n2\n[[[1 2]\n  [3 4]]\n\n [[5 6]\n  [7 8]]]\n3\n(2, 2, 2)\n2\n"
     ]
    }
   ],
   "source": [
    "# 2d array\n",
    "\n",
    "b = numpy.array([[1,2,3],[4,5,6]])\n",
    "print(b.ndim)\n",
    "print(b.shape)\n",
    "print(len(b))\n",
    "\n",
    "# 3d array\n",
    "c = numpy.array([[[1,2],[3,4]],[[5,6],[7,8]]])\n",
    "print(c)\n",
    "print(c.ndim)\n",
    "print(c.shape)\n",
    "print(len(c))"
   ]
  },
  {
   "cell_type": "markdown",
   "metadata": {
    "id": "prj2TnZv4kg9"
   },
   "source": [
    "#### numpy.linspace()"
   ]
  },
  {
   "cell_type": "code",
   "execution_count": 7,
   "metadata": {
    "colab": {
     "base_uri": "https://localhost:8080/"
    },
    "id": "2_1szQah1-G6",
    "outputId": "8e651ca5-f96c-44bd-c313-759d20014232"
   },
   "outputs": [
    {
     "output_type": "stream",
     "name": "stdout",
     "text": [
      "[0.  0.2 0.4 0.6 0.8 1. ]\n"
     ]
    }
   ],
   "source": [
    "a = numpy.linspace(0,1,6) # 0 to 1 6 elements\n",
    "print(a)"
   ]
  },
  {
   "cell_type": "markdown",
   "metadata": {
    "id": "SiSppJEr53Aw"
   },
   "source": [
    "#### other useful functions\n",
    "ones(), zeros(), eye(), diag(), rand(), randn()\n",
    "\n",
    "\n"
   ]
  },
  {
   "cell_type": "code",
   "execution_count": 8,
   "metadata": {
    "colab": {
     "base_uri": "https://localhost:8080/"
    },
    "id": "GZdtWUV75kBW",
    "outputId": "29f8e482-23cc-415f-d85d-59cf3d7f9cf9"
   },
   "outputs": [
    {
     "output_type": "stream",
     "name": "stdout",
     "text": [
      "[[1. 0. 0.]\n",
      " [0. 1. 0.]\n",
      " [0. 0. 1.]]\n",
      "[[1. 0. 0.]\n",
      " [0. 1. 0.]]\n",
      "[[1 0 0 0]\n",
      " [0 2 0 0]\n",
      " [0 0 3 0]\n",
      " [0 0 0 4]]\n",
      "<class 'numpy.ndarray'>\n",
      "[1 2 3 4]\n",
      "<class 'numpy.ndarray'>\n",
      "[0.32810586 0.31904028 0.09036905 0.54084169]\n",
      "[-0.69252954  1.65063567 -2.37669454  2.53358099]\n"
     ]
    }
   ],
   "source": [
    "b = numpy.ones((3,3))\n",
    "c = numpy.zeros((3,4))\n",
    "\n",
    "d = numpy.eye(3)\n",
    "print(d)\n",
    "d = numpy.eye(2,3)\n",
    "print(d)\n",
    "\n",
    "g = numpy.diag([1,2,3,4]) #generates diagonal array\n",
    "print(g)\n",
    "print(type(g))\n",
    "print(numpy.diag(g)) # returns diagonals of given array\n",
    "print(type(g))\n",
    "\n",
    "#  this is uniform distribution\n",
    "h = numpy.random.rand(4)\n",
    "print(h)\n",
    "\n",
    "# this is gaussian distribution\n",
    "i = numpy.random.randn(4)\n",
    "print(i)\n"
   ]
  },
  {
   "cell_type": "markdown",
   "metadata": {
    "id": "lEWPB2_x8Ck7"
   },
   "source": [
    "#### generating a specific dtype array"
   ]
  },
  {
   "cell_type": "code",
   "execution_count": 9,
   "metadata": {
    "colab": {
     "base_uri": "https://localhost:8080/"
    },
    "id": "f2GDIIHT8B98",
    "outputId": "1b8f35eb-8772-43d7-d3c5-20ecc74a5abe"
   },
   "outputs": [
    {
     "output_type": "stream",
     "name": "stdout",
     "text": [
      "int32\nfloat64\n[0. 1. 2. 3. 4. 5. 6. 7. 8. 9.]\n"
     ]
    }
   ],
   "source": [
    "a = numpy.arange(10)\n",
    "print(a.dtype)\n",
    "\n",
    "a = numpy.arange(10,dtype='float')\n",
    "print(a.dtype)\n",
    "print(a)"
   ]
  },
  {
   "cell_type": "markdown",
   "metadata": {
    "id": "mnlH574EA49D"
   },
   "source": [
    "#### creating copy of array"
   ]
  },
  {
   "cell_type": "code",
   "execution_count": 10,
   "metadata": {
    "colab": {
     "base_uri": "https://localhost:8080/"
    },
    "id": "tkFc4skvBEBP",
    "outputId": "20fb1ba5-77c7-4c46-d02c-e190beb202a2"
   },
   "outputs": [
    {
     "output_type": "stream",
     "name": "stdout",
     "text": [
      "[0 1 2 3 4 5 6 7 8 9]\n",
      "[0 2 4 6 8]\n",
      "\n",
      "[77  1  2  3  4  5  6  7  8  9]\n",
      "[77  2  4  6  8]\n",
      "\n",
      "[77  2  4  6  8]\n",
      "[77  1  2  3  4  5  6  7  8  9]\n",
      "[123   2   4   6   8]\n",
      "\n",
      "False\n"
     ]
    }
   ],
   "source": [
    "a = numpy.arange(10);\n",
    "print(a)\n",
    "b = a[::2] # this just gives reference. not copy the object a\n",
    "print(b)\n",
    "print()\n",
    "\n",
    "b[0] = 77\n",
    "print(a)\n",
    "print(b)\n",
    "print()\n",
    "\n",
    "c = a[::2].copy()\n",
    "print(c)\n",
    "c[0] = 123\n",
    "print(a)\n",
    "print(c)\n",
    "print()\n",
    "\n",
    "print(numpy.shares_memory(a,c)) #tells whether both share same memory\n"
   ]
  },
  {
   "cell_type": "markdown",
   "metadata": {
    "id": "prxXWlmU7KRw"
   },
   "source": []
  },
  {
   "cell_type": "markdown",
   "metadata": {
    "id": "wGgGeORjPLpg"
   },
   "source": [
    "#### Fancy indexing"
   ]
  },
  {
   "cell_type": "code",
   "execution_count": 11,
   "metadata": {
    "colab": {
     "base_uri": "https://localhost:8080/"
    },
    "id": "oX6zfArFPUTI",
    "outputId": "75ab251b-0c99-49b8-c7de-6bf068f46992"
   },
   "outputs": [
    {
     "output_type": "stream",
     "name": "stdout",
     "text": [
      "[19  8 12 10 16 10  7 16  2 17  8 10  8  1 17]\n[False  True  True  True  True  True False  True  True False  True  True\n  True False False]\n[ 8 12 10 16 10 16  2  8 10  8]\n"
     ]
    }
   ],
   "source": [
    "a = numpy.random.randint(0,20,15)\n",
    "print(a)\n",
    "\n",
    "# masking in numpy array\n",
    "mask = (a%2 == 0)\n",
    "print(mask)\n",
    "print(a[mask])"
   ]
  },
  {
   "cell_type": "code",
   "execution_count": 12,
   "metadata": {
    "colab": {
     "base_uri": "https://localhost:8080/"
    },
    "id": "uQdB36-mQK-d",
    "outputId": "b07dad3c-07aa-424f-b2f8-96580f515dc6"
   },
   "outputs": [
    {
     "output_type": "stream",
     "name": "stdout",
     "text": [
      "[ 2 14  1 17 16 13  7  3 18  9]\n",
      "[False False  True  True False  True  True  True False  True]\n",
      "[ 2 14  0 16 16 12  6  2 18  8]\n"
     ]
    }
   ],
   "source": [
    "# mask to find odd number and substract 1 from it.\n",
    "b = numpy.random.randint(0,20,10)\n",
    "print(b)\n",
    "mask = (b%2 == 1)\n",
    "print(mask)\n",
    "b[mask] -= 1\n",
    "print(b)"
   ]
  },
  {
   "cell_type": "markdown",
   "metadata": {
    "id": "MciTjLFIRknB"
   },
   "source": [
    "**Note :** it is possible to index array data in from of integer."
   ]
  },
  {
   "cell_type": "code",
   "execution_count": 13,
   "metadata": {
    "colab": {
     "base_uri": "https://localhost:8080/"
    },
    "id": "0gVAM83mR8cD",
    "outputId": "793408ff-9234-4dfa-fe57-4bf18e6d7964"
   },
   "outputs": [
    {
     "output_type": "stream",
     "name": "stdout",
     "text": [
      "[77 14 77 77 77 12  6 77 18  8]\n"
     ]
    }
   ],
   "source": [
    "b[[0,2,3,4,7]] = 77\n",
    "print(b)"
   ]
  },
  {
   "cell_type": "code",
   "execution_count": 14,
   "metadata": {
    "colab": {
     "base_uri": "https://localhost:8080/"
    },
    "id": "dNUUH1fbSUb5",
    "outputId": "20b732d1-5c38-4ddb-c8cd-fd60945e7ce1"
   },
   "outputs": [
    {
     "output_type": "stream",
     "name": "stdout",
     "text": [
      "[93 93 93 93 77 12  6 77 18  8]\n"
     ]
    }
   ],
   "source": [
    "# variable indexing\n",
    "b[[i for i in range(4)]] = 93\n",
    "print(b)"
   ]
  },
  {
   "cell_type": "markdown",
   "metadata": {
    "id": "coUIUDVJUE0Y"
   },
   "source": [
    "### Operations in Numpy Array\n",
    "\n"
   ]
  },
  {
   "cell_type": "code",
   "execution_count": 15,
   "metadata": {
    "colab": {
     "base_uri": "https://localhost:8080/"
    },
    "id": "rWSbFlbgUKHd",
    "outputId": "12047a6f-3cf1-4814-a3f4-e6a566d900fc"
   },
   "outputs": [
    {
     "output_type": "stream",
     "name": "stdout",
     "text": [
      "[2 3 4 5 6 7]\n[ 1  4  9 16 25 36]\n[[3 3 3]\n [3 3 3]\n [3 3 3]]\n\n[[ 4  0  0]\n [ 0 10  0]\n [ 0  0 18]]\n"
     ]
    }
   ],
   "source": [
    "a = numpy.array([1,2,3,4,5,6])\n",
    "print(a + 1)\n",
    "print(a**2)\n",
    "print(numpy.ones((3,3),dtype='int')*3)\n",
    "\n",
    "a = numpy.diag([4,5,6])\n",
    "b = numpy.diag([1,2,3])\n",
    "print()\n",
    "\n",
    "print(a*b) # in numpy, a*b do element wise multiplication only if shape of both is same."
   ]
  },
  {
   "cell_type": "code",
   "execution_count": 16,
   "metadata": {
    "colab": {
     "base_uri": "https://localhost:8080/"
    },
    "id": "1pjIHczaV7fO",
    "outputId": "e692b68f-013d-434a-e513-8a9a0c85f2a5"
   },
   "outputs": [
    {
     "output_type": "stream",
     "name": "stdout",
     "text": [
      "False\n"
     ]
    }
   ],
   "source": [
    "a == b # if shape is same, it compare individual elements, and return a bool array.\n",
    "\n",
    "print(numpy.array_equal(a,b)) # to compare whole two array "
   ]
  },
  {
   "cell_type": "code",
   "execution_count": 17,
   "metadata": {
    "colab": {
     "base_uri": "https://localhost:8080/"
    },
    "id": "ug8vwi_3V6tT",
    "outputId": "b39bb5fd-9667-4370-e9d6-caf867b07b2c"
   },
   "outputs": [
    {
     "output_type": "stream",
     "name": "stdout",
     "text": [
      "[ True False  True False]\nFalse\nTrue\n"
     ]
    }
   ],
   "source": [
    "a = numpy.array([1,0,1,0], dtype = 'bool')\n",
    "b = numpy.array([1,0,1,1], dtype = 'bool')\n",
    "print(numpy.logical_and(a,b))\n",
    "print(numpy.logical_and(a,b).all())\n",
    "print(numpy.logical_or(a,b).any())"
   ]
  },
  {
   "cell_type": "code",
   "execution_count": 18,
   "metadata": {
    "colab": {
     "base_uri": "https://localhost:8080/"
    },
    "id": "px_y-_2yXQks",
    "outputId": "069632e4-98d8-4c23-dbb8-c81fd663feaa"
   },
   "outputs": [
    {
     "output_type": "stream",
     "name": "stdout",
     "text": [
      "[0.8413 0.     0.8413 0.    ]\n[  0. -inf   0. -inf]\n[2.719 1.    2.719 1.   ]\n"
     ]
    }
   ],
   "source": [
    "print(numpy.sin(a)) # returns sin of all elements\n",
    "print(numpy.log(a))# return log of all elements\n",
    "print(numpy.exp(a)) # returns exponential\n"
   ]
  },
  {
   "cell_type": "code",
   "execution_count": 19,
   "metadata": {
    "colab": {
     "base_uri": "https://localhost:8080/"
    },
    "id": "pmjFiOuRYIQP",
    "outputId": "725cabc1-cdee-41a4-ce8c-d4c29caf2003"
   },
   "outputs": [
    {
     "output_type": "stream",
     "name": "stdout",
     "text": [
      "[[1 2]\n [3 4]]\n10\n[4 6]\n2.5\n1.118033988749895\n"
     ]
    }
   ],
   "source": [
    "x = numpy.array([[1,2],[3,4]])\n",
    "print(x)\n",
    "print(x.sum()) # return sum of all elements\n",
    "print(x.sum(axis=0)) # axis 0 means column major order. returns sum of columns\n",
    "# axis 1 means row major order\n",
    "# by default, mode is column major\n",
    "print(x.mean())\n",
    "# print(x.median()) # median not works on 2d array. only on 1d array\n",
    "print(x.std())\n"
   ]
  },
  {
   "cell_type": "markdown",
   "metadata": {
    "id": "644gIRXubPGf"
   },
   "source": [
    "#### Loading txt file using numpy"
   ]
  },
  {
   "cell_type": "code",
   "execution_count": 20,
   "metadata": {
    "colab": {
     "base_uri": "https://localhost:8080/",
     "height": 487
    },
    "id": "BMJuxVtobN9f",
    "outputId": "9093650f-c8f8-46bd-f588-580614fa3b92"
   },
   "outputs": [
    {
     "output_type": "stream",
     "name": "stdout",
     "text": [
      "[1900. 1901. 1902. 1903. 1904. 1905. 1906. 1907. 1908. 1909. 1910. 1911.\n 1912. 1913. 1914. 1915. 1916. 1917. 1918. 1919. 1920.]\n[1900. 1901. 1902. 1903. 1904. 1905. 1906. 1907. 1908. 1909. 1910. 1911.\n 1912. 1913. 1914. 1915. 1916. 1917. 1918. 1919. 1920.]\n\n\n[30000. 47200. 70200. 77400. 36300. 20600. 18100. 21400. 22000. 25400.\n 27100. 40300. 57000. 76600. 52300. 19500. 11200.  7600. 14600. 16200.\n 24700.]\n\n\n[ 4000.  6100.  9800. 35200. 59400. 41700. 19000. 13000.  8300.  9100.\n  7400.  8000. 12300. 19500. 45700. 51100. 29700. 15800.  9700. 10100.\n  8600.]\n\n\n[48300. 48200. 41500. 38200. 40600. 39800. 38600. 42300. 44500. 42100.\n 46000. 46800. 43800. 40900. 39400. 39000. 36700. 41800. 43300. 41300.\n 47300.]\n"
     ]
    }
   ],
   "source": [
    "data = numpy.loadtxt('files/populations.txt')\n",
    "print(data[:,0]) # returns first column\n",
    "\n",
    "year, hares,lynxes, carrots = data.T  # find transpose of data and assign all columns to variables\n",
    "print(year,hares,lynxes,carrots, sep='\\n\\n\\n')\n"
   ]
  },
  {
   "cell_type": "code",
   "execution_count": 21,
   "metadata": {
    "id": "DF6C7uE_d94M"
   },
   "outputs": [
    {
     "output_type": "stream",
     "name": "stdout",
     "text": [
      "9\n[3 3 1 1 2 2 3 3 3 3 3 3 1 1 1 2 3 3 3 3 3]\n"
     ]
    }
   ],
   "source": [
    "print(numpy.argmax(data[:,1:])) # return index of max value\n",
    "\n",
    "#**************\n",
    "print(numpy.argmax(data[:,1:],axis=1)+1) # returns yearwise max column index."
   ]
  },
  {
   "cell_type": "markdown",
   "metadata": {
    "id": "OzEte9I5fuD_"
   },
   "source": [
    "#### Broadcasting"
   ]
  },
  {
   "cell_type": "code",
   "execution_count": 22,
   "metadata": {
    "id": "Bw9kwPdjhA0d"
   },
   "outputs": [
    {
     "output_type": "stream",
     "name": "stdout",
     "text": [
      "[[2 1 1]\n [1 3 1]\n [1 1 4]]\n\n[[1 2 3]\n [2 3 4]\n [3 4 5]\n [4 5 6]]\n[[ 1  0 -1]\n [ 2  1  0]\n [ 3  2  1]\n [ 4  3  2]]\n[[0 1 2]\n [0 2 4]\n [0 3 6]\n [0 4 8]]\n"
     ]
    }
   ],
   "source": [
    "#example \n",
    "a = numpy.diag([1,2,3])\n",
    "print(a+1) # this is broadcasting\n",
    "\n",
    "# big case\n",
    "a =numpy.array([[1],[2],[3],[4]])\n",
    "b = numpy.array([0,1,2])\n",
    "print()\n",
    "print(a+b)\n",
    "print(a-b)\n",
    "print(a*b)\n",
    "\n",
    "# it is possible in numpy array to perform operations on different dimesions"
   ]
  },
  {
   "cell_type": "markdown",
   "metadata": {
    "id": "QmBfDSTjjQuy"
   },
   "source": [
    "![Screenshot_2021-02-25 Join this video meeting.png](data:image/png;base64,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)"
   ]
  },
  {
   "cell_type": "markdown",
   "metadata": {
    "id": "cCD6yxEUkRIV"
   },
   "source": [
    "tile()"
   ]
  },
  {
   "cell_type": "code",
   "execution_count": 23,
   "metadata": {
    "id": "gob9YjQIkS-S"
   },
   "outputs": [
    {
     "output_type": "stream",
     "name": "stdout",
     "text": [
      "[[0 1 2]\n [0 1 2]\n [0 1 2]]\n\n[[0 1 2 0 1 2]\n [0 1 2 0 1 2]\n [0 1 2 0 1 2]]\n"
     ]
    }
   ],
   "source": [
    "a = numpy.tile(numpy.arange(3), (3,1))\n",
    "# above means, repeat row 3 times, column 1 times\n",
    "print(a)\n",
    "print()\n",
    "a = numpy.tile(numpy.arange(3), (3,2))\n",
    "print(a)"
   ]
  },
  {
   "cell_type": "code",
   "execution_count": 24,
   "metadata": {
    "id": "sYymq4xfl3Xq"
   },
   "outputs": [
    {
     "output_type": "stream",
     "name": "stdout",
     "text": [
      "[[1 2 3]\n [4 5 6]\n [2 3 4]\n [5 6 7]]\n\n[[1 2 3 2 3 4]\n [4 5 6 5 6 7]]\n"
     ]
    }
   ],
   "source": [
    "# merging two arrays\n",
    "a = numpy.array([[1,2,3],[4,5,6]])\n",
    "b = numpy.array([[2,3,4],[ 5,6,7]])\n",
    "print(numpy.append(a,b,axis=0))\n",
    "print()\n",
    "print(numpy.append(a,b,axis=1))"
   ]
  },
  {
   "cell_type": "markdown",
   "metadata": {
    "id": "tyXFEfSHm4C1"
   },
   "source": [
    "#### new_axis(), ravel(), reshape(), resize()"
   ]
  },
  {
   "cell_type": "code",
   "execution_count": 25,
   "metadata": {
    "id": "BzJgsBhnm3RG"
   },
   "outputs": [
    {
     "output_type": "stream",
     "name": "stdout",
     "text": [
      "[0 1 2 3]\n(4,)\n1\n(4, 1)\n2\n[[0]\n [1]\n [2]\n [3]]\n\n"
     ]
    }
   ],
   "source": [
    "# new axis\n",
    "a = numpy.arange(4)\n",
    "print(a)\n",
    "print(a.shape)\n",
    "print(a.ndim)\n",
    "\n",
    "a = a[:,numpy.newaxis]\n",
    "print(a.shape)\n",
    "print(a.ndim)\n",
    "print(a)\n",
    "print()\n",
    "\n",
    "# another example"
   ]
  },
  {
   "cell_type": "code",
   "execution_count": 26,
   "metadata": {
    "id": "k2Om8mWFrICj"
   },
   "outputs": [
    {
     "output_type": "stream",
     "name": "stdout",
     "text": [
      "[0 1 2 3]\n[1 2 3 4]\n[[1 2]\n [3 4]]\n"
     ]
    }
   ],
   "source": [
    "# ravel - used to flatten dimensions\n",
    "print(a.ravel())\n",
    "a = numpy.array([[[[1,2],[3,4]]]])\n",
    "print(a.ravel())\n",
    "\n",
    "# reshape - reshaping happens only when shape is multiple of elements\n",
    "print(a.reshape(2,2)) # reshape in 2 rows 2 col\n",
    "# print(a.reshape(4,1)) gives error\n"
   ]
  },
  {
   "cell_type": "code",
   "execution_count": 82,
   "metadata": {
    "id": "4J1owuQ8sJ4G"
   },
   "outputs": [
    {
     "output_type": "stream",
     "name": "stdout",
     "text": [
      "(4, 3, 2)\n[1 2 3 4 4 5 5]\nNone\n"
     ]
    }
   ],
   "source": [
    "a = numpy.arange(4*3*2).reshape(4,3,2)\n",
    "print(a.shape)\n",
    "\n",
    "b = numpy.array([1,2,3,4,4,5,5])\n",
    "print(b)\n",
    "print(b.resize(18))\n",
    "\n",
    "\n"
   ]
  }
 ],
 "metadata": {
  "colab": {
   "name": "L1 - Numpy.ipynb",
   "provenance": []
  },
  "kernelspec": {
   "display_name": "Python 3",
   "language": "python",
   "name": "python3"
  },
  "language_info": {
   "codemirror_mode": {
    "name": "ipython",
    "version": 3
   },
   "file_extension": ".py",
   "mimetype": "text/x-python",
   "name": "python",
   "nbconvert_exporter": "python",
   "pygments_lexer": "ipython3",
   "version": "3.8.5-final"
  }
 },
 "nbformat": 4,
 "nbformat_minor": 1
}