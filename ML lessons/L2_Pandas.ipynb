{
  "nbformat": 4,
  "nbformat_minor": 0,
  "metadata": {
    "colab": {
      "name": "L2 - Pandas.ipynb",
      "provenance": []
    },
    "kernelspec": {
      "name": "python3",
      "display_name": "Python 3",
      "language": "python"
    }
  },
  "cells": [
    {
      "cell_type": "markdown",
      "metadata": {
        "id": "B55vOE81uUzp"
      },
      "source": [
        "# Pandas library"
      ]
    },
    {
      "cell_type": "code",
      "metadata": {
        "colab": {
          "base_uri": "https://localhost:8080/"
        },
        "id": "pr5wsZmktjT2",
        "outputId": "8e73afef-9bda-4179-9e19-681dd5c3787a"
      },
      "source": [
        "import pandas\r\n",
        "print(pandas.__version__)"
      ],
      "execution_count": 1,
      "outputs": [
        {
          "output_type": "stream",
          "name": "stdout",
          "text": [
            "1.2.2\n"
          ]
        }
      ]
    },
    {
      "cell_type": "markdown",
      "metadata": {
        "id": "DSVgBNaovhtq"
      },
      "source": [
        "### creating object\r\n"
      ]
    },
    {
      "cell_type": "code",
      "metadata": {
        "colab": {
          "base_uri": "https://localhost:8080/"
        },
        "id": "vOCHjovSvr2f",
        "outputId": "859b88a8-842f-4458-de40-bde2c0b7c8e7"
      },
      "source": [
        "# empty object\r\n",
        "df = pandas.DataFrame()\r\n",
        "print(df)\r\n",
        "print()\r\n",
        "\r\n",
        "# from list\r\n",
        "data = [1,2,3,4,5]\r\n",
        "df = pandas.DataFrame(data)\r\n",
        "print(df)\r\n",
        "print()\r\n",
        "\r\n",
        "# multdimensional\r\n",
        "data = [['rahul', 35], ['shailendra',25] ]\r\n",
        "df = pandas.DataFrame(data,columns = ['Name','Age'])\r\n",
        "print(df)\r\n",
        "print()\r\n",
        "\r\n",
        "df = pandas.DataFrame(data,columns = ['Name','Age'],dtype =float)\r\n",
        "print(df)"
      ],
      "execution_count": 2,
      "outputs": [
        {
          "output_type": "stream",
          "name": "stdout",
          "text": [
            "Empty DataFrame\n",
            "Columns: []\n",
            "Index: []\n",
            "\n",
            "   0\n",
            "0  1\n",
            "1  2\n",
            "2  3\n",
            "3  4\n",
            "4  5\n",
            "\n",
            "         Name  Age\n",
            "0       rahul   35\n",
            "1  shailendra   25\n",
            "\n",
            "         Name   Age\n",
            "0       rahul  35.0\n",
            "1  shailendra  25.0\n"
          ]
        }
      ]
    },
    {
      "cell_type": "markdown",
      "metadata": {
        "id": "ehtQcefkxf9T"
      },
      "source": [
        "#### Create dataframe from dictionary"
      ]
    },
    {
      "cell_type": "code",
      "metadata": {
        "colab": {
          "base_uri": "https://localhost:8080/"
        },
        "id": "qulonSTmxlMV",
        "outputId": "cd439dea-13c1-484d-8c7c-cc80fed4066e"
      },
      "source": [
        "data = {'Name':['Avinash','vinay', 'kritpal'],\r\n",
        "        'Age': [35,4,393]}\r\n",
        "df = pandas.DataFrame(data,index = ['r1','r2','r3'])\r\n",
        "print(df)\r\n",
        "print()\r\n",
        "\r\n",
        "# if dict doesn't provide a key value, it is taken as NaN\r\n",
        "data = [{'a':1,'b':2},\r\n",
        "        {'a':5,'b':4,'c':9}]\r\n",
        "df = pandas.DataFrame(data)\r\n",
        "print(df)"
      ],
      "execution_count": 3,
      "outputs": [
        {
          "output_type": "stream",
          "name": "stdout",
          "text": [
            "       Name  Age\nr1  Avinash   35\nr2    vinay    4\nr3  kritpal  393\n\n   a  b    c\n0  1  2  NaN\n1  5  4  9.0\n"
          ]
        }
      ]
    },
    {
      "cell_type": "markdown",
      "metadata": {
        "id": "YpXvv7fo1vGo"
      },
      "source": [
        "### Dataset \r\n"
      ]
    },
    {
      "cell_type": "code",
      "metadata": {
        "colab": {
          "base_uri": "https://localhost:8080/"
        },
        "id": "JrDkSqKk2vqj",
        "outputId": "770919c9-73ad-4228-d3b2-56cb9803689e"
      },
      "source": [
        "df = pandas.read_json('files\\\\data.json')\n",
        "print(df.head(5)) #view first 5 rows\n",
        "print(df.tail(5)) # view last 5 rows\n",
        "print()\n",
        "# pandas indexing works like dict indexing.\n",
        "\n",
        "print(df.columns) #prints all columns\n",
        "print()\n",
        "print(df.info()) # print information of all columns\n",
        "print()\n",
        "\n",
        "\n",
        "# accessing values of a column\n",
        "print(df['Pulse'])\n",
        "print()\n",
        "# get max value\n",
        "print(df['Pulse'].max())"
      ],
      "execution_count": 4,
      "outputs": [
        {
          "output_type": "stream",
          "name": "stdout",
          "text": [
            "   Duration  Pulse  Maxpulse  Calories\n0        60    110       130     409.1\n1        60    117       145     479.0\n2        60    103       135     340.0\n3        45    109       175     282.4\n4        45    117       148     406.0\n     Duration  Pulse  Maxpulse  Calories\n164        60    105       140     290.8\n165        60    110       145     300.4\n166        60    115       145     310.2\n167        75    120       150     320.4\n168        75    125       150     330.4\n\nIndex(['Duration', 'Pulse', 'Maxpulse', 'Calories'], dtype='object')\n\n<class 'pandas.core.frame.DataFrame'>\nInt64Index: 169 entries, 0 to 168\nData columns (total 4 columns):\n #   Column    Non-Null Count  Dtype  \n---  ------    --------------  -----  \n 0   Duration  169 non-null    int64  \n 1   Pulse     169 non-null    int64  \n 2   Maxpulse  169 non-null    int64  \n 3   Calories  164 non-null    float64\ndtypes: float64(1), int64(3)\nmemory usage: 6.6 KB\nNone\n\n0      110\n1      117\n2      103\n3      109\n4      117\n      ... \n164    105\n165    110\n166    115\n167    120\n168    125\nName: Pulse, Length: 169, dtype: int64\n\n159\n"
          ]
        }
      ]
    },
    {
      "cell_type": "code",
      "metadata": {
        "colab": {
          "base_uri": "https://localhost:8080/"
        },
        "id": "3F3q4Fmc9zYw",
        "outputId": "3ecc29c2-ea43-4f53-be91-ecc9a40b2d8f"
      },
      "source": [
        "df = pandas.read_csv('files\\\\nyc_weather.csv')\n",
        "print(type(df['Temperature'])) # series\n",
        "print(type(df[['Temperature','EST']])) # dataframe\n",
        "print()\n",
        "\n",
        "# find temperature and date on which rain happens\n",
        "print(df[['Temperature','EST']][(df['Events']=='Rain') & (df['Temperature'] == df['Temperature'].max())])\n",
        "print(df.shape)\n",
        "rows, columns = df.shape\n",
        "print(df[2:16])"
      ],
      "execution_count": 5,
      "outputs": [
        {
          "output_type": "stream",
          "name": "stdout",
          "text": [
            "<class 'pandas.core.series.Series'>\n<class 'pandas.core.frame.DataFrame'>\n\n   Temperature        EST\n9           50  1/10/2016\n(31, 11)\n          EST  Temperature  DewPoint  Humidity  Sea Level PressureIn  \\\n2    1/3/2016           40        21        47                 29.86   \n3    1/4/2016           25         9        44                 30.05   \n4    1/5/2016           20        -3        41                 30.57   \n5    1/6/2016           33         4        35                 30.50   \n6    1/7/2016           39        11        33                 30.28   \n7    1/8/2016           39        29        64                 30.20   \n8    1/9/2016           44        38        77                 30.16   \n9   1/10/2016           50        46        71                 29.59   \n10  1/11/2016           33         8        37                 29.92   \n11  1/12/2016           35        15        53                 29.85   \n12  1/13/2016           26         4        42                 29.94   \n13  1/14/2016           30        12        47                 29.95   \n14  1/15/2016           43        31        62                 29.82   \n15  1/16/2016           47        37        70                 29.52   \n\n    VisibilityMiles  WindSpeedMPH PrecipitationIn  CloudCover Events  \\\n2                10           8.0               0           1    NaN   \n3                10           9.0               0           3    NaN   \n4                10           5.0               0           0    NaN   \n5                10           4.0               0           0    NaN   \n6                10           2.0               0           3    NaN   \n7                10           4.0               0           8    NaN   \n8                 9           8.0               T           8   Rain   \n9                 4           NaN             1.8           7   Rain   \n10               10           NaN               0           1    NaN   \n11               10           6.0               T           4    NaN   \n12               10          10.0               0           0    NaN   \n13               10           5.0               T           7    NaN   \n14                9           5.0               T           2    NaN   \n15                8           7.0            0.24           7   Rain   \n\n    WindDirDegrees  \n2              277  \n3              345  \n4              333  \n5              259  \n6              293  \n7               79  \n8               76  \n9              109  \n10             289  \n11             235  \n12             284  \n13             266  \n14             101  \n15             340  \n"
          ]
        }
      ]
    },
    {
      "cell_type": "markdown",
      "metadata": {
        "id": "Ldf0v8G0EvI8"
      },
      "source": [
        "### Getting data statistics"
      ]
    },
    {
      "cell_type": "code",
      "metadata": {
        "colab": {
          "base_uri": "https://localhost:8080/",
          "height": 337
        },
        "id": "BylNKkZMEsxE",
        "outputId": "86ea42b2-3851-4c19-eb0a-33f2eefe3f35"
      },
      "source": [
        "df.describe()"
      ],
      "execution_count": 6,
      "outputs": [
        {
          "output_type": "execute_result",
          "data": {
            "text/plain": [
              "       Temperature   DewPoint   Humidity  Sea Level PressureIn  \\\n",
              "count    31.000000  31.000000  31.000000             31.000000   \n",
              "mean     34.677419  17.838710  51.677419             29.992903   \n",
              "std       7.639315  11.378626  11.634395              0.237237   \n",
              "min      20.000000  -3.000000  33.000000             29.520000   \n",
              "25%      29.000000  10.000000  44.500000             29.855000   \n",
              "50%      35.000000  18.000000  50.000000             30.010000   \n",
              "75%      39.500000  23.000000  55.000000             30.140000   \n",
              "max      50.000000  46.000000  78.000000             30.570000   \n",
              "\n",
              "       VisibilityMiles  WindSpeedMPH  CloudCover  WindDirDegrees  \n",
              "count        31.000000     28.000000   31.000000       31.000000  \n",
              "mean          9.193548      6.892857    3.129032      247.129032  \n",
              "std           1.939405      2.871821    2.629853       92.308086  \n",
              "min           1.000000      2.000000    0.000000       34.000000  \n",
              "25%           9.000000      5.000000    1.000000      238.000000  \n",
              "50%          10.000000      6.500000    3.000000      281.000000  \n",
              "75%          10.000000      8.000000    4.500000      300.000000  \n",
              "max          10.000000     16.000000    8.000000      345.000000  "
            ],
            "text/html": "<div>\n<style scoped>\n    .dataframe tbody tr th:only-of-type {\n        vertical-align: middle;\n    }\n\n    .dataframe tbody tr th {\n        vertical-align: top;\n    }\n\n    .dataframe thead th {\n        text-align: right;\n    }\n</style>\n<table border=\"1\" class=\"dataframe\">\n  <thead>\n    <tr style=\"text-align: right;\">\n      <th></th>\n      <th>Temperature</th>\n      <th>DewPoint</th>\n      <th>Humidity</th>\n      <th>Sea Level PressureIn</th>\n      <th>VisibilityMiles</th>\n      <th>WindSpeedMPH</th>\n      <th>CloudCover</th>\n      <th>WindDirDegrees</th>\n    </tr>\n  </thead>\n  <tbody>\n    <tr>\n      <th>count</th>\n      <td>31.000000</td>\n      <td>31.000000</td>\n      <td>31.000000</td>\n      <td>31.000000</td>\n      <td>31.000000</td>\n      <td>28.000000</td>\n      <td>31.000000</td>\n      <td>31.000000</td>\n    </tr>\n    <tr>\n      <th>mean</th>\n      <td>34.677419</td>\n      <td>17.838710</td>\n      <td>51.677419</td>\n      <td>29.992903</td>\n      <td>9.193548</td>\n      <td>6.892857</td>\n      <td>3.129032</td>\n      <td>247.129032</td>\n    </tr>\n    <tr>\n      <th>std</th>\n      <td>7.639315</td>\n      <td>11.378626</td>\n      <td>11.634395</td>\n      <td>0.237237</td>\n      <td>1.939405</td>\n      <td>2.871821</td>\n      <td>2.629853</td>\n      <td>92.308086</td>\n    </tr>\n    <tr>\n      <th>min</th>\n      <td>20.000000</td>\n      <td>-3.000000</td>\n      <td>33.000000</td>\n      <td>29.520000</td>\n      <td>1.000000</td>\n      <td>2.000000</td>\n      <td>0.000000</td>\n      <td>34.000000</td>\n    </tr>\n    <tr>\n      <th>25%</th>\n      <td>29.000000</td>\n      <td>10.000000</td>\n      <td>44.500000</td>\n      <td>29.855000</td>\n      <td>9.000000</td>\n      <td>5.000000</td>\n      <td>1.000000</td>\n      <td>238.000000</td>\n    </tr>\n    <tr>\n      <th>50%</th>\n      <td>35.000000</td>\n      <td>18.000000</td>\n      <td>50.000000</td>\n      <td>30.010000</td>\n      <td>10.000000</td>\n      <td>6.500000</td>\n      <td>3.000000</td>\n      <td>281.000000</td>\n    </tr>\n    <tr>\n      <th>75%</th>\n      <td>39.500000</td>\n      <td>23.000000</td>\n      <td>55.000000</td>\n      <td>30.140000</td>\n      <td>10.000000</td>\n      <td>8.000000</td>\n      <td>4.500000</td>\n      <td>300.000000</td>\n    </tr>\n    <tr>\n      <th>max</th>\n      <td>50.000000</td>\n      <td>46.000000</td>\n      <td>78.000000</td>\n      <td>30.570000</td>\n      <td>10.000000</td>\n      <td>16.000000</td>\n      <td>8.000000</td>\n      <td>345.000000</td>\n    </tr>\n  </tbody>\n</table>\n</div>"
          },
          "metadata": {},
          "execution_count": 6
        }
      ]
    },
    {
      "cell_type": "markdown",
      "metadata": {
        "id": "I45235CPFX-t"
      },
      "source": [
        "**Assignment :** take a dataframe in form of multidimension list.\r\n",
        "you have to design another dataframe which you will be taking from dict. task is to add column of dict dataframe in to the first dataframe."
      ]
    },
    {
      "cell_type": "code",
      "metadata": {
        "colab": {
          "base_uri": "https://localhost:8080/"
        },
        "id": "7QJESMGpF4vN",
        "outputId": "70921ec3-27f9-48a9-8876-43c0c6be2abf"
      },
      "source": [
        "data_list = [['ajay',2,234],['vinay', 4,9399],['suraj',6,3939]]\r\n",
        "data_dict = {'mob':[4993,9933,59932],'dob':[22353,4434,6643]}\r\n",
        "\r\n",
        "df_list = pandas.DataFrame(data_list)\r\n",
        "print(df_list)\r\n",
        "print()\r\n",
        "\r\n",
        "df_list[3] = df_list[1]+df_list[2]\r\n",
        "print(df_list)\r\n",
        "\r\n",
        "\r\n",
        "df_dict = pandas.DataFrame(data_dict)\r\n",
        "print(df_dict)\r\n",
        "\r\n",
        "new_df = df_list.copy()\r\n",
        "new_df[[4,5]] = df_dict[:]\r\n",
        "print(new_df)"
      ],
      "execution_count": 7,
      "outputs": [
        {
          "output_type": "stream",
          "name": "stdout",
          "text": [
            "       0  1     2\n0   ajay  2   234\n1  vinay  4  9399\n2  suraj  6  3939\n\n       0  1     2     3\n0   ajay  2   234   236\n1  vinay  4  9399  9403\n2  suraj  6  3939  3945\n     mob    dob\n0   4993  22353\n1   9933   4434\n2  59932   6643\n       0  1     2     3      4      5\n0   ajay  2   234   236   4993  22353\n1  vinay  4  9399  9403   9933   4434\n2  suraj  6  3939  3945  59932   6643\n"
          ]
        }
      ]
    },
    {
      "cell_type": "markdown",
      "metadata": {
        "id": "o_G3wVqrd740"
      },
      "source": [
        "# Reading and storing file"
      ]
    },
    {
      "cell_type": "code",
      "metadata": {
        "colab": {
          "base_uri": "https://localhost:8080/"
        },
        "id": "Jc9yT10Rd2dB",
        "outputId": "24feca08-5542-417a-b2e8-1a7dcf7cf147"
      },
      "source": [
        "df = pandas.read_excel('files\\\\weather_data.xlsx')\n",
        "print(df)\n",
        "\n",
        "# storing this file\n",
        "df.to_csv('files\\\\rahul.csv',index=False)\n",
        "# similarly you can write this file as xls\n",
        "df.to_excel('files\\\\rahul.xls',sheet_name='weather',index=False)"
      ],
      "execution_count": 8,
      "outputs": [
        {
          "output_type": "stream",
          "name": "stdout",
          "text": [
            "        day  temperature  windspeed  event\n0  1/1/2017           32          6   Rain\n1  1/2/2017           35          7  Sunny\n2  1/3/2017           28          2   Snow\n3  1/4/2017           24          7   Snow\n4  1/5/2017           32          4   Rain\n5  1/6/2017           31          2  Sunny\n"
          ]
        }
      ]
    },
    {
      "cell_type": "markdown",
      "metadata": {
        "id": "p7_5PwoGgvg1"
      },
      "source": [
        "### Group By"
      ]
    },
    {
      "cell_type": "code",
      "metadata": {
        "colab": {
          "base_uri": "https://localhost:8080/",
          "height": 897
        },
        "id": "TwrzFsisiYzE",
        "outputId": "4ec06db2-d61c-4ee5-dda9-75dab6d862c3"
      },
      "source": [
        "df = pandas.read_csv('files\\\\weather_data_cities.csv')\n",
        "group_df = df.groupby('city')\n",
        "print(group_df) # dataframe groupby object.\n",
        "\n",
        "df_g = pandas.DataFrame(group_df) #convert it again to dataframe\n",
        "\n",
        "for city, city_dataframe in group_df:\n",
        "    print('Dataframe of :',city,':')\n",
        "    print(city_dataframe)\n",
        "\n",
        "# another way\n",
        "print(group_df.get_group('new york'))\n",
        "print()\n",
        "print()\n",
        "print(group_df['day'].max()) \n",
        "print(group_df.max()) # return max of all elements in a group\n",
        "group_df.describe() # statistic operation work on numerical columns only"
      ],
      "execution_count": 9,
      "outputs": [
        {
          "output_type": "stream",
          "name": "stdout",
          "text": [
            "<pandas.core.groupby.generic.DataFrameGroupBy object at 0x000001A52C53F0D0>\n",
            "Dataframe of : mumbai :\n",
            "        day    city  temperature  windspeed  event\n",
            "4  1/1/2017  mumbai           90          5  Sunny\n",
            "5  1/2/2017  mumbai           85         12    Fog\n",
            "6  1/3/2017  mumbai           87         15    Fog\n",
            "7  1/4/2017  mumbai           92          5   Rain\n",
            "Dataframe of : new york :\n",
            "        day      city  temperature  windspeed  event\n",
            "0  1/1/2017  new york           32          6   Rain\n",
            "1  1/2/2017  new york           36          7  Sunny\n",
            "2  1/3/2017  new york           28         12   Snow\n",
            "3  1/4/2017  new york           33          7  Sunny\n",
            "Dataframe of : paris :\n",
            "         day   city  temperature  windspeed   event\n",
            "8   1/1/2017  paris           45         20   Sunny\n",
            "9   1/2/2017  paris           50         13  Cloudy\n",
            "10  1/3/2017  paris           54          8  Cloudy\n",
            "11  1/4/2017  paris           42         10  Cloudy\n",
            "        day      city  temperature  windspeed  event\n",
            "0  1/1/2017  new york           32          6   Rain\n",
            "1  1/2/2017  new york           36          7  Sunny\n",
            "2  1/3/2017  new york           28         12   Snow\n",
            "3  1/4/2017  new york           33          7  Sunny\n",
            "\n",
            "\n",
            "city\n",
            "mumbai      1/4/2017\n",
            "new york    1/4/2017\n",
            "paris       1/4/2017\n",
            "Name: day, dtype: object\n",
            "               day  temperature  windspeed  event\n",
            "city                                             \n",
            "mumbai    1/4/2017           92         15  Sunny\n",
            "new york  1/4/2017           36         12  Sunny\n",
            "paris     1/4/2017           54         20  Sunny\n"
          ]
        },
        {
          "output_type": "execute_result",
          "data": {
            "text/plain": [
              "         temperature                                                   \\\n",
              "               count   mean       std   min    25%   50%    75%   max   \n",
              "city                                                                    \n",
              "mumbai           4.0  88.50  3.109126  85.0  86.50  88.5  90.50  92.0   \n",
              "new york         4.0  32.25  3.304038  28.0  31.00  32.5  33.75  36.0   \n",
              "paris            4.0  47.75  5.315073  42.0  44.25  47.5  51.00  54.0   \n",
              "\n",
              "         windspeed                                                 \n",
              "             count   mean       std  min   25%   50%    75%   max  \n",
              "city                                                               \n",
              "mumbai         4.0   9.25  5.057997  5.0  5.00   8.5  12.75  15.0  \n",
              "new york       4.0   8.00  2.708013  6.0  6.75   7.0   8.25  12.0  \n",
              "paris          4.0  12.75  5.251984  8.0  9.50  11.5  14.75  20.0  "
            ],
            "text/html": "<div>\n<style scoped>\n    .dataframe tbody tr th:only-of-type {\n        vertical-align: middle;\n    }\n\n    .dataframe tbody tr th {\n        vertical-align: top;\n    }\n\n    .dataframe thead tr th {\n        text-align: left;\n    }\n\n    .dataframe thead tr:last-of-type th {\n        text-align: right;\n    }\n</style>\n<table border=\"1\" class=\"dataframe\">\n  <thead>\n    <tr>\n      <th></th>\n      <th colspan=\"8\" halign=\"left\">temperature</th>\n      <th colspan=\"8\" halign=\"left\">windspeed</th>\n    </tr>\n    <tr>\n      <th></th>\n      <th>count</th>\n      <th>mean</th>\n      <th>std</th>\n      <th>min</th>\n      <th>25%</th>\n      <th>50%</th>\n      <th>75%</th>\n      <th>max</th>\n      <th>count</th>\n      <th>mean</th>\n      <th>std</th>\n      <th>min</th>\n      <th>25%</th>\n      <th>50%</th>\n      <th>75%</th>\n      <th>max</th>\n    </tr>\n    <tr>\n      <th>city</th>\n      <th></th>\n      <th></th>\n      <th></th>\n      <th></th>\n      <th></th>\n      <th></th>\n      <th></th>\n      <th></th>\n      <th></th>\n      <th></th>\n      <th></th>\n      <th></th>\n      <th></th>\n      <th></th>\n      <th></th>\n      <th></th>\n    </tr>\n  </thead>\n  <tbody>\n    <tr>\n      <th>mumbai</th>\n      <td>4.0</td>\n      <td>88.50</td>\n      <td>3.109126</td>\n      <td>85.0</td>\n      <td>86.50</td>\n      <td>88.5</td>\n      <td>90.50</td>\n      <td>92.0</td>\n      <td>4.0</td>\n      <td>9.25</td>\n      <td>5.057997</td>\n      <td>5.0</td>\n      <td>5.00</td>\n      <td>8.5</td>\n      <td>12.75</td>\n      <td>15.0</td>\n    </tr>\n    <tr>\n      <th>new york</th>\n      <td>4.0</td>\n      <td>32.25</td>\n      <td>3.304038</td>\n      <td>28.0</td>\n      <td>31.00</td>\n      <td>32.5</td>\n      <td>33.75</td>\n      <td>36.0</td>\n      <td>4.0</td>\n      <td>8.00</td>\n      <td>2.708013</td>\n      <td>6.0</td>\n      <td>6.75</td>\n      <td>7.0</td>\n      <td>8.25</td>\n      <td>12.0</td>\n    </tr>\n    <tr>\n      <th>paris</th>\n      <td>4.0</td>\n      <td>47.75</td>\n      <td>5.315073</td>\n      <td>42.0</td>\n      <td>44.25</td>\n      <td>47.5</td>\n      <td>51.00</td>\n      <td>54.0</td>\n      <td>4.0</td>\n      <td>12.75</td>\n      <td>5.251984</td>\n      <td>8.0</td>\n      <td>9.50</td>\n      <td>11.5</td>\n      <td>14.75</td>\n      <td>20.0</td>\n    </tr>\n  </tbody>\n</table>\n</div>"
          },
          "metadata": {},
          "execution_count": 9
        }
      ]
    },
    {
      "cell_type": "markdown",
      "metadata": {
        "id": "yyDhGfUFm_Fs"
      },
      "source": [
        "### concatenate data frames"
      ]
    },
    {
      "cell_type": "code",
      "metadata": {
        "colab": {
          "base_uri": "https://localhost:8080/"
        },
        "id": "ibceACM-nCkP",
        "outputId": "071b4546-80c9-4f2a-86d3-ac5cc567c732"
      },
      "source": [
        "india_weather = pandas.DataFrame({'city':['hyderabad','bangalore','pune'],'temperature': [33,26,39],'humidity':[80,60,84]})\r\n",
        "us_weather = pandas.DataFrame({'city':['hyderabad','bangalore','pune'],'temperature': [33,26,39],'humidity':[80,60,84]})\r\n",
        "df = pandas.concat([india_weather,us_weather],ignore_index=True)\r\n",
        "print(df)\r\n",
        "df = pandas.concat([india_weather,us_weather],axis = 1,ignore_index=True)\r\n",
        "print(df)\r\n",
        "\r\n",
        "print(india_weather.merge(us_weather,left_on='city',right_on='city',how='left'))\r\n",
        "print(india_weather.merge(us_weather,on='city'))"
      ],
      "execution_count": 10,
      "outputs": [
        {
          "output_type": "stream",
          "name": "stdout",
          "text": [
            "        city  temperature  humidity\n",
            "0  hyderabad           33        80\n",
            "1  bangalore           26        60\n",
            "2       pune           39        84\n",
            "3  hyderabad           33        80\n",
            "4  bangalore           26        60\n",
            "5       pune           39        84\n",
            "           0   1   2          3   4   5\n",
            "0  hyderabad  33  80  hyderabad  33  80\n",
            "1  bangalore  26  60  bangalore  26  60\n",
            "2       pune  39  84       pune  39  84\n",
            "        city  temperature_x  humidity_x  temperature_y  humidity_y\n",
            "0  hyderabad             33          80             33          80\n",
            "1  bangalore             26          60             26          60\n",
            "2       pune             39          84             39          84\n",
            "        city  temperature_x  humidity_x  temperature_y  humidity_y\n",
            "0  hyderabad             33          80             33          80\n",
            "1  bangalore             26          60             26          60\n",
            "2       pune             39          84             39          84\n"
          ]
        }
      ]
    },
    {
      "cell_type": "markdown",
      "metadata": {
        "id": "Ni3mJH49tDWJ"
      },
      "source": [
        "### loc[] and iloc[]"
      ]
    },
    {
      "cell_type": "code",
      "metadata": {
        "colab": {
          "base_uri": "https://localhost:8080/"
        },
        "id": "A-WvFpfDtM9S",
        "outputId": "aff70a46-daf8-4bbe-a8dd-941447f1295f"
      },
      "source": [
        "print(df.iloc[0])# index vise locate\r\n",
        "df.loc[2] # index name vise locate\r\n",
        "\r\n",
        "# iloc 0 based indexing\r\n",
        "# loc indexing given by us or default 0 based indexing"
      ],
      "execution_count": 11,
      "outputs": [
        {
          "output_type": "stream",
          "name": "stdout",
          "text": [
            "0    hyderabad\n1           33\n2           80\n3    hyderabad\n4           33\n5           80\nName: 0, dtype: object\n"
          ]
        },
        {
          "output_type": "execute_result",
          "data": {
            "text/plain": [
              "0    pune\n",
              "1      39\n",
              "2      84\n",
              "3    pune\n",
              "4      39\n",
              "5      84\n",
              "Name: 2, dtype: object"
            ]
          },
          "metadata": {},
          "execution_count": 11
        }
      ]
    },
    {
      "cell_type": "markdown",
      "metadata": {
        "id": "7G-b6E_cw_uv"
      },
      "source": [
        "## Data Preprocessing\r\n",
        "### Handling missing values\r\n",
        "\r\n",
        "if Nan values are in numerical data, we can remove them by finding mean/median.\r\n",
        "\r\n",
        "if it is a categorical data, answer is maximum value count (mode)"
      ]
    },
    {
      "cell_type": "code",
      "metadata": {
        "colab": {
          "base_uri": "https://localhost:8080/",
          "height": 444
        },
        "id": "AL7TyxAXv8Kv",
        "outputId": "dfd78953-9509-4ed9-8dca-2fc43b96f895"
      },
      "source": [
        "cars_data = pandas.read_csv('files\\\\Toyota.csv',index_col=0,na_values=['??','????'])\n",
        "# if ?? or ???? found, consider it as Nan\n",
        "cars_data"
      ],
      "execution_count": 12,
      "outputs": [
        {
          "output_type": "execute_result",
          "data": {
            "text/plain": [
              "      Price   Age       KM FuelType     HP  MetColor  Automatic    CC  Doors  \\\n",
              "0     13500  23.0  46986.0   Diesel   90.0       1.0          0  2000  three   \n",
              "1     13750  23.0  72937.0   Diesel   90.0       1.0          0  2000      3   \n",
              "2     13950  24.0  41711.0   Diesel   90.0       NaN          0  2000      3   \n",
              "3     14950  26.0  48000.0   Diesel   90.0       0.0          0  2000      3   \n",
              "4     13750  30.0  38500.0   Diesel   90.0       0.0          0  2000      3   \n",
              "...     ...   ...      ...      ...    ...       ...        ...   ...    ...   \n",
              "1431   7500   NaN  20544.0   Petrol   86.0       1.0          0  1300      3   \n",
              "1432  10845  72.0      NaN   Petrol   86.0       0.0          0  1300      3   \n",
              "1433   8500   NaN  17016.0   Petrol   86.0       0.0          0  1300      3   \n",
              "1434   7250  70.0      NaN      NaN   86.0       1.0          0  1300      3   \n",
              "1435   6950  76.0      1.0   Petrol  110.0       0.0          0  1600      5   \n",
              "\n",
              "      Weight  \n",
              "0       1165  \n",
              "1       1165  \n",
              "2       1165  \n",
              "3       1165  \n",
              "4       1170  \n",
              "...      ...  \n",
              "1431    1025  \n",
              "1432    1015  \n",
              "1433    1015  \n",
              "1434    1015  \n",
              "1435    1114  \n",
              "\n",
              "[1436 rows x 10 columns]"
            ],
            "text/html": "<div>\n<style scoped>\n    .dataframe tbody tr th:only-of-type {\n        vertical-align: middle;\n    }\n\n    .dataframe tbody tr th {\n        vertical-align: top;\n    }\n\n    .dataframe thead th {\n        text-align: right;\n    }\n</style>\n<table border=\"1\" class=\"dataframe\">\n  <thead>\n    <tr style=\"text-align: right;\">\n      <th></th>\n      <th>Price</th>\n      <th>Age</th>\n      <th>KM</th>\n      <th>FuelType</th>\n      <th>HP</th>\n      <th>MetColor</th>\n      <th>Automatic</th>\n      <th>CC</th>\n      <th>Doors</th>\n      <th>Weight</th>\n    </tr>\n  </thead>\n  <tbody>\n    <tr>\n      <th>0</th>\n      <td>13500</td>\n      <td>23.0</td>\n      <td>46986.0</td>\n      <td>Diesel</td>\n      <td>90.0</td>\n      <td>1.0</td>\n      <td>0</td>\n      <td>2000</td>\n      <td>three</td>\n      <td>1165</td>\n    </tr>\n    <tr>\n      <th>1</th>\n      <td>13750</td>\n      <td>23.0</td>\n      <td>72937.0</td>\n      <td>Diesel</td>\n      <td>90.0</td>\n      <td>1.0</td>\n      <td>0</td>\n      <td>2000</td>\n      <td>3</td>\n      <td>1165</td>\n    </tr>\n    <tr>\n      <th>2</th>\n      <td>13950</td>\n      <td>24.0</td>\n      <td>41711.0</td>\n      <td>Diesel</td>\n      <td>90.0</td>\n      <td>NaN</td>\n      <td>0</td>\n      <td>2000</td>\n      <td>3</td>\n      <td>1165</td>\n    </tr>\n    <tr>\n      <th>3</th>\n      <td>14950</td>\n      <td>26.0</td>\n      <td>48000.0</td>\n      <td>Diesel</td>\n      <td>90.0</td>\n      <td>0.0</td>\n      <td>0</td>\n      <td>2000</td>\n      <td>3</td>\n      <td>1165</td>\n    </tr>\n    <tr>\n      <th>4</th>\n      <td>13750</td>\n      <td>30.0</td>\n      <td>38500.0</td>\n      <td>Diesel</td>\n      <td>90.0</td>\n      <td>0.0</td>\n      <td>0</td>\n      <td>2000</td>\n      <td>3</td>\n      <td>1170</td>\n    </tr>\n    <tr>\n      <th>...</th>\n      <td>...</td>\n      <td>...</td>\n      <td>...</td>\n      <td>...</td>\n      <td>...</td>\n      <td>...</td>\n      <td>...</td>\n      <td>...</td>\n      <td>...</td>\n      <td>...</td>\n    </tr>\n    <tr>\n      <th>1431</th>\n      <td>7500</td>\n      <td>NaN</td>\n      <td>20544.0</td>\n      <td>Petrol</td>\n      <td>86.0</td>\n      <td>1.0</td>\n      <td>0</td>\n      <td>1300</td>\n      <td>3</td>\n      <td>1025</td>\n    </tr>\n    <tr>\n      <th>1432</th>\n      <td>10845</td>\n      <td>72.0</td>\n      <td>NaN</td>\n      <td>Petrol</td>\n      <td>86.0</td>\n      <td>0.0</td>\n      <td>0</td>\n      <td>1300</td>\n      <td>3</td>\n      <td>1015</td>\n    </tr>\n    <tr>\n      <th>1433</th>\n      <td>8500</td>\n      <td>NaN</td>\n      <td>17016.0</td>\n      <td>Petrol</td>\n      <td>86.0</td>\n      <td>0.0</td>\n      <td>0</td>\n      <td>1300</td>\n      <td>3</td>\n      <td>1015</td>\n    </tr>\n    <tr>\n      <th>1434</th>\n      <td>7250</td>\n      <td>70.0</td>\n      <td>NaN</td>\n      <td>NaN</td>\n      <td>86.0</td>\n      <td>1.0</td>\n      <td>0</td>\n      <td>1300</td>\n      <td>3</td>\n      <td>1015</td>\n    </tr>\n    <tr>\n      <th>1435</th>\n      <td>6950</td>\n      <td>76.0</td>\n      <td>1.0</td>\n      <td>Petrol</td>\n      <td>110.0</td>\n      <td>0.0</td>\n      <td>0</td>\n      <td>1600</td>\n      <td>5</td>\n      <td>1114</td>\n    </tr>\n  </tbody>\n</table>\n<p>1436 rows × 10 columns</p>\n</div>"
          },
          "metadata": {},
          "execution_count": 12
        }
      ]
    },
    {
      "cell_type": "code",
      "metadata": {
        "colab": {
          "base_uri": "https://localhost:8080/"
        },
        "id": "9sQe-WelwVoz",
        "outputId": "1e2f5cbc-6c9f-41ec-c71d-4e5d99a6cf1d"
      },
      "source": [
        "cars_data2 = cars_data.copy()\r\n",
        "cars_data2.info()\r\n"
      ],
      "execution_count": 13,
      "outputs": [
        {
          "output_type": "stream",
          "name": "stdout",
          "text": [
            "<class 'pandas.core.frame.DataFrame'>\nInt64Index: 1436 entries, 0 to 1435\nData columns (total 10 columns):\n #   Column     Non-Null Count  Dtype  \n---  ------     --------------  -----  \n 0   Price      1436 non-null   int64  \n 1   Age        1336 non-null   float64\n 2   KM         1421 non-null   float64\n 3   FuelType   1336 non-null   object \n 4   HP         1430 non-null   float64\n 5   MetColor   1286 non-null   float64\n 6   Automatic  1436 non-null   int64  \n 7   CC         1436 non-null   int64  \n 8   Doors      1436 non-null   object \n 9   Weight     1436 non-null   int64  \ndtypes: float64(4), int64(4), object(2)\nmemory usage: 123.4+ KB\n"
          ]
        }
      ]
    },
    {
      "cell_type": "code",
      "metadata": {
        "colab": {
          "base_uri": "https://localhost:8080/"
        },
        "id": "vFvFHrfRxEA7",
        "outputId": "3789a05a-9142-4c7f-c7d6-3feb5c9d668c"
      },
      "source": [
        "#isna or isnull works same\r\n",
        "cars_data2.isna().sum()"
      ],
      "execution_count": 14,
      "outputs": [
        {
          "output_type": "execute_result",
          "data": {
            "text/plain": [
              "Price          0\n",
              "Age          100\n",
              "KM            15\n",
              "FuelType     100\n",
              "HP             6\n",
              "MetColor     150\n",
              "Automatic      0\n",
              "CC             0\n",
              "Doors          0\n",
              "Weight         0\n",
              "dtype: int64"
            ]
          },
          "metadata": {},
          "execution_count": 14
        }
      ]
    },
    {
      "cell_type": "code",
      "metadata": {
        "colab": {
          "base_uri": "https://localhost:8080/",
          "height": 444
        },
        "id": "ucZrgh_Dx2D0",
        "outputId": "820adbdd-dacd-4e2a-d510-e30e36b5fc73"
      },
      "source": [
        "missing = cars_data2[cars_data2.isnull().any(axis = 1)]\r\n",
        "missing # finds all rows which have Nan in atleast one column"
      ],
      "execution_count": 15,
      "outputs": [
        {
          "output_type": "execute_result",
          "data": {
            "text/plain": [
              "      Price   Age       KM FuelType    HP  MetColor  Automatic    CC Doors  \\\n",
              "2     13950  24.0  41711.0   Diesel  90.0       NaN          0  2000     3   \n",
              "6     16900  27.0      NaN   Diesel   NaN       NaN          0  2000     3   \n",
              "7     18600  30.0  75889.0      NaN  90.0       1.0          0  2000     3   \n",
              "9     12950  23.0  71138.0   Diesel   NaN       NaN          0  1900     3   \n",
              "15    22000  28.0  18739.0   Petrol   NaN       0.0          0  1800     3   \n",
              "...     ...   ...      ...      ...   ...       ...        ...   ...   ...   \n",
              "1428   8450  72.0      NaN   Petrol  86.0       NaN          0  1300     3   \n",
              "1431   7500   NaN  20544.0   Petrol  86.0       1.0          0  1300     3   \n",
              "1432  10845  72.0      NaN   Petrol  86.0       0.0          0  1300     3   \n",
              "1433   8500   NaN  17016.0   Petrol  86.0       0.0          0  1300     3   \n",
              "1434   7250  70.0      NaN      NaN  86.0       1.0          0  1300     3   \n",
              "\n",
              "      Weight  \n",
              "2       1165  \n",
              "6       1245  \n",
              "7       1245  \n",
              "9       1105  \n",
              "15      1185  \n",
              "...      ...  \n",
              "1428    1015  \n",
              "1431    1025  \n",
              "1432    1015  \n",
              "1433    1015  \n",
              "1434    1015  \n",
              "\n",
              "[340 rows x 10 columns]"
            ],
            "text/html": "<div>\n<style scoped>\n    .dataframe tbody tr th:only-of-type {\n        vertical-align: middle;\n    }\n\n    .dataframe tbody tr th {\n        vertical-align: top;\n    }\n\n    .dataframe thead th {\n        text-align: right;\n    }\n</style>\n<table border=\"1\" class=\"dataframe\">\n  <thead>\n    <tr style=\"text-align: right;\">\n      <th></th>\n      <th>Price</th>\n      <th>Age</th>\n      <th>KM</th>\n      <th>FuelType</th>\n      <th>HP</th>\n      <th>MetColor</th>\n      <th>Automatic</th>\n      <th>CC</th>\n      <th>Doors</th>\n      <th>Weight</th>\n    </tr>\n  </thead>\n  <tbody>\n    <tr>\n      <th>2</th>\n      <td>13950</td>\n      <td>24.0</td>\n      <td>41711.0</td>\n      <td>Diesel</td>\n      <td>90.0</td>\n      <td>NaN</td>\n      <td>0</td>\n      <td>2000</td>\n      <td>3</td>\n      <td>1165</td>\n    </tr>\n    <tr>\n      <th>6</th>\n      <td>16900</td>\n      <td>27.0</td>\n      <td>NaN</td>\n      <td>Diesel</td>\n      <td>NaN</td>\n      <td>NaN</td>\n      <td>0</td>\n      <td>2000</td>\n      <td>3</td>\n      <td>1245</td>\n    </tr>\n    <tr>\n      <th>7</th>\n      <td>18600</td>\n      <td>30.0</td>\n      <td>75889.0</td>\n      <td>NaN</td>\n      <td>90.0</td>\n      <td>1.0</td>\n      <td>0</td>\n      <td>2000</td>\n      <td>3</td>\n      <td>1245</td>\n    </tr>\n    <tr>\n      <th>9</th>\n      <td>12950</td>\n      <td>23.0</td>\n      <td>71138.0</td>\n      <td>Diesel</td>\n      <td>NaN</td>\n      <td>NaN</td>\n      <td>0</td>\n      <td>1900</td>\n      <td>3</td>\n      <td>1105</td>\n    </tr>\n    <tr>\n      <th>15</th>\n      <td>22000</td>\n      <td>28.0</td>\n      <td>18739.0</td>\n      <td>Petrol</td>\n      <td>NaN</td>\n      <td>0.0</td>\n      <td>0</td>\n      <td>1800</td>\n      <td>3</td>\n      <td>1185</td>\n    </tr>\n    <tr>\n      <th>...</th>\n      <td>...</td>\n      <td>...</td>\n      <td>...</td>\n      <td>...</td>\n      <td>...</td>\n      <td>...</td>\n      <td>...</td>\n      <td>...</td>\n      <td>...</td>\n      <td>...</td>\n    </tr>\n    <tr>\n      <th>1428</th>\n      <td>8450</td>\n      <td>72.0</td>\n      <td>NaN</td>\n      <td>Petrol</td>\n      <td>86.0</td>\n      <td>NaN</td>\n      <td>0</td>\n      <td>1300</td>\n      <td>3</td>\n      <td>1015</td>\n    </tr>\n    <tr>\n      <th>1431</th>\n      <td>7500</td>\n      <td>NaN</td>\n      <td>20544.0</td>\n      <td>Petrol</td>\n      <td>86.0</td>\n      <td>1.0</td>\n      <td>0</td>\n      <td>1300</td>\n      <td>3</td>\n      <td>1025</td>\n    </tr>\n    <tr>\n      <th>1432</th>\n      <td>10845</td>\n      <td>72.0</td>\n      <td>NaN</td>\n      <td>Petrol</td>\n      <td>86.0</td>\n      <td>0.0</td>\n      <td>0</td>\n      <td>1300</td>\n      <td>3</td>\n      <td>1015</td>\n    </tr>\n    <tr>\n      <th>1433</th>\n      <td>8500</td>\n      <td>NaN</td>\n      <td>17016.0</td>\n      <td>Petrol</td>\n      <td>86.0</td>\n      <td>0.0</td>\n      <td>0</td>\n      <td>1300</td>\n      <td>3</td>\n      <td>1015</td>\n    </tr>\n    <tr>\n      <th>1434</th>\n      <td>7250</td>\n      <td>70.0</td>\n      <td>NaN</td>\n      <td>NaN</td>\n      <td>86.0</td>\n      <td>1.0</td>\n      <td>0</td>\n      <td>1300</td>\n      <td>3</td>\n      <td>1015</td>\n    </tr>\n  </tbody>\n</table>\n<p>340 rows × 10 columns</p>\n</div>"
          },
          "metadata": {},
          "execution_count": 15
        }
      ]
    },
    {
      "cell_type": "code",
      "metadata": {
        "colab": {
          "base_uri": "https://localhost:8080/",
          "height": 320
        },
        "id": "mPm8i-4p0qL6",
        "outputId": "42c1216b-7414-4e7f-c037-8a2626d1306e"
      },
      "source": [
        "cars_data2.describe()"
      ],
      "execution_count": 16,
      "outputs": [
        {
          "output_type": "execute_result",
          "data": {
            "text/plain": [
              "              Price          Age             KM           HP     MetColor  \\\n",
              "count   1436.000000  1336.000000    1421.000000  1430.000000  1286.000000   \n",
              "mean   10730.824513    55.672156   68647.239972   101.478322     0.674961   \n",
              "std     3626.964585    18.589804   37333.023589    14.768255     0.468572   \n",
              "min     4350.000000     1.000000       1.000000    69.000000     0.000000   \n",
              "25%     8450.000000    43.000000   43210.000000    90.000000     0.000000   \n",
              "50%     9900.000000    60.000000   63634.000000   110.000000     1.000000   \n",
              "75%    11950.000000    70.000000   87000.000000   110.000000     1.000000   \n",
              "max    32500.000000    80.000000  243000.000000   192.000000     1.000000   \n",
              "\n",
              "         Automatic           CC      Weight  \n",
              "count  1436.000000  1436.000000  1436.00000  \n",
              "mean      0.055710  1566.827994  1072.45961  \n",
              "std       0.229441   187.182436    52.64112  \n",
              "min       0.000000  1300.000000  1000.00000  \n",
              "25%       0.000000  1400.000000  1040.00000  \n",
              "50%       0.000000  1600.000000  1070.00000  \n",
              "75%       0.000000  1600.000000  1085.00000  \n",
              "max       1.000000  2000.000000  1615.00000  "
            ],
            "text/html": "<div>\n<style scoped>\n    .dataframe tbody tr th:only-of-type {\n        vertical-align: middle;\n    }\n\n    .dataframe tbody tr th {\n        vertical-align: top;\n    }\n\n    .dataframe thead th {\n        text-align: right;\n    }\n</style>\n<table border=\"1\" class=\"dataframe\">\n  <thead>\n    <tr style=\"text-align: right;\">\n      <th></th>\n      <th>Price</th>\n      <th>Age</th>\n      <th>KM</th>\n      <th>HP</th>\n      <th>MetColor</th>\n      <th>Automatic</th>\n      <th>CC</th>\n      <th>Weight</th>\n    </tr>\n  </thead>\n  <tbody>\n    <tr>\n      <th>count</th>\n      <td>1436.000000</td>\n      <td>1336.000000</td>\n      <td>1421.000000</td>\n      <td>1430.000000</td>\n      <td>1286.000000</td>\n      <td>1436.000000</td>\n      <td>1436.000000</td>\n      <td>1436.00000</td>\n    </tr>\n    <tr>\n      <th>mean</th>\n      <td>10730.824513</td>\n      <td>55.672156</td>\n      <td>68647.239972</td>\n      <td>101.478322</td>\n      <td>0.674961</td>\n      <td>0.055710</td>\n      <td>1566.827994</td>\n      <td>1072.45961</td>\n    </tr>\n    <tr>\n      <th>std</th>\n      <td>3626.964585</td>\n      <td>18.589804</td>\n      <td>37333.023589</td>\n      <td>14.768255</td>\n      <td>0.468572</td>\n      <td>0.229441</td>\n      <td>187.182436</td>\n      <td>52.64112</td>\n    </tr>\n    <tr>\n      <th>min</th>\n      <td>4350.000000</td>\n      <td>1.000000</td>\n      <td>1.000000</td>\n      <td>69.000000</td>\n      <td>0.000000</td>\n      <td>0.000000</td>\n      <td>1300.000000</td>\n      <td>1000.00000</td>\n    </tr>\n    <tr>\n      <th>25%</th>\n      <td>8450.000000</td>\n      <td>43.000000</td>\n      <td>43210.000000</td>\n      <td>90.000000</td>\n      <td>0.000000</td>\n      <td>0.000000</td>\n      <td>1400.000000</td>\n      <td>1040.00000</td>\n    </tr>\n    <tr>\n      <th>50%</th>\n      <td>9900.000000</td>\n      <td>60.000000</td>\n      <td>63634.000000</td>\n      <td>110.000000</td>\n      <td>1.000000</td>\n      <td>0.000000</td>\n      <td>1600.000000</td>\n      <td>1070.00000</td>\n    </tr>\n    <tr>\n      <th>75%</th>\n      <td>11950.000000</td>\n      <td>70.000000</td>\n      <td>87000.000000</td>\n      <td>110.000000</td>\n      <td>1.000000</td>\n      <td>0.000000</td>\n      <td>1600.000000</td>\n      <td>1085.00000</td>\n    </tr>\n    <tr>\n      <th>max</th>\n      <td>32500.000000</td>\n      <td>80.000000</td>\n      <td>243000.000000</td>\n      <td>192.000000</td>\n      <td>1.000000</td>\n      <td>1.000000</td>\n      <td>2000.000000</td>\n      <td>1615.00000</td>\n    </tr>\n  </tbody>\n</table>\n</div>"
          },
          "metadata": {},
          "execution_count": 16
        }
      ]
    },
    {
      "cell_type": "code",
      "metadata": {
        "colab": {
          "base_uri": "https://localhost:8080/"
        },
        "id": "Q1PHJhbl1WZb",
        "outputId": "7794f2cf-8abe-410d-9bb8-b13aa706a31e"
      },
      "source": [
        "print(cars_data2['Age'].mean())\n",
        "\n",
        "# to deal with NaN value, replace all NaN with mean\n",
        "cars_data2['Age'].fillna(cars_data2['Age'].mean(),inplace = True)\n",
        "cars_data2['HP'].fillna(cars_data2['HP'].mean(),inplace = True)\n",
        "cars_data2['KM'].fillna(cars_data2['KM'].mean(),inplace = True)\n",
        "print(cars_data2.isna().sum())"
      ],
      "execution_count": 17,
      "outputs": [
        {
          "output_type": "stream",
          "name": "stdout",
          "text": [
            "55.67215568862275\nPrice          0\nAge            0\nKM             0\nFuelType     100\nHP             0\nMetColor     150\nAutomatic      0\nCC             0\nDoors          0\nWeight         0\ndtype: int64\n"
          ]
        }
      ]
    },
    {
      "source": [
        "### Imputation of categorical data\n",
        "#### For FuelType"
      ],
      "cell_type": "markdown",
      "metadata": {}
    },
    {
      "cell_type": "code",
      "execution_count": 18,
      "metadata": {},
      "outputs": [
        {
          "output_type": "stream",
          "name": "stdout",
          "text": [
            "Petrol    1177\nDiesel     144\nCNG         15\nName: FuelType, dtype: int64\n"
          ]
        }
      ],
      "source": [
        "print(cars_data2['FuelType'].value_counts())\n",
        "# value counts always returns values in descending order"
      ]
    },
    {
      "cell_type": "code",
      "execution_count": 22,
      "metadata": {},
      "outputs": [
        {
          "output_type": "stream",
          "name": "stdout",
          "text": [
            "Petrol\nPetrol    1277\nDiesel     144\nCNG         15\nName: FuelType, dtype: int64\n"
          ]
        }
      ],
      "source": [
        "# print(cars_data2['FuelType'].value_counts()[0])\n",
        "print(cars_data2['FuelType'].value_counts().index[0])\n",
        "\n",
        "cars_data2['FuelType'].fillna(cars_data2['FuelType'].value_counts().index[0],inplace = True)\n",
        "print(cars_data2['FuelType'].value_counts())\n"
      ]
    },
    {
      "source": [
        "#### For MetColor\n"
      ],
      "cell_type": "markdown",
      "metadata": {}
    },
    {
      "source": [
        "print(cars_data2['MetColor'].value_counts())\n",
        "print()\n",
        "print(cars_data2['MetColor'].value_counts().index[0])\n",
        "print()\n",
        "print(cars_data2['MetColor'].mode())\n",
        "print()\n",
        "print(cars_data2['MetColor'].mode()[0])\n",
        "print()\n",
        "\n",
        "cars_data2['MetColor'].fillna(cars_data2['MetColor'].value_counts().index[0], inplace = True)"
      ],
      "cell_type": "code",
      "metadata": {},
      "execution_count": 27,
      "outputs": [
        {
          "output_type": "stream",
          "name": "stdout",
          "text": [
            "1.0    868\n0.0    418\nName: MetColor, dtype: int64\n\n1.0\n\n0    1.0\ndtype: float64\n\n1.0\n\n"
          ]
        }
      ]
    },
    {
      "cell_type": "code",
      "execution_count": 29,
      "metadata": {},
      "outputs": [],
      "source": [
        "cars_data2.isna().sum()\n",
        "cars_data2.to_csv('files\\\\Toyota_null_clean.csv')"
      ]
    },
    {
      "source": [
        "## Using Lambda functions in dataframe"
      ],
      "cell_type": "markdown",
      "metadata": {}
    },
    {
      "cell_type": "code",
      "execution_count": 65,
      "metadata": {},
      "outputs": [],
      "source": [
        "cars_data3 = pandas.read_csv('files\\\\Toyota.csv', na_values=['??','????'], index_col = 0)"
      ]
    },
    {
      "cell_type": "code",
      "execution_count": 67,
      "metadata": {},
      "outputs": [
        {
          "output_type": "stream",
          "name": "stdout",
          "text": [
            "<class 'pandas.core.frame.DataFrame'>\nInt64Index: 1436 entries, 0 to 1435\nData columns (total 10 columns):\n #   Column     Non-Null Count  Dtype \n---  ------     --------------  ----- \n 0   Price      1436 non-null   int64 \n 1   Age        1436 non-null   object\n 2   KM         1436 non-null   object\n 3   FuelType   1436 non-null   object\n 4   HP         1436 non-null   object\n 5   MetColor   1436 non-null   object\n 6   Automatic  1436 non-null   int64 \n 7   CC         1436 non-null   int64 \n 8   Doors      1436 non-null   object\n 9   Weight     1436 non-null   int64 \ndtypes: int64(4), object(6)\nmemory usage: 123.4+ KB\n"
          ]
        }
      ],
      "source": [
        "my_lambda = lambda x : x.fillna(x.mean) if x.dtype == float else x.fillna(x.value_counts().index[0])\n",
        "\n",
        "cars_data3 = cars_data3.apply(my_lambda)\n",
        "# this will apply the lambda function to all columns of the dataframe. here column is passed as x\n",
        "\n",
        "# apply function is not inplace so, we have to override dataframe value.\n",
        "\n",
        "# cars_data3.info()\n",
        "# cars_data3.describe()\n",
        "cars_data3.info()"
      ]
    },
    {
      "source": [
        "__Task 2__ : Write a function to impute the missing numerical and categorical values in toyota dataset. also store the refined dataset, for which model can be generated."
      ],
      "cell_type": "markdown",
      "metadata": {}
    },
    {
      "cell_type": "code",
      "execution_count": 85,
      "metadata": {},
      "outputs": [
        {
          "output_type": "stream",
          "name": "stdout",
          "text": [
            "<class 'pandas.core.frame.DataFrame'>\nInt64Index: 1436 entries, 0 to 1435\nData columns (total 10 columns):\n #   Column     Non-Null Count  Dtype  \n---  ------     --------------  -----  \n 0   Price      1436 non-null   int64  \n 1   Age        1436 non-null   float64\n 2   KM         1436 non-null   float64\n 3   FuelType   1436 non-null   object \n 4   HP         1436 non-null   float64\n 5   MetColor   1436 non-null   float64\n 6   Automatic  1436 non-null   int64  \n 7   CC         1436 non-null   int64  \n 8   Doors      1436 non-null   object \n 9   Weight     1436 non-null   int64  \ndtypes: float64(4), int64(4), object(2)\nmemory usage: 123.4+ KB\n"
          ]
        }
      ],
      "source": [
        "def impute_null(df):\n",
        "    for col in df.columns:\n",
        "        if df[col].isna().sum() > 0:\n",
        "            if(df[col].dtype in [int,float]):\n",
        "                df[col].fillna(df[col].mean(),inplace = True)\n",
        "            else:\n",
        "                df[col].fillna(df[col].value_counts().index[0],inplace = True)\n",
        "\n",
        "cars_data4 = pandas.read_csv('files\\\\Toyota.csv', na_values=['??','????'], index_col = 0)\n",
        "\n",
        "impute_null(cars_data4)\n",
        "cars_data4.info()\n",
        "cars_data4.to_csv('files\\\\Toyota_impute_null.csv')"
      ]
    },
    {
      "cell_type": "code",
      "execution_count": 87,
      "metadata": {},
      "outputs": [
        {
          "output_type": "stream",
          "name": "stdout",
          "text": [
            "<class 'pandas.core.frame.DataFrame'>\nInt64Index: 1436 entries, 0 to 1435\nData columns (total 10 columns):\n #   Column     Non-Null Count  Dtype  \n---  ------     --------------  -----  \n 0   Price      1436 non-null   int64  \n 1   Age        1436 non-null   float64\n 2   KM         1436 non-null   float64\n 3   FuelType   1436 non-null   object \n 4   HP         1436 non-null   float64\n 5   MetColor   1436 non-null   float64\n 6   Automatic  1436 non-null   int64  \n 7   CC         1436 non-null   int64  \n 8   Doors      1436 non-null   object \n 9   Weight     1436 non-null   int64  \ndtypes: float64(4), int64(4), object(2)\nmemory usage: 123.4+ KB\n"
          ]
        }
      ],
      "source": [
        "# using apply\n",
        "\n",
        "def impute_null2(col):\n",
        "    if col.isna().sum() > 0:\n",
        "        if(col.dtype in [int,float]):\n",
        "            col = col.fillna(col.mean())\n",
        "        else:\n",
        "            col = col.fillna(col.value_counts().index[0])\n",
        "    return col\n",
        "\n",
        "cars_data5 = pandas.read_csv('files\\\\Toyota.csv', na_values=['??','????'], index_col = 0)\n",
        "\n",
        "cars_data6 = cars_data5.apply(impute_null2)\n",
        "cars_data6.info()\n",
        "cars_data6.to_csv('files\\\\Toyota_impute_null.csv')"
      ]
    },
    {
      "source": [
        "__Task 3__ : write a function, to identify the unique values in dataset so we can preprocess the data by changing the actual datatype and removing noise values."
      ],
      "cell_type": "markdown",
      "metadata": {}
    },
    {
      "cell_type": "code",
      "execution_count": 108,
      "metadata": {
        "tags": []
      },
      "outputs": [
        {
          "output_type": "stream",
          "name": "stdout",
          "text": [
            "[13500 13750 13950 14950 12950 16900 18600 21500 20950 19950 19600 22500\n 22000 22750 17950 16750 16950 15950 16250 17495 15750 15500 14750 19000\n 15800 21950 20500 13250 15250 18950 15999 16500 18750 22250 12995 18450\n 16895 14900 17250 15450 16650 17450 16450 18900 18990 18500 19450 18800\n 32500 31000 31275 24950 22950 24990 17900 19250 16350 21750 15850 23000\n 19900 23950 24500 17200 19500 16868 19750 20750 17650 17795 18245 23750\n 18700 21125  6950  9500 11950  7750  4350  4750 11750 11900  9950 11495\n 11250 10500 10450 11500 12500 10950 11450 11790 12450 11690 12750 11925\n 12900 11650 10850  9940 13450 12495 12000 11480 14990 12850 11700 11895\n 13875 12295 13995  9900 11990 10750 11695 11000 12400 12200 12695 14350\n 10250  6500  6400  7000  8900  8500  8950  9250  9450  8250  4450  9000\n  5150  7900 10900  9750 11290 10895 10995  9850  8695 10990  8750  9930\n  9799  9700  9990  9475 10000 10495  9400  9650  9550 13000 11710  9980\n 12250 11930 10800 10600  7500  5950  6900  5751  7950  6250  8450  7350\n  9800  7995  8600  7250  8000  8495  9895  7999  8490  8150  7450  9130\n  8990  8995  9995 10400  8800  7800  8100  8200 10295  9795 10350  8400\n  8895  9390  8745  8850  9695  9245  5900  6000  5250  4400  6750  6150\n  5750  5800  5740  6550  6450  5600  6650  7600  7460  6800  8700  6640\n  8050  7795  6490  6425  6495  6990  7200  7300  9200  7850  7495  7990\n  7490  7145  7400  6999  7499  7150  5845 10845]\n\n[23. 24. 26. 30. 32. 27. 25. 22. 31. 28. 29. nan 20. 19. 17. 11. 18. 13.\n 14.  4.  8.  7. 16. 15. 10. 12.  9.  6.  2.  1. 43. 38. 40. 44. 41. 37.\n 39. 42. 35. 34. 33. 36. 53. 51. 54. 45. 55. 48. 52. 49. 56. 50. 47. 46.\n 58. 68. 59. 62. 65. 67. 64. 60. 61. 66. 57. 63. 73. 79. 78. 74. 77. 69.\n 80. 76. 70. 71. 75. 72.]\n\n[46986. 72937. 41711. ... 30964. 20544. 17016.]\n\n['Diesel' nan 'Petrol' 'CNG']\n\n[ 90.  nan 192. 110.  97.  71. 116.  98.  69.  86.  72. 107.  73.]\n\n[ 1. nan  0.]\n\n[0 1]\n\n[2000 1800 1900 1600 1400 1598 1995 1398 1300 1587 1975 1332]\n\n['three' '3' '5' '4' 'four' 'five' '2']\n\n[1165 1170 1245 1185 1105 1065 1120 1100 1255 1270 1110 1195 1180 1075\n 1130 1275 1060 1115 1265 1260 1125 1155 1045 1480 1320 1280 1135 1090\n 1150 1085 1160 1205 1084 1140 1095 1025 1119 1080 1121 1615 1067 1040\n 1030 1055 1050 1103 1070 1035 1015 1000 1078 1079 1109 1020 1010 1114\n 1172 1094 1083]\n\n"
          ]
        }
      ],
      "source": [
        "def find_unique(df):\n",
        "    l = []\n",
        "    for col in df.columns:\n",
        "        l.append(df[col].unique())\n",
        "    for item in l:\n",
        "        print(item)\n",
        "        print()\n",
        "    return l\n",
        "\n",
        "cars_data = pandas.read_csv('files\\\\Toyota.csv', na_values=['??','????'], index_col = 0)\n",
        "\n",
        "find_unique(cars_data)"
      ]
    }
  ]
}