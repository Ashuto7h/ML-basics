{
  "nbformat": 4,
  "nbformat_minor": 0,
  "metadata": {
    "colab": {
      "name": "L 1.2 - Numpy extras.ipynb",
      "provenance": [],
      "collapsed_sections": []
    },
    "kernelspec": {
      "name": "python3",
      "display_name": "Python 3",
      "language": "python"
    }
  },
  "cells": [
    {
      "cell_type": "markdown",
      "metadata": {
        "id": "gt0T5xUoH1oI"
      },
      "source": [
        "## Array Creation"
      ]
    },
    {
      "cell_type": "code",
      "metadata": {
        "colab": {
          "base_uri": "https://localhost:8080/"
        },
        "id": "PuWjfhD7-E0b",
        "outputId": "c8629481-5558-4fb5-fc84-4199798e246e"
      },
      "source": [
        "import numpy as np\r\n",
        "\r\n",
        "# full() \r\n",
        "arr1 = np.full((2,3),5) # creates 2*3 array with all values = 5.\r\n",
        "print(arr1)\r\n",
        "print()\r\n",
        "\r\n",
        "arr2 = np.full((2,3), [3,2,3]) \r\n",
        "print(arr2)\r\n",
        "print()\r\n",
        "\r\n",
        "# empty()\r\n",
        "arr3 = np.empty((2,3)) # creates Array of uninitialized (arbitrary) data of the given shape,\r\n",
        "print(arr3)"
      ],
      "execution_count": 1,
      "outputs": [
        {
          "output_type": "stream",
          "name": "stdout",
          "text": [
            "[[5 5 5]\n [5 5 5]]\n\n[[3 2 3]\n [3 2 3]]\n\n[[6.23061763e-307 6.23059386e-307 1.50201822e-307]\n [4.67296746e-307 1.69121096e-306 1.29061821e-306]]\n"
          ]
        }
      ]
    },
    {
      "cell_type": "markdown",
      "metadata": {
        "id": "L9mRHulkHwDz"
      },
      "source": [
        "## Working with CSV files"
      ]
    },
    {
      "cell_type": "code",
      "metadata": {
        "colab": {
          "base_uri": "https://localhost:8080/"
        },
        "id": "pW2JQf2a_8f2",
        "outputId": "3d931b53-fed8-4c03-e283-38a450e9aa7c"
      },
      "source": [
        "# loading csv file\n",
        "arr1 = np.genfromtxt('files\\\\Iris.csv', delimiter=',')\n",
        "print(arr1[:10])\n",
        "print()\n",
        "\n",
        "\n",
        "# loading only float values\n",
        "arr2 = np.genfromtxt('files\\\\Iris.csv', delimiter=',',dtype='str' )\n",
        "print(arr2[:5])\n",
        "\n",
        "arr3 = np.array(arr2[1:,:5]).astype(float) # remove csv header and string columns\n",
        "print(arr3[:5])\n",
        "print()\n",
        "\n",
        "\n",
        "# to work with csv headers, use names = True\n",
        "arr4 = np.genfromtxt('files\\\\Iris.csv', delimiter=',', names = True)\n",
        "print(arr4['Id'][:10])"
      ],
      "execution_count": 4,
      "outputs": [
        {
          "output_type": "stream",
          "name": "stdout",
          "text": [
            "[[nan nan nan nan nan nan]\n [1.  5.1 3.5 1.4 0.2 nan]\n [2.  4.9 3.  1.4 0.2 nan]\n [3.  4.7 3.2 1.3 0.2 nan]\n [4.  4.6 3.1 1.5 0.2 nan]\n [5.  5.  3.6 1.4 0.2 nan]\n [6.  5.4 3.9 1.7 0.4 nan]\n [7.  4.6 3.4 1.4 0.3 nan]\n [8.  5.  3.4 1.5 0.2 nan]\n [9.  4.4 2.9 1.4 0.2 nan]]\n\n[['Id' 'SepalLengthCm' 'SepalWidthCm' 'PetalLengthCm' 'PetalWidthCm'\n  'Species']\n ['1' '5.1' '3.5' '1.4' '0.2' 'Iris-setosa']\n ['2' '4.9' '3.0' '1.4' '0.2' 'Iris-setosa']\n ['3' '4.7' '3.2' '1.3' '0.2' 'Iris-setosa']\n ['4' '4.6' '3.1' '1.5' '0.2' 'Iris-setosa']]\n[[1.  5.1 3.5 1.4 0.2]\n [2.  4.9 3.  1.4 0.2]\n [3.  4.7 3.2 1.3 0.2]\n [4.  4.6 3.1 1.5 0.2]\n [5.  5.  3.6 1.4 0.2]]\n\n[ 1.  2.  3.  4.  5.  6.  7.  8.  9. 10.]\n"
          ]
        }
      ]
    },
    {
      "cell_type": "markdown",
      "metadata": {
        "id": "_TL25OvaB2I7"
      },
      "source": [
        "## saving numpy array as txt or csv"
      ]
    },
    {
      "cell_type": "code",
      "metadata": {
        "id": "5XdjPZcVJXnz"
      },
      "source": [
        "# saving a numpy array as txt file\r\n",
        "np.savetxt(\"arr4.txt\", arr4, delimiter=' ')\r\n",
        "# change extension to .csv and delimeter to ',' for saving as csv\r\n",
        "np.savetxt(\"arr4.csv\", arr4, delimiter=',')"
      ],
      "execution_count": null,
      "outputs": []
    },
    {
      "cell_type": "markdown",
      "metadata": {
        "id": "zoJezfIqKgSL"
      },
      "source": [
        "## Sorting array"
      ]
    },
    {
      "cell_type": "code",
      "metadata": {
        "colab": {
          "base_uri": "https://localhost:8080/"
        },
        "id": "Gy5e2594Kiro",
        "outputId": "886bf885-0373-49b9-b27e-bf444721fcf2"
      },
      "source": [
        "# sort() function return None. it sorts inplace\r\n",
        "arr3.sort()\r\n",
        "print(arr3[:5]) # by default sort by innermost axis, (here by columns of a row).\r\n",
        "print()\r\n",
        "\r\n",
        "arr3.sort(axis = 0) # sort by rows\r\n",
        "print(arr3[:5])\r\n"
      ],
      "execution_count": null,
      "outputs": [
        {
          "output_type": "stream",
          "text": [
            "[[0.2 1.  1.4 3.5 5.1]\n",
            " [0.2 1.4 2.  3.  4.9]\n",
            " [0.2 1.3 3.  3.2 4.7]\n",
            " [0.2 1.5 3.1 4.  4.6]\n",
            " [0.2 1.4 3.6 5.  5. ]]\n",
            "\n",
            "[[0.1 1.  1.4 3.  4.6]\n",
            " [0.1 1.  2.  3.2 4.7]\n",
            " [0.1 1.1 2.3 3.5 4.9]\n",
            " [0.1 1.2 2.9 4.  5. ]\n",
            " [0.1 1.2 3.  4.3 5.1]]\n"
          ],
          "name": "stdout"
        }
      ]
    },
    {
      "cell_type": "code",
      "metadata": {
        "id": "ijcbeDVnKYww"
      },
      "source": [],
      "execution_count": null,
      "outputs": []
    }
  ]
}