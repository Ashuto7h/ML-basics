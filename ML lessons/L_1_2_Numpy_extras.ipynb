{
  "nbformat": 4,
  "nbformat_minor": 0,
  "metadata": {
    "colab": {
      "name": "L 1.2 - Numpy extras.ipynb",
      "provenance": [],
      "collapsed_sections": []
    },
    "kernelspec": {
      "name": "python3",
      "display_name": "Python 3"
    }
  },
  "cells": [
    {
      "cell_type": "markdown",
      "metadata": {
        "id": "gt0T5xUoH1oI"
      },
      "source": [
        "## Array Creation"
      ]
    },
    {
      "cell_type": "code",
      "metadata": {
        "colab": {
          "base_uri": "https://localhost:8080/"
        },
        "id": "PuWjfhD7-E0b",
        "outputId": "c8629481-5558-4fb5-fc84-4199798e246e"
      },
      "source": [
        "import numpy as np\r\n",
        "\r\n",
        "# full() \r\n",
        "arr1 = np.full((2,3),5) # creates 2*3 array with all values = 5.\r\n",
        "print(arr1)\r\n",
        "print()\r\n",
        "\r\n",
        "arr2 = np.full((2,3), [3,2,3]) \r\n",
        "print(arr2)\r\n",
        "print()\r\n",
        "\r\n",
        "# empty()\r\n",
        "arr3 = np.empty((2,3)) # creates Array of uninitialized (arbitrary) data of the given shape,\r\n",
        "print(arr3)"
      ],
      "execution_count": null,
      "outputs": [
        {
          "output_type": "stream",
          "text": [
            "[[5 5 5]\n",
            " [5 5 5]]\n",
            "\n",
            "[[3 2 3]\n",
            " [3 2 3]]\n",
            "\n",
            "[[1.5e-323 9.9e-324 1.5e-323]\n",
            " [1.5e-323 9.9e-324 1.5e-323]]\n"
          ],
          "name": "stdout"
        }
      ]
    },
    {
      "cell_type": "markdown",
      "metadata": {
        "id": "L9mRHulkHwDz"
      },
      "source": [
        "## Working with CSV files"
      ]
    },
    {
      "cell_type": "code",
      "metadata": {
        "colab": {
          "base_uri": "https://localhost:8080/"
        },
        "id": "pW2JQf2a_8f2",
        "outputId": "3d931b53-fed8-4c03-e283-38a450e9aa7c"
      },
      "source": [
        "# loading csv file\r\n",
        "arr1 = np.genfromtxt('Iris.csv', delimiter=',')\r\n",
        "print(arr1[:10])\r\n",
        "print()\r\n",
        "\r\n",
        "\r\n",
        "# loading only float values\r\n",
        "arr2 = np.genfromtxt('Iris.csv', delimiter=',',dtype='str' )\r\n",
        "print(arr2[:5])\r\n",
        "\r\n",
        "arr3 = np.array(arr2[1:,:5]).astype(float) # remove csv header and string columns\r\n",
        "print(arr3[:5])\r\n",
        "print()\r\n",
        "\r\n",
        "\r\n",
        "# to work with csv headers, use names = True\r\n",
        "arr4 = np.genfromtxt('Iris.csv', delimiter=',', names = True)\r\n",
        "print(arr4['Id'][:10])"
      ],
      "execution_count": null,
      "outputs": [
        {
          "output_type": "stream",
          "text": [
            "[[nan nan nan nan nan nan]\n",
            " [1.  5.1 3.5 1.4 0.2 nan]\n",
            " [2.  4.9 3.  1.4 0.2 nan]\n",
            " [3.  4.7 3.2 1.3 0.2 nan]\n",
            " [4.  4.6 3.1 1.5 0.2 nan]\n",
            " [5.  5.  3.6 1.4 0.2 nan]\n",
            " [6.  5.4 3.9 1.7 0.4 nan]\n",
            " [7.  4.6 3.4 1.4 0.3 nan]\n",
            " [8.  5.  3.4 1.5 0.2 nan]\n",
            " [9.  4.4 2.9 1.4 0.2 nan]]\n",
            "\n",
            "[['Id' 'SepalLengthCm' 'SepalWidthCm' 'PetalLengthCm' 'PetalWidthCm'\n",
            "  'Species']\n",
            " ['1' '5.1' '3.5' '1.4' '0.2' 'Iris-setosa']\n",
            " ['2' '4.9' '3.0' '1.4' '0.2' 'Iris-setosa']\n",
            " ['3' '4.7' '3.2' '1.3' '0.2' 'Iris-setosa']\n",
            " ['4' '4.6' '3.1' '1.5' '0.2' 'Iris-setosa']]\n",
            "[[1.  5.1 3.5 1.4 0.2]\n",
            " [2.  4.9 3.  1.4 0.2]\n",
            " [3.  4.7 3.2 1.3 0.2]\n",
            " [4.  4.6 3.1 1.5 0.2]\n",
            " [5.  5.  3.6 1.4 0.2]]\n",
            "\n",
            "[ 1.  2.  3.  4.  5.  6.  7.  8.  9. 10.]\n"
          ],
          "name": "stdout"
        }
      ]
    },
    {
      "cell_type": "markdown",
      "metadata": {
        "id": "l0FtTb5YCsGQ"
      },
      "source": [
        "Iris data sample\r\n",
        "\r\n",
        "![Screenshot 2021-02-25 220351.png](data:image/png;base64,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)"
      ]
    },
    {
      "cell_type": "markdown",
      "metadata": {
        "id": "_TL25OvaB2I7"
      },
      "source": [
        "## saving numpy array as txt or csv"
      ]
    },
    {
      "cell_type": "code",
      "metadata": {
        "id": "5XdjPZcVJXnz"
      },
      "source": [
        "# saving a numpy array as txt file\r\n",
        "np.savetxt(\"arr4.txt\", arr4, delimiter=' ')\r\n",
        "# change extension to .csv and delimeter to ',' for saving as csv\r\n",
        "np.savetxt(\"arr4.csv\", arr4, delimiter=',')"
      ],
      "execution_count": null,
      "outputs": []
    },
    {
      "cell_type": "markdown",
      "metadata": {
        "id": "zoJezfIqKgSL"
      },
      "source": [
        "Sorting array"
      ]
    },
    {
      "cell_type": "code",
      "metadata": {
        "colab": {
          "base_uri": "https://localhost:8080/"
        },
        "id": "Gy5e2594Kiro",
        "outputId": "886bf885-0373-49b9-b27e-bf444721fcf2"
      },
      "source": [
        "# sort() function return None. it sorts inplace\r\n",
        "arr3.sort()\r\n",
        "print(arr3[:5]) # by default sort by innermost axis, (here by columns of a row).\r\n",
        "print()\r\n",
        "\r\n",
        "arr3.sort(axis = 0) # sort by rows\r\n",
        "print(arr3[:5])\r\n"
      ],
      "execution_count": null,
      "outputs": [
        {
          "output_type": "stream",
          "text": [
            "[[0.2 1.  1.4 3.5 5.1]\n",
            " [0.2 1.4 2.  3.  4.9]\n",
            " [0.2 1.3 3.  3.2 4.7]\n",
            " [0.2 1.5 3.1 4.  4.6]\n",
            " [0.2 1.4 3.6 5.  5. ]]\n",
            "\n",
            "[[0.1 1.  1.4 3.  4.6]\n",
            " [0.1 1.  2.  3.2 4.7]\n",
            " [0.1 1.1 2.3 3.5 4.9]\n",
            " [0.1 1.2 2.9 4.  5. ]\n",
            " [0.1 1.2 3.  4.3 5.1]]\n"
          ],
          "name": "stdout"
        }
      ]
    },
    {
      "cell_type": "code",
      "metadata": {
        "id": "ijcbeDVnKYww"
      },
      "source": [
        ""
      ],
      "execution_count": null,
      "outputs": []
    }
  ]
}