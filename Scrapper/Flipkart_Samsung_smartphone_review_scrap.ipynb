{
  "nbformat": 4,
  "nbformat_minor": 0,
  "metadata": {
    "colab": {
      "name": "Flipkart -Samsung smartphone review scrap.ipynb",
      "provenance": [],
      "collapsed_sections": []
    },
    "kernelspec": {
      "name": "python3",
      "display_name": "Python 3"
    },
    "accelerator": "GPU"
  },
  "cells": [
    {
      "cell_type": "markdown",
      "metadata": {
        "id": "7lkxwUUbh0mb"
      },
      "source": [
        "# Flipkart Samsung Smart phone reviews Scrapper\r\n",
        "## Filters applied :\r\n",
        " - __Flipkart Assured__ : true\r\n",
        " - __Brand__ : Samsung\r\n",
        " - __Operating System__ : Android\r\n",
        " - __Sim Type__ : Dual Sim\r\n",
        " - __Type__ : Smartphones\r\n",
        " - __Availablity__ : Exclude Out of Stock\r\n",
        "\r\n",
        "No. of products after applying filter : 145\r\n",
        "\r\n",
        "<!-- max no. of reviews for a product : 990 -->\r\n",
        "\r\n",
        "date - 28-02-2021\r\n",
        "\r\n",
        "[Link to phones](https://www.flipkart.com/mobiles-accessories/mobiles/pr?sid=tyy%2C4io&otracker=categorytree&p%5B%5D=facets.sim_type%255B%255D%3DDual%2BSim&p%5B%5D=facets.fulfilled_by%255B%255D%3DFlipkart%2BAssured&p%5B%5D=facets.operating_system%255B%255D%3DAndroid&p%5B%5D=facets.availability%255B%255D%3DExclude%2BOut%2Bof%2BStock&p%5B%5D=facets.type%255B%255D%3DSmartphones&p%5B%5D=facets.brand%255B%255D%3DSamsung)\r\n"
      ]
    },
    {
      "cell_type": "code",
      "metadata": {
        "id": "WXJrHm3fhyvK"
      },
      "source": [
        "from bs4 import BeautifulSoup\r\n",
        "import urllib\r\n",
        "import time\r\n",
        "from functools import partial\r\n",
        "from tqdm import tqdm\r\n",
        "tqdm = partial(tqdm, position=0, leave=True)\r\n",
        "# main link\r\n",
        "main_url = 'https://www.flipkart.com/mobiles-accessories/mobiles/pr?sid=tyy%2C4io&otracker=categorytree&p%5B%5D=facets.sim_type%255B%255D%3DDual%2BSim&p%5B%5D=facets.fulfilled_by%255B%255D%3DFlipkart%2BAssured&p%5B%5D=facets.operating_system%255B%255D%3DAndroid&p%5B%5D=facets.availability%255B%255D%3DExclude%2BOut%2Bof%2BStock&p%5B%5D=facets.type%255B%255D%3DSmartphones&p%5B%5D=facets.brand%255B%255D%3DSamsung'\r\n",
        "reqHtml = urllib.request.urlopen(main_url).read()\r\n",
        "\r\n",
        "soup = BeautifulSoup(reqHtml)"
      ],
      "execution_count": 1,
      "outputs": []
    },
    {
      "cell_type": "markdown",
      "metadata": {
        "id": "8uZkQYjChJtk"
      },
      "source": [
        "### Features of Dataset \r\n",
        "| s.no | name | type | description |\r\n",
        "| :-: | :- | :-: | :- |\r\n",
        "|1.| __product_url__ |string| url of the product |\r\n",
        "|2.| __product_name__ | string | Name of product |\r\n",
        "|3.| __mark_price__ | int | price on which product is available on flipkart|\r\n",
        "|4.| __original_price__ | int | price on which discount is given by flipkart to obtain mark_price | \r\n",
        "|5.| __star_ratings__ | float | rating of product |\r\n",
        "|6.| __no_reviews__ | int | number of reviews given to product |\r\n",
        "|7.| __total_star_givers__ | int | count of users who gave star ratings |\r\n",
        "|8.| __star_1__ | int | count of users who gave 1 star rating |\r\n",
        "|9.| __star_2__ | int | count of users who gave 2 star rating |\r\n",
        "|10.| __star_3__ | int | count of users who gave 3 star rating |\r\n",
        "|11.| __star_4__ | int | count of users who gave 4 star rating |\r\n",
        "|12.| __star_5__ | int | count of users who gave 5 star rating |\r\n",
        "|13.| __review_rating__ | int | ratings of that particular review |\r\n",
        "|14.| __review_title__ | string | title of that particular review |\r\n",
        "|15.| __review_message__ | string | message of that particular review |\r\n",
        "|16.| __reviewer_name__ | string | name of user who gave review |\r\n",
        "|17.| __reviewer_city__ | string | city of user who gave review |\r\n",
        "|18.| __review_time__ | string | time from now when the review was given. |"
      ]
    },
    {
      "cell_type": "code",
      "metadata": {
        "id": "x4GFVRfOtYZp"
      },
      "source": [
        "data_dict = {\r\n",
        "    'product_url':[],\r\n",
        "    'product_name':[],\r\n",
        "    'mark_price':[],\r\n",
        "    'original_price':[],\r\n",
        "    'star_ratings':[],\r\n",
        "    'no_reviews':[],\r\n",
        "    'total_star_givers':[],\r\n",
        "    'star_1':[],\r\n",
        "    'star_2':[],\r\n",
        "    'star_3':[],\r\n",
        "    'star_4':[],\r\n",
        "    'star_5':[],\r\n",
        "    'review_rating':[],\r\n",
        "    'review_title':[],\r\n",
        "    'review_message':[],\r\n",
        "    'reviewer_name':[],\r\n",
        "    'reviewer_city':[],\r\n",
        "    'review_time':[]\r\n",
        "}"
      ],
      "execution_count": 2,
      "outputs": []
    },
    {
      "cell_type": "markdown",
      "metadata": {
        "id": "yJ0zQLjttXZL"
      },
      "source": [
        ""
      ]
    },
    {
      "cell_type": "code",
      "metadata": {
        "id": "BWKLDsd9k7Va",
        "colab": {
          "base_uri": "https://localhost:8080/"
        },
        "outputId": "3d89bbca-2ba9-4a31-a758-599bb0858131"
      },
      "source": [
        "# getting all pages list\r\n",
        "prefix = 'https://www.flipkart.com'\r\n",
        "phone_pages_url_list = [prefix + el['href'] for el in soup.select('a.ge-49M')]\r\n",
        "for url in phone_pages_url_list:\r\n",
        "    print(url)"
      ],
      "execution_count": 3,
      "outputs": [
        {
          "output_type": "stream",
          "text": [
            "https://www.flipkart.com/mobiles-accessories/mobiles/pr?sid=tyy%2C4io&otracker=categorytree&p%5B%5D=facets.sim_type%255B%255D%3DDual%2BSim&p%5B%5D=facets.fulfilled_by%255B%255D%3DFlipkart%2BAssured&p%5B%5D=facets.operating_system%255B%255D%3DAndroid&p%5B%5D=facets.availability%255B%255D%3DExclude%2BOut%2Bof%2BStock&p%5B%5D=facets.type%255B%255D%3DSmartphones&p%5B%5D=facets.brand%255B%255D%3DSamsung&page=1\n",
            "https://www.flipkart.com/mobiles-accessories/mobiles/pr?sid=tyy%2C4io&otracker=categorytree&p%5B%5D=facets.sim_type%255B%255D%3DDual%2BSim&p%5B%5D=facets.fulfilled_by%255B%255D%3DFlipkart%2BAssured&p%5B%5D=facets.operating_system%255B%255D%3DAndroid&p%5B%5D=facets.availability%255B%255D%3DExclude%2BOut%2Bof%2BStock&p%5B%5D=facets.type%255B%255D%3DSmartphones&p%5B%5D=facets.brand%255B%255D%3DSamsung&page=2\n",
            "https://www.flipkart.com/mobiles-accessories/mobiles/pr?sid=tyy%2C4io&otracker=categorytree&p%5B%5D=facets.sim_type%255B%255D%3DDual%2BSim&p%5B%5D=facets.fulfilled_by%255B%255D%3DFlipkart%2BAssured&p%5B%5D=facets.operating_system%255B%255D%3DAndroid&p%5B%5D=facets.availability%255B%255D%3DExclude%2BOut%2Bof%2BStock&p%5B%5D=facets.type%255B%255D%3DSmartphones&p%5B%5D=facets.brand%255B%255D%3DSamsung&page=3\n",
            "https://www.flipkart.com/mobiles-accessories/mobiles/pr?sid=tyy%2C4io&otracker=categorytree&p%5B%5D=facets.sim_type%255B%255D%3DDual%2BSim&p%5B%5D=facets.fulfilled_by%255B%255D%3DFlipkart%2BAssured&p%5B%5D=facets.operating_system%255B%255D%3DAndroid&p%5B%5D=facets.availability%255B%255D%3DExclude%2BOut%2Bof%2BStock&p%5B%5D=facets.type%255B%255D%3DSmartphones&p%5B%5D=facets.brand%255B%255D%3DSamsung&page=4\n",
            "https://www.flipkart.com/mobiles-accessories/mobiles/pr?sid=tyy%2C4io&otracker=categorytree&p%5B%5D=facets.sim_type%255B%255D%3DDual%2BSim&p%5B%5D=facets.fulfilled_by%255B%255D%3DFlipkart%2BAssured&p%5B%5D=facets.operating_system%255B%255D%3DAndroid&p%5B%5D=facets.availability%255B%255D%3DExclude%2BOut%2Bof%2BStock&p%5B%5D=facets.type%255B%255D%3DSmartphones&p%5B%5D=facets.brand%255B%255D%3DSamsung&page=5\n",
            "https://www.flipkart.com/mobiles-accessories/mobiles/pr?sid=tyy%2C4io&otracker=categorytree&p%5B%5D=facets.sim_type%255B%255D%3DDual%2BSim&p%5B%5D=facets.fulfilled_by%255B%255D%3DFlipkart%2BAssured&p%5B%5D=facets.operating_system%255B%255D%3DAndroid&p%5B%5D=facets.availability%255B%255D%3DExclude%2BOut%2Bof%2BStock&p%5B%5D=facets.type%255B%255D%3DSmartphones&p%5B%5D=facets.brand%255B%255D%3DSamsung&page=6\n",
            "https://www.flipkart.com/mobiles-accessories/mobiles/pr?sid=tyy%2C4io&otracker=categorytree&p%5B%5D=facets.sim_type%255B%255D%3DDual%2BSim&p%5B%5D=facets.fulfilled_by%255B%255D%3DFlipkart%2BAssured&p%5B%5D=facets.operating_system%255B%255D%3DAndroid&p%5B%5D=facets.availability%255B%255D%3DExclude%2BOut%2Bof%2BStock&p%5B%5D=facets.type%255B%255D%3DSmartphones&p%5B%5D=facets.brand%255B%255D%3DSamsung&page=7\n"
          ],
          "name": "stdout"
        }
      ]
    },
    {
      "cell_type": "code",
      "metadata": {
        "id": "Ynr_tSb1o1iQ",
        "colab": {
          "base_uri": "https://localhost:8080/"
        },
        "outputId": "cce5e05d-0764-4f26-8572-a465c1ffa598"
      },
      "source": [
        "start_time = time.time()\n",
        "# visiting each page\n",
        "print('total',len(phone_pages_url_list),'phone pages found')\n",
        "i = 1\n",
        "try:\n",
        "    for phone_page_url in phone_pages_url_list:\n",
        "        reqHtml_1 = urllib.request.urlopen(phone_page_url).read()\n",
        "        soup_1 = BeautifulSoup(reqHtml_1)\n",
        "    \n",
        "        # getting url of all mobiles of this page.\n",
        "        phone_urls_list = [prefix + el['href'] for el in soup_1.select('a._1fQZEK')]\n",
        "        print()\n",
        "        print('phones in page', i, ':', len(phone_urls_list))\n",
        "        print()\n",
        "        i+=1\n",
        "    \n",
        "        # accessing all urls of this page\n",
        "        j = 1\n",
        "        try:\n",
        "            for phone_url in phone_urls_list:\n",
        "                reqHtml_2 = urllib.request.urlopen(phone_url).read()\n",
        "                soup_2 = BeautifulSoup(reqHtml_2)\n",
        "                \n",
        "                # get reviews page link\n",
        "                reviews_url = soup_2.select('a div._3UAT2v._16PBlm')\n",
        "                if len(reviews_url) == 0:\n",
        "                    continue\n",
        "                else:\n",
        "                    reviews_url = prefix + reviews_url[0].parent['href']\n",
        "                \n",
        "        \n",
        "                # get list of all review urls\n",
        "                reqHtml_3 = urllib.request.urlopen(reviews_url).read()\n",
        "                soup_3 = BeautifulSoup(reqHtml_3)\n",
        "                product_name = soup_3.select('a.s1Q9rs._2qfgz2')[0].get_text()\n",
        "                print()\n",
        "                print('  working on reviews of phone', j, ':', product_name)\n",
        "                j += 1\n",
        "                review_pages_count = soup_3.select('div._2MImiq._1Qnn1K span')\n",
        "                if len(review_pages_count) == 0:\n",
        "                    review_pages_count = 1\n",
        "                else:\n",
        "                    review_pages_count = review_pages_count[0].get_text()   # returns => page 1 of 2,027\n",
        "                    review_pages_count = int(''.join(review_pages_count.split()[3].split(',')))    \n",
        "                if review_pages_count > 100:\n",
        "                    review_pages_count = 99\n",
        "                print('    found', review_pages_count, 'review pages')\n",
        "        \n",
        "                product_url = prefix + soup_3.select('a.s1Q9rs._2qfgz2')[0]['href']            \n",
        "                mark_price = ''.join(soup_3.select('div._30jeq3')[0].get_text()[1:].split(','))\n",
        "                original_price = soup_3.select('div._3I9_wc')\n",
        "                if len(original_price) == 0:\n",
        "                    original_price = None\n",
        "                else:\n",
        "                    original_price = ''.join(original_price[0].get_text().split()[-1][1:].split(','))\n",
        "                star_ratings = float(soup_3.select('div._2d4LTz')[0].get_text())\n",
        "                no_reviews = soup_3.select('div.row._2afbiS')[1].select('div span')[0].get_text().split()[0]\n",
        "                no_reviews = int(''.join(no_reviews.split(',')))\n",
        "                total_star_givers = soup_3.select('div.row._2afbiS')[0].select('div span')[0].get_text().split()[0]\n",
        "                total_star_givers = int(''.join(total_star_givers.split(',')))\n",
        "                star_1 = int(''.join(soup_3.select('div._1uJVNT')[4].get_text().split(',')))\n",
        "                star_2 = int(''.join(soup_3.select('div._1uJVNT')[3].get_text().split(',')))\n",
        "                star_3 = int(''.join(soup_3.select('div._1uJVNT')[2].get_text().split(',')))\n",
        "                star_4 = int(''.join(soup_3.select('div._1uJVNT')[1].get_text().split(',')))\n",
        "                star_5 = int(''.join(soup_3.select('div._1uJVNT')[0].get_text().split(',')))\n",
        "                \n",
        "                # access all review urls\n",
        "                k = 1\n",
        "                try:\n",
        "                    for rpc in tqdm(range(1,review_pages_count+1)):\n",
        "                        reqHtml_4 = urllib.request.urlopen(reviews_url + '&page=' + str(rpc)).read()\n",
        "                        soup_4 = BeautifulSoup(reqHtml_4)\n",
        "                        review_divs = soup_4.select('div._2wzgFH.K0kLPL')\n",
        "                        for div in review_divs:\n",
        "                            review_rating = int(div.select('div._3LWZlK._1BLPMq')[0].get_text())\n",
        "                            review_title = div.select('p._2-N8zT')[0].get_text()\n",
        "                            review_message = div.select('div.t-ZTKy div div')[0].get_text()\n",
        "                            reviewer_name = div.select('p._2sc7ZR._2V5EHH')[0].get_text()\n",
        "                            reviewer_city = div.select('p._2mcZGG span')\n",
        "                            if len(reviewer_city) == 2:\n",
        "                                reviewer_city = reviewer_city[-1].get_text()[2:]\n",
        "                            else:\n",
        "                                reviewer_city = None\n",
        "                            review_time = div.select('div.row._3n8db9 div p')[2].get_text()\n",
        "                            \n",
        "                            data_dict['product_url'].append(product_url)\n",
        "                            data_dict['product_name'].append(product_name)\n",
        "                            data_dict['mark_price'].append(mark_price)\n",
        "                            data_dict['original_price'].append(original_price)\n",
        "                            data_dict['star_ratings'].append(star_ratings)\n",
        "                            data_dict['no_reviews'].append(no_reviews)\n",
        "                            data_dict['total_star_givers'].append(total_star_givers)\n",
        "                            data_dict['star_1'].append(star_1)\n",
        "                            data_dict['star_2'].append(star_2)\n",
        "                            data_dict['star_3'].append(star_3)\n",
        "                            data_dict['star_4'].append(star_4)\n",
        "                            data_dict['star_5'].append(star_5)\n",
        "                            data_dict['review_rating'].append(review_rating)\n",
        "                            data_dict['review_title'].append(review_title)\n",
        "                            data_dict['review_message'].append(review_message)\n",
        "                            data_dict['reviewer_name'].append(reviewer_name)\n",
        "                            data_dict['reviewer_city'].append(reviewer_city)\n",
        "                            data_dict['review_time'].append(review_time)\n",
        "                        \n",
        "                        k += 1\n",
        "                except:\n",
        "                     pass\n",
        "        except:\n",
        "            pass    \n",
        "except:\n",
        "    pass"
      ],
      "execution_count": 6,
      "outputs": [
        {
          "output_type": "stream",
          "text": [
            "100%|██████████| 99/99 [03:05<00:00,  1.87s/it]\n",
            "  0%|          | 0/2 [00:00<?, ?it/s]"
          ],
          "name": "stderr"
        },
        {
          "output_type": "stream",
          "text": [
            "\n",
            "  working on reviews of phone 3 : Samsung Galaxy M51 (Celestial Black, 128 GB)\n",
            "    found 2 review pages\n"
          ],
          "name": "stdout"
        },
        {
          "output_type": "stream",
          "text": [
            "100%|██████████| 2/2 [00:03<00:00,  1.91s/it]\n",
            "  0%|          | 0/1 [00:00<?, ?it/s]"
          ],
          "name": "stderr"
        },
        {
          "output_type": "stream",
          "text": [
            "\n",
            "  working on reviews of phone 4 : Samsung Galaxy S21 (Phantom White, 128 GB)\n",
            "    found 1 review pages\n"
          ],
          "name": "stdout"
        },
        {
          "output_type": "stream",
          "text": [
            "100%|██████████| 1/1 [00:01<00:00,  1.65s/it]\n",
            "  0%|          | 0/9 [00:00<?, ?it/s]"
          ],
          "name": "stderr"
        },
        {
          "output_type": "stream",
          "text": [
            "\n",
            "  working on reviews of phone 5 : Samsung Galaxy M21 (Raven Black, 128 GB)\n",
            "    found 9 review pages\n"
          ],
          "name": "stdout"
        },
        {
          "output_type": "stream",
          "text": [
            "100%|██████████| 9/9 [00:15<00:00,  1.77s/it]\n",
            "  0%|          | 0/3 [00:00<?, ?it/s]"
          ],
          "name": "stderr"
        },
        {
          "output_type": "stream",
          "text": [
            "\n",
            "  working on reviews of phone 6 : Samsung Galaxy S20 FE (Cloud Mint, 128 GB)\n",
            "    found 3 review pages\n"
          ],
          "name": "stdout"
        },
        {
          "output_type": "stream",
          "text": [
            "100%|██████████| 3/3 [00:04<00:00,  1.66s/it]\n",
            "  0%|          | 0/99 [00:00<?, ?it/s]"
          ],
          "name": "stderr"
        },
        {
          "output_type": "stream",
          "text": [
            "\n",
            "  working on reviews of phone 7 : Samsung Galaxy S10 Lite (Prism Blue, 512 GB)\n",
            "    found 99 review pages\n"
          ],
          "name": "stdout"
        },
        {
          "output_type": "stream",
          "text": [
            "100%|██████████| 99/99 [02:57<00:00,  1.80s/it]\n",
            "  0%|          | 0/4 [00:00<?, ?it/s]"
          ],
          "name": "stderr"
        },
        {
          "output_type": "stream",
          "text": [
            "\n",
            "  working on reviews of phone 8 : Samsung Galaxy M31 (Space Black, 128 GB)\n",
            "    found 4 review pages\n"
          ],
          "name": "stdout"
        },
        {
          "output_type": "stream",
          "text": [
            "100%|██████████| 4/4 [00:07<00:00,  1.86s/it]\n",
            "  0%|          | 0/2 [00:00<?, ?it/s]"
          ],
          "name": "stderr"
        },
        {
          "output_type": "stream",
          "text": [
            "\n",
            "  working on reviews of phone 9 : Samsung Galaxy S21 Ultra (Phantom Black, 512 GB)\n",
            "    found 2 review pages\n"
          ],
          "name": "stdout"
        },
        {
          "output_type": "stream",
          "text": [
            "100%|██████████| 2/2 [00:03<00:00,  1.57s/it]\n",
            "  0%|          | 0/1 [00:00<?, ?it/s]"
          ],
          "name": "stderr"
        },
        {
          "output_type": "stream",
          "text": [
            "\n",
            "  working on reviews of phone 10 : Samsung Galaxy S21 (Phantom Gray, 256 GB)\n",
            "    found 1 review pages\n"
          ],
          "name": "stdout"
        },
        {
          "output_type": "stream",
          "text": [
            "100%|██████████| 1/1 [00:01<00:00,  1.69s/it]\n",
            "  0%|          | 0/6 [00:00<?, ?it/s]"
          ],
          "name": "stderr"
        },
        {
          "output_type": "stream",
          "text": [
            "\n",
            "  working on reviews of phone 11 : Samsung Galaxy M31s (Mirage Black, 128 GB)\n",
            "    found 6 review pages\n"
          ],
          "name": "stdout"
        },
        {
          "output_type": "stream",
          "text": [
            "100%|██████████| 6/6 [00:09<00:00,  1.62s/it]\n",
            "  0%|          | 0/31 [00:00<?, ?it/s]"
          ],
          "name": "stderr"
        },
        {
          "output_type": "stream",
          "text": [
            "\n",
            "  working on reviews of phone 12 : Samsung Galaxy M30 (Gradation Black, 64 GB)\n",
            "    found 31 review pages\n"
          ],
          "name": "stdout"
        },
        {
          "output_type": "stream",
          "text": [
            "100%|██████████| 31/31 [00:54<00:00,  1.77s/it]\n",
            "  0%|          | 0/34 [00:00<?, ?it/s]"
          ],
          "name": "stderr"
        },
        {
          "output_type": "stream",
          "text": [
            "\n",
            "  working on reviews of phone 13 : Samsung Galaxy S8 Plus (Midnight Black, 64 GB)\n",
            "    found 34 review pages\n"
          ],
          "name": "stdout"
        },
        {
          "output_type": "stream",
          "text": [
            "100%|██████████| 34/34 [01:01<00:00,  1.80s/it]\n",
            "  0%|          | 0/99 [00:00<?, ?it/s]"
          ],
          "name": "stderr"
        },
        {
          "output_type": "stream",
          "text": [
            "\n",
            "  working on reviews of phone 14 : Samsung Galaxy A50 (Blue, 64 GB)\n",
            "    found 99 review pages\n"
          ],
          "name": "stdout"
        },
        {
          "output_type": "stream",
          "text": [
            "100%|██████████| 99/99 [03:02<00:00,  1.84s/it]\n"
          ],
          "name": "stderr"
        },
        {
          "output_type": "stream",
          "text": [
            "\n",
            "  working on reviews of phone 15 : Samsung Galaxy S10 (Prism White, 512 GB)\n",
            "    found 19 review pages\n",
            "\n",
            "phones in page 6 : 24\n",
            "\n"
          ],
          "name": "stdout"
        },
        {
          "output_type": "stream",
          "text": [
            "\r  0%|          | 0/3 [00:00<?, ?it/s]"
          ],
          "name": "stderr"
        },
        {
          "output_type": "stream",
          "text": [
            "\n",
            "  working on reviews of phone 1 : Samsung Galaxy S20 FE (Cloud Lavender, 128 GB)\n",
            "    found 3 review pages\n"
          ],
          "name": "stdout"
        },
        {
          "output_type": "stream",
          "text": [
            "100%|██████████| 3/3 [00:05<00:00,  1.70s/it]\n",
            "  0%|          | 0/5 [00:00<?, ?it/s]"
          ],
          "name": "stderr"
        },
        {
          "output_type": "stream",
          "text": [
            "\n",
            "  working on reviews of phone 2 : Samsung GALAXY M51 (Celestial Black, 128 GB)\n",
            "    found 5 review pages\n"
          ],
          "name": "stdout"
        },
        {
          "output_type": "stream",
          "text": [
            "100%|██████████| 5/5 [00:08<00:00,  1.76s/it]\n",
            "  0%|          | 0/99 [00:00<?, ?it/s]"
          ],
          "name": "stderr"
        },
        {
          "output_type": "stream",
          "text": [
            "\n",
            "  working on reviews of phone 3 : Samsung Galaxy A50 (Blue, 64 GB)\n",
            "    found 99 review pages\n"
          ],
          "name": "stdout"
        },
        {
          "output_type": "stream",
          "text": [
            "100%|██████████| 99/99 [02:52<00:00,  1.75s/it]\n",
            "  0%|          | 0/19 [00:00<?, ?it/s]"
          ],
          "name": "stderr"
        },
        {
          "output_type": "stream",
          "text": [
            "\n",
            "  working on reviews of phone 4 : Samsung Galaxy S10 (Prism Blue, 128 GB)\n",
            "    found 19 review pages\n"
          ],
          "name": "stdout"
        },
        {
          "output_type": "stream",
          "text": [
            "100%|██████████| 19/19 [00:34<00:00,  1.82s/it]\n",
            "  0%|          | 0/72 [00:00<?, ?it/s]"
          ],
          "name": "stderr"
        },
        {
          "output_type": "stream",
          "text": [
            "\n",
            "  working on reviews of phone 5 : Samsung Galaxy A80 (Phantom Black, 128 GB)\n",
            "    found 72 review pages\n"
          ],
          "name": "stdout"
        },
        {
          "output_type": "stream",
          "text": [
            "100%|██████████| 72/72 [02:17<00:00,  1.91s/it]\n",
            "  0%|          | 0/1 [00:00<?, ?it/s]"
          ],
          "name": "stderr"
        },
        {
          "output_type": "stream",
          "text": [
            "\n",
            "  working on reviews of phone 6 : Samsung Galaxy Note 20 (Mystic Blue, 256 GB)\n",
            "    found 1 review pages\n"
          ],
          "name": "stdout"
        },
        {
          "output_type": "stream",
          "text": [
            "100%|██████████| 1/1 [00:01<00:00,  1.56s/it]\n",
            "  0%|          | 0/12 [00:00<?, ?it/s]"
          ],
          "name": "stderr"
        },
        {
          "output_type": "stream",
          "text": [
            "\n",
            "  working on reviews of phone 7 : Samsung Galaxy A70s (Prism Crush White, 128 GB)\n",
            "    found 12 review pages\n"
          ],
          "name": "stdout"
        },
        {
          "output_type": "stream",
          "text": [
            "100%|██████████| 12/12 [00:20<00:00,  1.73s/it]\n",
            "  0%|          | 0/5 [00:00<?, ?it/s]"
          ],
          "name": "stderr"
        },
        {
          "output_type": "stream",
          "text": [
            "\n",
            "  working on reviews of phone 8 : Samsung Galaxy Note 20 Ultra 5G (Mystic Black, 256 GB)\n",
            "    found 5 review pages\n"
          ],
          "name": "stdout"
        },
        {
          "output_type": "stream",
          "text": [
            "100%|██████████| 5/5 [00:08<00:00,  1.64s/it]\n",
            "  0%|          | 0/99 [00:00<?, ?it/s]"
          ],
          "name": "stderr"
        },
        {
          "output_type": "stream",
          "text": [
            "\n",
            "  working on reviews of phone 9 : Samsung Galaxy S9 (Midnight Black, 64 GB)\n",
            "    found 99 review pages\n"
          ],
          "name": "stdout"
        },
        {
          "output_type": "stream",
          "text": [
            "100%|██████████| 99/99 [02:54<00:00,  1.76s/it]\n",
            "  0%|          | 0/7 [00:00<?, ?it/s]"
          ],
          "name": "stderr"
        },
        {
          "output_type": "stream",
          "text": [
            "\n",
            "  working on reviews of phone 10 : Samsung Galaxy A9 (Caviar Black, 128 GB)\n",
            "    found 7 review pages\n"
          ],
          "name": "stdout"
        },
        {
          "output_type": "stream",
          "text": [
            "100%|██████████| 7/7 [00:11<00:00,  1.60s/it]\n",
            "  0%|          | 0/1 [00:00<?, ?it/s]"
          ],
          "name": "stderr"
        },
        {
          "output_type": "stream",
          "text": [
            "\n",
            "  working on reviews of phone 11 : Samsung M31s (Mirage Blue, 128 GB)\n",
            "    found 1 review pages\n"
          ],
          "name": "stdout"
        },
        {
          "output_type": "stream",
          "text": [
            "100%|██████████| 1/1 [00:01<00:00,  1.57s/it]\n",
            "  0%|          | 0/34 [00:00<?, ?it/s]"
          ],
          "name": "stderr"
        },
        {
          "output_type": "stream",
          "text": [
            "\n",
            "  working on reviews of phone 12 : Samsung Galaxy S8 Plus (Coral Blue, 64 GB)\n",
            "    found 34 review pages\n"
          ],
          "name": "stdout"
        },
        {
          "output_type": "stream",
          "text": [
            "100%|██████████| 34/34 [01:01<00:00,  1.82s/it]\n",
            "  0%|          | 0/1 [00:00<?, ?it/s]"
          ],
          "name": "stderr"
        },
        {
          "output_type": "stream",
          "text": [
            "\n",
            "  working on reviews of phone 13 : Samsung Galaxy Note 20 (Mystic Bronze, 256 GB)\n",
            "    found 1 review pages\n"
          ],
          "name": "stdout"
        },
        {
          "output_type": "stream",
          "text": [
            "100%|██████████| 1/1 [00:01<00:00,  1.66s/it]\n",
            "  0%|          | 0/1 [00:00<?, ?it/s]"
          ],
          "name": "stderr"
        },
        {
          "output_type": "stream",
          "text": [
            "\n",
            "  working on reviews of phone 14 : Samsung Galaxy Note 20 (Mystic Green, 256 GB)\n",
            "    found 1 review pages\n"
          ],
          "name": "stdout"
        },
        {
          "output_type": "stream",
          "text": [
            "100%|██████████| 1/1 [00:01<00:00,  1.57s/it]\n",
            "  0%|          | 0/99 [00:00<?, ?it/s]"
          ],
          "name": "stderr"
        },
        {
          "output_type": "stream",
          "text": [
            "\n",
            "  working on reviews of phone 15 : Samsung Galaxy S9 Plus (Burgundy Red, 64 GB)\n",
            "    found 99 review pages\n"
          ],
          "name": "stdout"
        },
        {
          "output_type": "stream",
          "text": [
            "100%|██████████| 99/99 [02:55<00:00,  1.78s/it]\n",
            "  0%|          | 0/3 [00:00<?, ?it/s]"
          ],
          "name": "stderr"
        },
        {
          "output_type": "stream",
          "text": [
            "\n",
            "  working on reviews of phone 16 : Samsung Galaxy Note 9 (Ocean Blue, 512 GB)\n",
            "    found 3 review pages\n"
          ],
          "name": "stdout"
        },
        {
          "output_type": "stream",
          "text": [
            "100%|██████████| 3/3 [00:04<00:00,  1.61s/it]\n",
            "  0%|          | 0/8 [00:00<?, ?it/s]"
          ],
          "name": "stderr"
        },
        {
          "output_type": "stream",
          "text": [
            "\n",
            "  working on reviews of phone 17 : Samsung Galaxy A7-2017 (Gold Sand, 32 GB)\n",
            "    found 8 review pages\n"
          ],
          "name": "stdout"
        },
        {
          "output_type": "stream",
          "text": [
            "  0%|          | 0/8 [00:01<?, ?it/s]\n",
            "  0%|          | 0/45 [00:00<?, ?it/s]"
          ],
          "name": "stderr"
        },
        {
          "output_type": "stream",
          "text": [
            "\n",
            "  working on reviews of phone 18 : Samsung Galaxy A6+ (Blue, 64 GB)\n",
            "    found 45 review pages\n"
          ],
          "name": "stdout"
        },
        {
          "output_type": "stream",
          "text": [
            "100%|██████████| 45/45 [01:29<00:00,  1.98s/it]\n",
            "  0%|          | 0/34 [00:00<?, ?it/s]"
          ],
          "name": "stderr"
        },
        {
          "output_type": "stream",
          "text": [
            "\n",
            "  working on reviews of phone 19 : Samsung Galaxy S8 Plus (Maple Gold, 64 GB)\n",
            "    found 34 review pages\n"
          ],
          "name": "stdout"
        },
        {
          "output_type": "stream",
          "text": [
            "100%|██████████| 34/34 [00:58<00:00,  1.72s/it]\n",
            "  0%|          | 0/34 [00:00<?, ?it/s]"
          ],
          "name": "stderr"
        },
        {
          "output_type": "stream",
          "text": [
            "\n",
            "  working on reviews of phone 20 : Samsung Galaxy S8 Plus (Orchid Grey, 64 GB)\n",
            "    found 34 review pages\n"
          ],
          "name": "stdout"
        },
        {
          "output_type": "stream",
          "text": [
            "100%|██████████| 34/34 [01:12<00:00,  2.13s/it]\n",
            "  0%|          | 0/7 [00:00<?, ?it/s]"
          ],
          "name": "stderr"
        },
        {
          "output_type": "stream",
          "text": [
            "\n",
            "  working on reviews of phone 21 : Samsung Galaxy A6 (Gold, 64 GB)\n",
            "    found 7 review pages\n"
          ],
          "name": "stdout"
        },
        {
          "output_type": "stream",
          "text": [
            "100%|██████████| 7/7 [00:11<00:00,  1.68s/it]\n",
            "  0%|          | 0/2 [00:00<?, ?it/s]"
          ],
          "name": "stderr"
        },
        {
          "output_type": "stream",
          "text": [
            "\n",
            "  working on reviews of phone 22 : Samsung Galaxy S20 Ultra (Cosmic Gray, 128 GB)\n",
            "    found 2 review pages\n"
          ],
          "name": "stdout"
        },
        {
          "output_type": "stream",
          "text": [
            "100%|██████████| 2/2 [00:03<00:00,  1.60s/it]\n"
          ],
          "name": "stderr"
        },
        {
          "output_type": "stream",
          "text": [
            "\n",
            "phones in page 7 : 7\n",
            "\n"
          ],
          "name": "stdout"
        },
        {
          "output_type": "stream",
          "text": [
            "\r  0%|          | 0/99 [00:00<?, ?it/s]"
          ],
          "name": "stderr"
        },
        {
          "output_type": "stream",
          "text": [
            "\n",
            "  working on reviews of phone 1 : Samsung Galaxy On6 (Black, 64 GB)\n",
            "    found 99 review pages\n"
          ],
          "name": "stdout"
        },
        {
          "output_type": "stream",
          "text": [
            "100%|██████████| 99/99 [03:01<00:00,  1.83s/it]\n",
            "  0%|          | 0/3 [00:00<?, ?it/s]"
          ],
          "name": "stderr"
        },
        {
          "output_type": "stream",
          "text": [
            "\n",
            "  working on reviews of phone 2 : Samsung Galaxy M30 (Gradation Black, 128 GB)\n",
            "    found 3 review pages\n"
          ],
          "name": "stdout"
        },
        {
          "output_type": "stream",
          "text": [
            "100%|██████████| 3/3 [00:04<00:00,  1.61s/it]\n",
            "  0%|          | 0/99 [00:00<?, ?it/s]"
          ],
          "name": "stderr"
        },
        {
          "output_type": "stream",
          "text": [
            "\n",
            "  working on reviews of phone 3 : Samsung Galaxy J5 - 6 (New 2016 Edition) (White, 16 GB)\n",
            "    found 99 review pages\n"
          ],
          "name": "stdout"
        },
        {
          "output_type": "stream",
          "text": [
            "100%|██████████| 99/99 [02:57<00:00,  1.79s/it]\n",
            "  0%|          | 0/20 [00:00<?, ?it/s]"
          ],
          "name": "stderr"
        },
        {
          "output_type": "stream",
          "text": [
            "\n",
            "  working on reviews of phone 4 : Samsung Galaxy A10s (Green, 32 GB)\n",
            "    found 20 review pages\n"
          ],
          "name": "stdout"
        },
        {
          "output_type": "stream",
          "text": [
            "100%|██████████| 20/20 [00:35<00:00,  1.77s/it]\n",
            "  0%|          | 0/99 [00:00<?, ?it/s]"
          ],
          "name": "stderr"
        },
        {
          "output_type": "stream",
          "text": [
            "\n",
            "  working on reviews of phone 5 : Samsung Galaxy J3 Pro (Gold, 16 GB)\n",
            "    found 99 review pages\n"
          ],
          "name": "stdout"
        },
        {
          "output_type": "stream",
          "text": [
            " 36%|███▋      | 36/99 [01:00<01:41,  1.61s/it]"
          ],
          "name": "stderr"
        }
      ]
    },
    {
      "cell_type": "code",
      "metadata": {
        "id": "NS4D55SgHxBZ",
        "colab": {
          "base_uri": "https://localhost:8080/",
          "height": 1000
        },
        "outputId": "a2e7de33-d1db-4823-f70f-e30392dfb260"
      },
      "source": [
        "import pandas\n",
        "df = pandas.DataFrame(data_dict)\n",
        "df.to_csv('Flipkart_samsung_smartphone_review2.csv')\n",
        " \n",
        "print('Time taken : ', (time.time() - start_time)/60 , 'minutes')\n",
        "print(df.info())\n",
        "df.head()\n",
        "#\n"
      ],
      "execution_count": 8,
      "outputs": [
        {
          "output_type": "stream",
          "text": [
            "Time taken :  164.65678904851276 minutes\n",
            "<class 'pandas.core.frame.DataFrame'>\n",
            "RangeIndex: 75787 entries, 0 to 75786\n",
            "Data columns (total 18 columns):\n",
            " #   Column             Non-Null Count  Dtype  \n",
            "---  ------             --------------  -----  \n",
            " 0   product_url        75787 non-null  object \n",
            " 1   product_name       75787 non-null  object \n",
            " 2   mark_price         75787 non-null  object \n",
            " 3   original_price     58201 non-null  object \n",
            " 4   star_ratings       75787 non-null  float64\n",
            " 5   no_reviews         75787 non-null  int64  \n",
            " 6   total_star_givers  75787 non-null  int64  \n",
            " 7   star_1             75787 non-null  int64  \n",
            " 8   star_2             75787 non-null  int64  \n",
            " 9   star_3             75787 non-null  int64  \n",
            " 10  star_4             75787 non-null  int64  \n",
            " 11  star_5             75787 non-null  int64  \n",
            " 12  review_rating      75787 non-null  int64  \n",
            " 13  review_title       75787 non-null  object \n",
            " 14  review_message     75787 non-null  object \n",
            " 15  reviewer_name      75787 non-null  object \n",
            " 16  reviewer_city      69581 non-null  object \n",
            " 17  review_time        75787 non-null  object \n",
            "dtypes: float64(1), int64(8), object(9)\n",
            "memory usage: 10.4+ MB\n",
            "None\n"
          ],
          "name": "stdout"
        },
        {
          "output_type": "execute_result",
          "data": {
            "text/html": [
              "<div>\n",
              "<style scoped>\n",
              "    .dataframe tbody tr th:only-of-type {\n",
              "        vertical-align: middle;\n",
              "    }\n",
              "\n",
              "    .dataframe tbody tr th {\n",
              "        vertical-align: top;\n",
              "    }\n",
              "\n",
              "    .dataframe thead th {\n",
              "        text-align: right;\n",
              "    }\n",
              "</style>\n",
              "<table border=\"1\" class=\"dataframe\">\n",
              "  <thead>\n",
              "    <tr style=\"text-align: right;\">\n",
              "      <th></th>\n",
              "      <th>product_url</th>\n",
              "      <th>product_name</th>\n",
              "      <th>mark_price</th>\n",
              "      <th>original_price</th>\n",
              "      <th>star_ratings</th>\n",
              "      <th>no_reviews</th>\n",
              "      <th>total_star_givers</th>\n",
              "      <th>star_1</th>\n",
              "      <th>star_2</th>\n",
              "      <th>star_3</th>\n",
              "      <th>star_4</th>\n",
              "      <th>star_5</th>\n",
              "      <th>review_rating</th>\n",
              "      <th>review_title</th>\n",
              "      <th>review_message</th>\n",
              "      <th>reviewer_name</th>\n",
              "      <th>reviewer_city</th>\n",
              "      <th>review_time</th>\n",
              "    </tr>\n",
              "  </thead>\n",
              "  <tbody>\n",
              "    <tr>\n",
              "      <th>25364</th>\n",
              "      <td>https://www.flipkart.com/samsung-galaxy-a71-pr...</td>\n",
              "      <td>Samsung Galaxy A71 (Prism Crush Blue, 128 GB)</td>\n",
              "      <td>27499</td>\n",
              "      <td>34999</td>\n",
              "      <td>4.4</td>\n",
              "      <td>705</td>\n",
              "      <td>5611</td>\n",
              "      <td>284</td>\n",
              "      <td>95</td>\n",
              "      <td>267</td>\n",
              "      <td>1247</td>\n",
              "      <td>3718</td>\n",
              "      <td>5</td>\n",
              "      <td>Awesome</td>\n",
              "      <td>Good but not best</td>\n",
              "      <td>ALIP LASKAR</td>\n",
              "      <td>Barrackpore</td>\n",
              "      <td>8 months ago</td>\n",
              "    </tr>\n",
              "    <tr>\n",
              "      <th>25365</th>\n",
              "      <td>https://www.flipkart.com/samsung-galaxy-a71-pr...</td>\n",
              "      <td>Samsung Galaxy A71 (Prism Crush Blue, 128 GB)</td>\n",
              "      <td>27499</td>\n",
              "      <td>34999</td>\n",
              "      <td>4.4</td>\n",
              "      <td>705</td>\n",
              "      <td>5611</td>\n",
              "      <td>284</td>\n",
              "      <td>95</td>\n",
              "      <td>267</td>\n",
              "      <td>1247</td>\n",
              "      <td>3718</td>\n",
              "      <td>5</td>\n",
              "      <td>Great productok</td>\n",
              "      <td>ok</td>\n",
              "      <td>manoj kumar</td>\n",
              "      <td>Raigarh District</td>\n",
              "      <td>9 months ago</td>\n",
              "    </tr>\n",
              "    <tr>\n",
              "      <th>25366</th>\n",
              "      <td>https://www.flipkart.com/samsung-galaxy-f41-fu...</td>\n",
              "      <td>Samsung Galaxy F41 (Fusion Blue, 128 GB)</td>\n",
              "      <td>16499</td>\n",
              "      <td>20999</td>\n",
              "      <td>4.3</td>\n",
              "      <td>28030</td>\n",
              "      <td>230855</td>\n",
              "      <td>12533</td>\n",
              "      <td>5746</td>\n",
              "      <td>17504</td>\n",
              "      <td>58484</td>\n",
              "      <td>136588</td>\n",
              "      <td>5</td>\n",
              "      <td>Perfect product!</td>\n",
              "      <td>I am loving it and this is a awesome mobile . ...</td>\n",
              "      <td>Mageshwaran M</td>\n",
              "      <td>Tirunelveli</td>\n",
              "      <td>2 months ago</td>\n",
              "    </tr>\n",
              "    <tr>\n",
              "      <th>25367</th>\n",
              "      <td>https://www.flipkart.com/samsung-galaxy-f41-fu...</td>\n",
              "      <td>Samsung Galaxy F41 (Fusion Blue, 128 GB)</td>\n",
              "      <td>16499</td>\n",
              "      <td>20999</td>\n",
              "      <td>4.3</td>\n",
              "      <td>28030</td>\n",
              "      <td>230855</td>\n",
              "      <td>12533</td>\n",
              "      <td>5746</td>\n",
              "      <td>17504</td>\n",
              "      <td>58484</td>\n",
              "      <td>136588</td>\n",
              "      <td>5</td>\n",
              "      <td>Just wow!</td>\n",
              "      <td>First of all I would like to thank Flipkart fo...</td>\n",
              "      <td>Flipkart Customer</td>\n",
              "      <td>Hyderabad</td>\n",
              "      <td>2 months ago</td>\n",
              "    </tr>\n",
              "    <tr>\n",
              "      <th>25368</th>\n",
              "      <td>https://www.flipkart.com/samsung-galaxy-f41-fu...</td>\n",
              "      <td>Samsung Galaxy F41 (Fusion Blue, 128 GB)</td>\n",
              "      <td>16499</td>\n",
              "      <td>20999</td>\n",
              "      <td>4.3</td>\n",
              "      <td>28030</td>\n",
              "      <td>230855</td>\n",
              "      <td>12533</td>\n",
              "      <td>5746</td>\n",
              "      <td>17504</td>\n",
              "      <td>58484</td>\n",
              "      <td>136588</td>\n",
              "      <td>5</td>\n",
              "      <td>Best in the market!</td>\n",
              "      <td>Amazing camera quality and overall it's worth ...</td>\n",
              "      <td>Vithoba  Kolamkar</td>\n",
              "      <td>Navi Mumbai</td>\n",
              "      <td>2 months ago</td>\n",
              "    </tr>\n",
              "    <tr>\n",
              "      <th>25369</th>\n",
              "      <td>https://www.flipkart.com/samsung-galaxy-f41-fu...</td>\n",
              "      <td>Samsung Galaxy F41 (Fusion Blue, 128 GB)</td>\n",
              "      <td>16499</td>\n",
              "      <td>20999</td>\n",
              "      <td>4.3</td>\n",
              "      <td>28030</td>\n",
              "      <td>230855</td>\n",
              "      <td>12533</td>\n",
              "      <td>5746</td>\n",
              "      <td>17504</td>\n",
              "      <td>58484</td>\n",
              "      <td>136588</td>\n",
              "      <td>4</td>\n",
              "      <td>Wonderful</td>\n",
              "      <td>Honest review: Front camera is not good... Red...</td>\n",
              "      <td>Dipankar Chakraborty</td>\n",
              "      <td>Bengaluru</td>\n",
              "      <td>1 month ago</td>\n",
              "    </tr>\n",
              "    <tr>\n",
              "      <th>25370</th>\n",
              "      <td>https://www.flipkart.com/samsung-galaxy-f41-fu...</td>\n",
              "      <td>Samsung Galaxy F41 (Fusion Blue, 128 GB)</td>\n",
              "      <td>16499</td>\n",
              "      <td>20999</td>\n",
              "      <td>4.3</td>\n",
              "      <td>28030</td>\n",
              "      <td>230855</td>\n",
              "      <td>12533</td>\n",
              "      <td>5746</td>\n",
              "      <td>17504</td>\n",
              "      <td>58484</td>\n",
              "      <td>136588</td>\n",
              "      <td>1</td>\n",
              "      <td>Not recommended at all</td>\n",
              "      <td>The body is very delicate.. it got scratches a...</td>\n",
              "      <td>Suryakant bharati</td>\n",
              "      <td>Jamui</td>\n",
              "      <td>2 months ago</td>\n",
              "    </tr>\n",
              "    <tr>\n",
              "      <th>25371</th>\n",
              "      <td>https://www.flipkart.com/samsung-galaxy-f41-fu...</td>\n",
              "      <td>Samsung Galaxy F41 (Fusion Blue, 128 GB)</td>\n",
              "      <td>16499</td>\n",
              "      <td>20999</td>\n",
              "      <td>4.3</td>\n",
              "      <td>28030</td>\n",
              "      <td>230855</td>\n",
              "      <td>12533</td>\n",
              "      <td>5746</td>\n",
              "      <td>17504</td>\n",
              "      <td>58484</td>\n",
              "      <td>136588</td>\n",
              "      <td>5</td>\n",
              "      <td>Worth every penny</td>\n",
              "      <td>NYC performance, NYC battery backup, NYC Camer...</td>\n",
              "      <td>Flipkart Customer</td>\n",
              "      <td>Patna</td>\n",
              "      <td>3 months ago</td>\n",
              "    </tr>\n",
              "    <tr>\n",
              "      <th>25372</th>\n",
              "      <td>https://www.flipkart.com/samsung-galaxy-f41-fu...</td>\n",
              "      <td>Samsung Galaxy F41 (Fusion Blue, 128 GB)</td>\n",
              "      <td>16499</td>\n",
              "      <td>20999</td>\n",
              "      <td>4.3</td>\n",
              "      <td>28030</td>\n",
              "      <td>230855</td>\n",
              "      <td>12533</td>\n",
              "      <td>5746</td>\n",
              "      <td>17504</td>\n",
              "      <td>58484</td>\n",
              "      <td>136588</td>\n",
              "      <td>5</td>\n",
              "      <td>Perfect product!</td>\n",
              "      <td>This is best thing you can get at this price f...</td>\n",
              "      <td>Arpan Debnath</td>\n",
              "      <td>Kolkata</td>\n",
              "      <td>3 months ago</td>\n",
              "    </tr>\n",
              "    <tr>\n",
              "      <th>25373</th>\n",
              "      <td>https://www.flipkart.com/samsung-galaxy-f41-fu...</td>\n",
              "      <td>Samsung Galaxy F41 (Fusion Blue, 128 GB)</td>\n",
              "      <td>16499</td>\n",
              "      <td>20999</td>\n",
              "      <td>4.3</td>\n",
              "      <td>28030</td>\n",
              "      <td>230855</td>\n",
              "      <td>12533</td>\n",
              "      <td>5746</td>\n",
              "      <td>17504</td>\n",
              "      <td>58484</td>\n",
              "      <td>136588</td>\n",
              "      <td>5</td>\n",
              "      <td>Best in the market!</td>\n",
              "      <td>Galaxy Fantastic 41 is what I would call this ...</td>\n",
              "      <td>Praveen Viswanath</td>\n",
              "      <td>Hyderabad</td>\n",
              "      <td>2 months ago</td>\n",
              "    </tr>\n",
              "    <tr>\n",
              "      <th>25374</th>\n",
              "      <td>https://www.flipkart.com/samsung-galaxy-f41-fu...</td>\n",
              "      <td>Samsung Galaxy F41 (Fusion Blue, 128 GB)</td>\n",
              "      <td>16499</td>\n",
              "      <td>20999</td>\n",
              "      <td>4.3</td>\n",
              "      <td>28030</td>\n",
              "      <td>230855</td>\n",
              "      <td>12533</td>\n",
              "      <td>5746</td>\n",
              "      <td>17504</td>\n",
              "      <td>58484</td>\n",
              "      <td>136588</td>\n",
              "      <td>5</td>\n",
              "      <td>Great product</td>\n",
              "      <td>Highly Recommended to BuyGreat Phone! What a B...</td>\n",
              "      <td>Ankit Verma</td>\n",
              "      <td>New Delhi</td>\n",
              "      <td>3 months ago</td>\n",
              "    </tr>\n",
              "  </tbody>\n",
              "</table>\n",
              "</div>"
            ],
            "text/plain": [
              "                                             product_url  ...   review_time\n",
              "25364  https://www.flipkart.com/samsung-galaxy-a71-pr...  ...  8 months ago\n",
              "25365  https://www.flipkart.com/samsung-galaxy-a71-pr...  ...  9 months ago\n",
              "25366  https://www.flipkart.com/samsung-galaxy-f41-fu...  ...  2 months ago\n",
              "25367  https://www.flipkart.com/samsung-galaxy-f41-fu...  ...  2 months ago\n",
              "25368  https://www.flipkart.com/samsung-galaxy-f41-fu...  ...  2 months ago\n",
              "25369  https://www.flipkart.com/samsung-galaxy-f41-fu...  ...   1 month ago\n",
              "25370  https://www.flipkart.com/samsung-galaxy-f41-fu...  ...  2 months ago\n",
              "25371  https://www.flipkart.com/samsung-galaxy-f41-fu...  ...  3 months ago\n",
              "25372  https://www.flipkart.com/samsung-galaxy-f41-fu...  ...  3 months ago\n",
              "25373  https://www.flipkart.com/samsung-galaxy-f41-fu...  ...  2 months ago\n",
              "25374  https://www.flipkart.com/samsung-galaxy-f41-fu...  ...  3 months ago\n",
              "\n",
              "[11 rows x 18 columns]"
            ]
          },
          "metadata": {
            "tags": []
          },
          "execution_count": 8
        }
      ]
    }
  ]
}