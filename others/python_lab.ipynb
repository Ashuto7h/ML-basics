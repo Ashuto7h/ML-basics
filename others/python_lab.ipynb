{
  "nbformat": 4,
  "nbformat_minor": 0,
  "metadata": {
    "colab": {
      "name": "python lab.ipynb",
      "provenance": [],
      "collapsed_sections": [],
      "authorship_tag": "ABX9TyN97NbHdS50L9637XuyYzJf",
      "include_colab_link": true
    },
    "kernelspec": {
      "name": "python3",
      "display_name": "Python 3"
    }
  },
  "cells": [
    {
      "cell_type": "markdown",
      "metadata": {
        "id": "view-in-github",
        "colab_type": "text"
      },
      "source": [
        "<a href=\"https://colab.research.google.com/github/Ashuto7h/ML-basics/blob/main/python_lab.ipynb\" target=\"_parent\"><img src=\"https://colab.research.google.com/assets/colab-badge.svg\" alt=\"Open In Colab\"/></a>"
      ]
    },
    {
      "cell_type": "markdown",
      "metadata": {
        "id": "0b-gKHb4fpQD"
      },
      "source": [
        "# Python Lab Sistec\n",
        "---\n",
        "\n",
        "\n",
        "\n"
      ]
    },
    {
      "cell_type": "markdown",
      "metadata": {
        "id": "CJrHYjMIElfb"
      },
      "source": [
        "# New Section"
      ]
    },
    {
      "cell_type": "code",
      "metadata": {
        "id": "UmsJMDbJYVP7"
      },
      "source": [
        "print(\"hello world\")\n",
        "print(\"where are you now ?\")"
      ],
      "execution_count": null,
      "outputs": []
    },
    {
      "cell_type": "markdown",
      "metadata": {
        "id": "-x_9e82JLpnY"
      },
      "source": [
        "### Keywords in python:"
      ]
    },
    {
      "cell_type": "markdown",
      "metadata": {
        "id": "ojAcHp87jEvT"
      },
      "source": [
        "# New Section"
      ]
    },
    {
      "cell_type": "code",
      "metadata": {
        "id": "_6knDgIRMOoh",
        "colab": {
          "base_uri": "https://localhost:8080/",
          "height": 73
        },
        "outputId": "91463e5d-6960-4e1e-f3a8-6468bcc84433"
      },
      "source": [
        "import keyword\n",
        "print(keyword.kwlist)\n",
        "print(len(keyword.kwlist))"
      ],
      "execution_count": null,
      "outputs": [
        {
          "output_type": "stream",
          "text": [
            "['False', 'None', 'True', 'and', 'as', 'assert', 'break', 'class', 'continue', 'def', 'del', 'elif', 'else', 'except', 'finally', 'for', 'from', 'global', 'if', 'import', 'in', 'is', 'lambda', 'nonlocal', 'not', 'or', 'pass', 'raise', 'return', 'try', 'while', 'with', 'yield']\n",
            "33\n"
          ],
          "name": "stdout"
        }
      ]
    },
    {
      "cell_type": "markdown",
      "metadata": {
        "id": "aA_dz_3XMfL5"
      },
      "source": [
        "## comments in python\n",
        "\n",
        "```\n",
        "# in python there are only single line comment.\n",
        "\n",
        "''' this is said to be used fro multiline comment, but it is not'''\n",
        "```\n",
        "\n",
        "the above string is a doc string, where we can write details about a function or class. so python doesn't have a multiline comment."
      ]
    },
    {
      "cell_type": "markdown",
      "metadata": {
        "id": "njKQX7H1NyMw"
      },
      "source": [
        "# Data types in python\n",
        "Fundamental Datatypes : int, string, bool, float, complex\n",
        "\n",
        "Advanced Datatypes : set, list, dict, tuple, byte, bytearray, frozenset\n",
        "\n",
        "\n",
        "\n"
      ]
    },
    {
      "cell_type": "markdown",
      "metadata": {
        "id": "EnOnBzSROr_J"
      },
      "source": [
        "### int\n",
        "is int a primitive data type in python like it is in java?\n",
        "\n",
        "no! its a class. It doesn't belong to category of primitive data type.\n",
        "\n",
        "every data type in python is an object.\n",
        "\n",
        "some functions to deal with types : type(), id()\n"
      ]
    },
    {
      "cell_type": "code",
      "metadata": {
        "id": "ksheSUgDPxss",
        "colab": {
          "base_uri": "https://localhost:8080/",
          "height": 72
        },
        "outputId": "53d364d6-1ce0-4a67-e5bb-274714554f2e"
      },
      "source": [
        "x = 98493492749598827939985959832993955932984934823947979574923749792999992874\n",
        "print(x)\n",
        "print(type(x))\n",
        "print(id(x))"
      ],
      "execution_count": null,
      "outputs": [
        {
          "output_type": "stream",
          "text": [
            "98493492749598827939985959832993955\n",
            "<class 'int'>\n",
            "140157716302544\n"
          ],
          "name": "stdout"
        }
      ]
    },
    {
      "cell_type": "markdown",
      "metadata": {
        "id": "r-usTTCRQSDQ"
      },
      "source": [
        "As you can see above, there is no thing in python like range.\n",
        "because, in python everything is in form of object."
      ]
    },
    {
      "cell_type": "code",
      "metadata": {
        "id": "PwV1BCjUZsDH",
        "colab": {
          "base_uri": "https://localhost:8080/",
          "height": 53
        },
        "outputId": "f7705d84-f151-44db-f773-d4976f69b132"
      },
      "source": [
        "x = 0b0101     # binary datatype\n",
        "y = 0o07466    # octal datatype \n",
        "z = 0x4A88F    # hexadecimal datatype\n",
        "print(x,y,z)\n",
        "print(bin(x),oct(y),hex(z))"
      ],
      "execution_count": null,
      "outputs": [
        {
          "output_type": "stream",
          "text": [
            "5 3894 305295\n",
            "0b101 0o7466 0x4a88f\n"
          ],
          "name": "stdout"
        }
      ]
    },
    {
      "cell_type": "markdown",
      "metadata": {
        "id": "iCR7NEiOjeOm"
      },
      "source": [
        "### complex\n"
      ]
    },
    {
      "cell_type": "code",
      "metadata": {
        "id": "OXVr2rVpjhpT",
        "colab": {
          "base_uri": "https://localhost:8080/",
          "height": 72
        },
        "outputId": "110b1f26-5678-4c01-8fa2-7cc01b986607"
      },
      "source": [
        "x = 3 + 5j\n",
        "print(x,type(x))\n",
        "print(x.real, x.imag, type(x.real))\n",
        "x = 0b0110 + 3.4j\n",
        "print(x,type(x))\n",
        "# x = 2 + 0b0110j   this will give syntax error. imag part should be decimal\n",
        "# print(x,type(x))"
      ],
      "execution_count": null,
      "outputs": [
        {
          "output_type": "stream",
          "text": [
            "(3+5j) <class 'complex'>\n",
            "3.0 5.0 <class 'float'>\n",
            "(6+3.4j) <class 'complex'>\n"
          ],
          "name": "stdout"
        }
      ]
    },
    {
      "cell_type": "markdown",
      "metadata": {
        "id": "J3qCVpGNj-Uf"
      },
      "source": [
        "### bool\n",
        "internally, True is treated by interpreter as 1\n",
        "and False is treated by interpreter as 0\n"
      ]
    },
    {
      "cell_type": "code",
      "metadata": {
        "id": "IOITmCX5lmcS",
        "colab": {
          "base_uri": "https://localhost:8080/",
          "height": 53
        },
        "outputId": "f282f190-5917-461e-f1e3-5d7e665f7516"
      },
      "source": [
        "print(True + False)\n",
        "print(True + True)\n"
      ],
      "execution_count": null,
      "outputs": [
        {
          "output_type": "stream",
          "text": [
            "1\n",
            "2\n"
          ],
          "name": "stdout"
        }
      ]
    },
    {
      "cell_type": "markdown",
      "metadata": {
        "id": "G7f5dAdvmLsX"
      },
      "source": [
        "### string\n",
        "string is an ordered collection of characters.\n",
        "> ordered means indexing and slicing can be applied, \n",
        "  also order of insertion of datais preserved.\n",
        "\n",
        "as you can see in below program, string is a collection of chars which point to different dynamic memory location.\n",
        "\n"
      ]
    },
    {
      "cell_type": "code",
      "metadata": {
        "id": "c6zL54DKm5yL",
        "colab": {
          "base_uri": "https://localhost:8080/",
          "height": 271
        },
        "outputId": "4a55ac1a-12f5-4032-fbae-0a9bbda42624"
      },
      "source": [
        "str1 = 'this is string'\n",
        "for char in str1:\n",
        "    print(id(char),':',char)"
      ],
      "execution_count": null,
      "outputs": [
        {
          "output_type": "stream",
          "text": [
            "140158159925800 : t\n",
            "140158159470072 : h\n",
            "140158159979832 : i\n",
            "140158160086944 : s\n",
            "140158159693112 :  \n",
            "140158159979832 : i\n",
            "140158160086944 : s\n",
            "140158159693112 :  \n",
            "140158160086944 : s\n",
            "140158159925800 : t\n",
            "140158160224920 : r\n",
            "140158159979832 : i\n",
            "140158159759824 : n\n",
            "140158159732664 : g\n"
          ],
          "name": "stdout"
        }
      ]
    },
    {
      "cell_type": "markdown",
      "metadata": {
        "id": "7wkSedF0nwHX"
      },
      "source": [
        "## Type Casting or Type Coeration\n",
        "\n",
        "type conversion can be done by following functions: \n",
        "\n",
        "int(), str(), bool(), float(), complex() "
      ]
    },
    {
      "cell_type": "code",
      "metadata": {
        "id": "6mNOktzOogIK",
        "colab": {
          "base_uri": "https://localhost:8080/",
          "height": 108
        },
        "outputId": "c2bd1ba2-47b3-46c2-f384-128fa26dad53"
      },
      "source": [
        "x = 20.884\n",
        "# in java we get error, if we convert a int to float.\n",
        "# but python developers have said that a programmer is mature enough to decide what he should have to do with a data.\n",
        "# python allows downcasting unlike java.\n",
        "y = int(x)\n",
        "print(y, type(y))\n",
        "\n",
        "x = '993.324'\n",
        "y = float(x)\n",
        "print(y,type(y))\n",
        "\n",
        "# y = int(x)  # gives error, invalid literal. because a float string(containing .) cannot be converted to a string.\n",
        "# print(y,type(y))\n",
        "\n",
        "# bool data type conversion return false only when string is empty or a 0 value complex.\n",
        "print(bool(\"\"))\n",
        "print(bool(0+0j))\n",
        "print(bool(0+1j))"
      ],
      "execution_count": null,
      "outputs": [
        {
          "output_type": "stream",
          "text": [
            "20 <class 'int'>\n",
            "993.324 <class 'float'>\n",
            "False\n",
            "False\n",
            "True\n"
          ],
          "name": "stdout"
        }
      ]
    },
    {
      "cell_type": "markdown",
      "metadata": {
        "id": "ILpt9RBvdQYh"
      },
      "source": [
        "#### program to find no. of digits in a no.\n",
        "complexity : o(1)\n",
        "\n",
        "\n",
        "\n",
        "\n",
        "\n"
      ]
    },
    {
      "cell_type": "code",
      "metadata": {
        "id": "m5s8QH4ndVMA",
        "colab": {
          "base_uri": "https://localhost:8080/",
          "height": 35
        },
        "outputId": "fa0257e4-48f0-47f1-debd-68abd277db48"
      },
      "source": [
        "import math\n",
        "x = 9948\n",
        "print(math.floor(math.log10(x)+ 1))\n"
      ],
      "execution_count": null,
      "outputs": [
        {
          "output_type": "stream",
          "text": [
            "4\n"
          ],
          "name": "stdout"
        }
      ]
    },
    {
      "cell_type": "markdown",
      "metadata": {
        "id": "PwA8JaNC4-sh"
      },
      "source": [
        "## Immutablity and reusablity\n",
        "\n",
        "when python vm start it allocate memory for int 0 to 256. so whenever we use them we will get a fixed id. for any other int that we create, it will allocate a new memory for that and whenever we use it, then reference of this memory is given to variable. so an object in python is immutable, and also reusable at the same time. this makes python memory intensive but also increases its reusablity."
      ]
    },
    {
      "cell_type": "code",
      "metadata": {
        "id": "wZKYC81H7dvu",
        "colab": {
          "base_uri": "https://localhost:8080/",
          "height": 90
        },
        "outputId": "a4690a0c-260e-4b2d-b2bc-7de13c82537d"
      },
      "source": [
        "x = 10\n",
        "y = 10\n",
        "print(id(x), id(y))\n",
        "print(id(True), id(False)) # this gets allocate at start of python vm\n",
        "print(id(10), id(0), id(256)) # this gets allocate at start of python vm\n",
        "print(id(3884), id(3884)) # here a new memory allocates for int(3884)."
      ],
      "execution_count": null,
      "outputs": [
        {
          "output_type": "stream",
          "text": [
            "10914784 10914784\n",
            "10302848 10300256\n",
            "10914784 10914464 10922656\n",
            "140545676515664 140545676515664\n"
          ],
          "name": "stdout"
        }
      ]
    },
    {
      "cell_type": "markdown",
      "metadata": {
        "id": "-uqTG40h7c70"
      },
      "source": [
        "## List data type\n",
        "\n",
        "it is a container data type that maintains insertion order, support indexing and slicing, duplicate data, and can store values of multiple data types (non - homogenous nature), and mutable."
      ]
    },
    {
      "cell_type": "code",
      "metadata": {
        "id": "_X0LtWVc9mjW",
        "colab": {
          "base_uri": "https://localhost:8080/",
          "height": 181
        },
        "outputId": "26cb3a72-435d-40b2-e4ac-2874d6049292"
      },
      "source": [
        "# initialise\n",
        "l = []\n",
        "print(type(l))\n",
        "l = [1, 'hello', 8.3, [4,5,6]] # non homogenous.\n",
        "print(l)\n",
        "\n",
        "list1 = [\"one\", \"two\"]\n",
        "list2 = [\"one\", \"two\"]\n",
        "print(list1 == list2) # match content\n",
        "print(list1 is list2) # match id\n",
        "print(id(list1), id(list2))\n",
        "print(\"_____________________\")\n",
        "a = \"one\"\n",
        "b = \"one\"\n",
        "print(a==b) # match content\n",
        "print(a is b) # match id\n",
        "print(id(a), id(b))\n"
      ],
      "execution_count": null,
      "outputs": [
        {
          "output_type": "stream",
          "text": [
            "<class 'list'>\n",
            "[1, 'hello', 8.3, [4, 5, 6]]\n",
            "True\n",
            "False\n",
            "140545536908104 140545667007240\n",
            "_____________________\n",
            "True\n",
            "True\n",
            "140545918447776 140545918447776\n"
          ],
          "name": "stdout"
        }
      ]
    },
    {
      "cell_type": "markdown",
      "metadata": {
        "id": "AdtOz2jVEe7v"
      },
      "source": [
        "## tuple data type\n",
        "it supports all list properties except that it is immutable."
      ]
    },
    {
      "cell_type": "code",
      "metadata": {
        "id": "gM1nq2cKEu0O",
        "colab": {
          "base_uri": "https://localhost:8080/",
          "height": 35
        },
        "outputId": "27785c5d-b2e2-4240-cae5-6965a44700d7"
      },
      "source": [
        "t = (1, 2.3, \"where\", [1, 2,3], (1,2,3,4))\n",
        "print(type(t))\n"
      ],
      "execution_count": null,
      "outputs": [
        {
          "output_type": "stream",
          "text": [
            "<class 'tuple'>\n"
          ],
          "name": "stdout"
        }
      ]
    },
    {
      "cell_type": "markdown",
      "metadata": {
        "id": "FpMztQ7PEtZI"
      },
      "source": [
        "## range data type\n",
        "\n"
      ]
    },
    {
      "cell_type": "code",
      "metadata": {
        "id": "xYOBI_FcF1ai",
        "colab": {
          "base_uri": "https://localhost:8080/",
          "height": 217
        },
        "outputId": "255b8a7f-984b-4bba-cfa1-3375ab7aef70"
      },
      "source": [
        "x = range(0,10)\n",
        "print(type(x))\n",
        "for i in range(0,10):\n",
        "    print(i)"
      ],
      "execution_count": null,
      "outputs": [
        {
          "output_type": "stream",
          "text": [
            "<class 'range'>\n",
            "0\n",
            "1\n",
            "2\n",
            "3\n",
            "4\n",
            "5\n",
            "6\n",
            "7\n",
            "8\n",
            "9\n"
          ],
          "name": "stdout"
        }
      ]
    },
    {
      "cell_type": "markdown",
      "metadata": {
        "id": "F95AkU-xGm_O"
      },
      "source": [
        "## set data type\n",
        "it is a data type which doesn't allow duplicate values insertion, insertion order is not preserved, indexing and slicing cannot be applied, but it is mutable in nature.\n",
        "\n",
        "### frozenset \n",
        "a set which is immutable."
      ]
    },
    {
      "cell_type": "code",
      "metadata": {
        "id": "JvcQrwDdGl2Y",
        "colab": {
          "base_uri": "https://localhost:8080/",
          "height": 35
        },
        "outputId": "4e60b9a2-daf1-4583-9c76-8806b7f690b3"
      },
      "source": [
        "# remove duplicate values from list\n",
        "list1 = [2,2,2,2,2,2]\n",
        "print(set(list1))"
      ],
      "execution_count": null,
      "outputs": [
        {
          "output_type": "stream",
          "text": [
            "{2}\n"
          ],
          "name": "stdout"
        }
      ]
    },
    {
      "cell_type": "markdown",
      "metadata": {
        "id": "eg1WgjBKJJi-"
      },
      "source": [
        "## dictionary data type\n",
        "dict is like the json object, in which data is stored in form of key value pair\n",
        "key cannot be duplicate, but data can be.\n",
        "\n",
        "it is mutable in nature. key can have any immutable data type(fundamental data type, immutables such as frozenset,tuple) and value can have any data type.\n"
      ]
    },
    {
      "cell_type": "code",
      "metadata": {
        "id": "l_E645j0KtyM",
        "colab": {
          "base_uri": "https://localhost:8080/",
          "height": 35
        },
        "outputId": "60c53637-f5e4-4a7a-b664-f77ca4e6b6e5"
      },
      "source": [
        "x = {\"key\":\"value\"}\n",
        "print(type(x))"
      ],
      "execution_count": null,
      "outputs": [
        {
          "output_type": "stream",
          "text": [
            "<class 'dict'>\n"
          ],
          "name": "stdout"
        }
      ]
    },
    {
      "cell_type": "markdown",
      "metadata": {
        "id": "4gsNk0oDMkrJ"
      },
      "source": [
        "## None data type"
      ]
    },
    {
      "cell_type": "code",
      "metadata": {
        "id": "fmQ8BWqPNToV",
        "colab": {
          "base_uri": "https://localhost:8080/",
          "height": 35
        },
        "outputId": "8f03ef03-c582-437e-dba5-36c816af11ac"
      },
      "source": [
        "print(type(None))"
      ],
      "execution_count": null,
      "outputs": [
        {
          "output_type": "stream",
          "text": [
            "<class 'NoneType'>\n"
          ],
          "name": "stdout"
        }
      ]
    },
    {
      "cell_type": "markdown",
      "metadata": {
        "id": "f94Wi28-OO6B"
      },
      "source": [
        "# Operators\n",
        "## arithmetic operators\n"
      ]
    },
    {
      "cell_type": "code",
      "metadata": {
        "id": "m7bI9DBgOZ6l",
        "colab": {
          "base_uri": "https://localhost:8080/",
          "height": 108
        },
        "outputId": "10e7f40b-a997-4773-8ee1-6c13cc652731"
      },
      "source": [
        "print(4/2) # division operator always return float values.\n",
        "\n",
        "## floor division operator\n",
        "print(5 // 2) \n",
        "\n",
        "print(4.0 // 2) \n",
        "# floor div operator return int value when both operand are int,\n",
        "# if anyone is float, it will return float values\n",
        "\n",
        "## exponent operator\n",
        "print(2**4)\n",
        "\n",
        "# str supports both + and * operator. but for + both data should be string.\n",
        "print(\"str\" * 4)\n",
        "# print(\"str\"+ 1 + \"str\")     gives error."
      ],
      "execution_count": null,
      "outputs": [
        {
          "output_type": "stream",
          "text": [
            "2.0\n",
            "2\n",
            "2.0\n",
            "16\n",
            "strstrstrstr\n"
          ],
          "name": "stdout"
        }
      ]
    },
    {
      "cell_type": "markdown",
      "metadata": {
        "id": "uKS77z3tiKIu"
      },
      "source": [
        "## Relational operators\n",
        "< > >= <= "
      ]
    },
    {
      "cell_type": "code",
      "metadata": {
        "id": "2HkM9_NsiJmu",
        "colab": {
          "base_uri": "https://localhost:8080/",
          "height": 144
        },
        "outputId": "6357482c-9833-4c37-89e1-4097eff28010"
      },
      "source": [
        "a = \"rahul\"\n",
        "b = \"dubey\"\n",
        "print(a>b)\n",
        "\n",
        "b = \"rah\"\n",
        "print(a>b)\n",
        "\n",
        "a = 10\n",
        "# print(a>b)   gives error - incompatible data type.\n",
        "print(a == b)  # gives no error.\n",
        "print(a != b)  # gives no error.\n",
        "# == and != operators does not consider the type of data for comparison.\n",
        "\n",
        "#chaining operators.\n",
        "print(10 < 20 > 30 < 40)\n",
        "print(1 < 2 == 1)\n",
        "# here if any operation becomes false then the whole expression becomes false."
      ],
      "execution_count": null,
      "outputs": [
        {
          "output_type": "stream",
          "text": [
            "True\n",
            "True\n",
            "False\n",
            "True\n",
            "False\n",
            "True\n",
            "False\n"
          ],
          "name": "stdout"
        }
      ]
    },
    {
      "cell_type": "markdown",
      "metadata": {
        "id": "Q67TpGyUmTYv"
      },
      "source": [
        "## logical operators\n",
        "and, or, not"
      ]
    },
    {
      "cell_type": "code",
      "metadata": {
        "id": "H4-kTzmnmpLq",
        "colab": {
          "base_uri": "https://localhost:8080/",
          "height": 144
        },
        "outputId": "ecc82ac5-b35a-4616-a995-58e397b9a85b"
      },
      "source": [
        "print(10 and 20)\n",
        "print(10 or 20)\n",
        "print(-1 or 20)\n",
        "print(-1 and 20)\n",
        "print(not 2)\n",
        "print(not 0)\n",
        "print(0 and 20/0) #special case\n",
        "# print(10 and 200) gives error\n"
      ],
      "execution_count": null,
      "outputs": [
        {
          "output_type": "stream",
          "text": [
            "20\n",
            "10\n",
            "-1\n",
            "20\n",
            "False\n",
            "True\n",
            "0\n"
          ],
          "name": "stdout"
        }
      ]
    },
    {
      "cell_type": "markdown",
      "metadata": {
        "id": "Bpx_TH_LpMPU"
      },
      "source": [
        "## bitwise operators\n",
        "& | << >> ^ ~"
      ]
    },
    {
      "cell_type": "markdown",
      "metadata": {
        "id": "u6VjlNwKr_AU"
      },
      "source": [
        "## assignment operators"
      ]
    },
    {
      "cell_type": "code",
      "metadata": {
        "id": "R8zqcB6ysDYv",
        "colab": {
          "base_uri": "https://localhost:8080/",
          "height": 72
        },
        "outputId": "231d9ed6-d966-42fd-9d27-a81493b332e3"
      },
      "source": [
        "a,b,c = 10,20,30\n",
        "print(a,b,c)\n",
        "a,b,c = [10,20,30]\n",
        "print(a,b,c)\n",
        "a,b,c = (10,20,30)\n",
        "print(a,b,c)\n",
        "\n",
        "# swapping two numbers\n",
        "a,b = b,a # this will change the reference.\n",
        "# due to these things python can return multiple values from functions.\n"
      ],
      "execution_count": null,
      "outputs": [
        {
          "output_type": "stream",
          "text": [
            "10 20 30\n",
            "10 20 30\n",
            "10 20 30\n"
          ],
          "name": "stdout"
        }
      ]
    },
    {
      "cell_type": "markdown",
      "metadata": {
        "id": "lEKhtSlp2nKk"
      },
      "source": [
        "\n",
        "## Conditional operator"
      ]
    },
    {
      "cell_type": "code",
      "metadata": {
        "id": "bnA_yF_K2rOd",
        "colab": {
          "base_uri": "https://localhost:8080/",
          "height": 35
        },
        "outputId": "feadd881-51e5-46a4-f2ed-948a2a77223e"
      },
      "source": [
        "x = 20\n",
        "y = 10\n",
        "x = 49 if x > y else 59    # python does not use ternary operators ?:\n",
        "print(x)"
      ],
      "execution_count": null,
      "outputs": [
        {
          "output_type": "stream",
          "text": [
            "49\n"
          ],
          "name": "stdout"
        }
      ]
    },
    {
      "cell_type": "code",
      "metadata": {
        "id": "y5IIt-304lNq",
        "colab": {
          "base_uri": "https://localhost:8080/",
          "height": 90
        },
        "outputId": "70e6b8a0-f1c7-43a2-b921-c8d727062ef9"
      },
      "source": [
        "a = \"rahul\"\n",
        "b = \"rahul\"\n",
        "print(a is b)\n",
        "print(a == b)\n",
        "list1 = [1,2,3]\n",
        "list2 = [1,2,3]\n",
        "print(list1 is list2)  # is operator matches id.\n",
        "print(list1 == list2)"
      ],
      "execution_count": null,
      "outputs": [
        {
          "output_type": "stream",
          "text": [
            "True\n",
            "True\n",
            "False\n",
            "True\n"
          ],
          "name": "stdout"
        }
      ]
    },
    {
      "cell_type": "markdown",
      "metadata": {
        "id": "7igfQnXG5IfN"
      },
      "source": [
        "## membership operators.\n",
        "in , not in\n",
        "\n",
        "both operators are used to check on a container only."
      ]
    },
    {
      "cell_type": "code",
      "metadata": {
        "id": "l7I-GbVQ4tDl",
        "colab": {
          "base_uri": "https://localhost:8080/",
          "height": 108
        },
        "outputId": "90068ca1-1930-406f-b11a-af3b8e6b211f"
      },
      "source": [
        "print('r'  in 'rahul')\n",
        "print('r' in ['r', 'a', 'h'])\n",
        "\n",
        "d = {'r': 1, 'a': 2}\n",
        "print(1 in d)   # search on keys\n",
        "print('r' in d) # search on keys\n",
        "\n",
        "d = {'r' : [1,2,3], 'a': 4}\n",
        "print(1 in d['r'])  # in operator only works for container.\n",
        "# print(4 in d['a'])   this will give error. because its not a container.\n"
      ],
      "execution_count": null,
      "outputs": [
        {
          "output_type": "stream",
          "text": [
            "True\n",
            "True\n",
            "False\n",
            "True\n",
            "True\n"
          ],
          "name": "stdout"
        }
      ]
    },
    {
      "cell_type": "markdown",
      "metadata": {
        "id": "ezE-vUhQ7FoF"
      },
      "source": [
        "# Input"
      ]
    },
    {
      "cell_type": "code",
      "metadata": {
        "id": "QEkymGTE7OnE",
        "colab": {
          "base_uri": "https://localhost:8080/",
          "height": 53
        },
        "outputId": "66a3020e-4941-4c83-f28b-3690da6734bf"
      },
      "source": [
        "# reading single input\n",
        "x = input('please enter a number : ')\n",
        "print(x, type(x))"
      ],
      "execution_count": null,
      "outputs": [
        {
          "output_type": "stream",
          "text": [
            " please enter a number5\n",
            "5 <class 'str'>\n"
          ],
          "name": "stdout"
        }
      ]
    },
    {
      "cell_type": "code",
      "metadata": {
        "id": "lOM3GvX78kTe",
        "colab": {
          "base_uri": "https://localhost:8080/",
          "height": 90
        },
        "outputId": "9d1867ca-9a33-46dd-ffe0-a9ee988d87e6"
      },
      "source": [
        "# reading multiple inputs.\n",
        "# using list comprehension\n",
        "a,b = input('enter two numbers : ').split()\n",
        "print(a+b)\n",
        "a,b = (int(i) for i in input('enter two numbers : ').split())\n",
        "print(a, b, a+b)"
      ],
      "execution_count": null,
      "outputs": [
        {
          "output_type": "stream",
          "text": [
            "enter two numbers : 4 5\n",
            "45\n",
            "enter two numbers : 4 5\n",
            "4 5 9\n"
          ],
          "name": "stdout"
        }
      ]
    },
    {
      "cell_type": "code",
      "metadata": {
        "id": "vsiCAgCQ-VyV",
        "colab": {
          "base_uri": "https://localhost:8080/",
          "height": 53
        },
        "outputId": "ac8a07a2-bee3-4373-d48e-5bc28bb8d092"
      },
      "source": [
        "# reading comma separated values.\n",
        "\n",
        "a,b = [int(i) for i in input('enter two numbers : ').split(',')]\n",
        "print(a,b)"
      ],
      "execution_count": null,
      "outputs": [
        {
          "output_type": "stream",
          "text": [
            "enter two numbers : 4,5\n",
            "4 5\n"
          ],
          "name": "stdout"
        }
      ]
    },
    {
      "cell_type": "code",
      "metadata": {
        "id": "VujJI0r9__Bv",
        "colab": {
          "base_uri": "https://localhost:8080/",
          "height": 217
        },
        "outputId": "7f15de2e-a5ae-4289-bc20-03152facf1d8"
      },
      "source": [
        "# if given heterogenous data in input\n",
        "str1 = \"1, 'rahul', 3.4554, 4+5j\"\n",
        "x = [i for i in str1.split(',')]\n",
        "for item in x:\n",
        "    print(item, type(item))\n",
        "\n",
        "print('----------------------')\n",
        "\n",
        "x = [eval(i) for i in str1.split(',')] # eval function auto find the type of str.\n",
        "for item in x:\n",
        "    print(item, type(item))\n",
        "\n",
        "print('----------------------')\n",
        "print(x)"
      ],
      "execution_count": null,
      "outputs": [
        {
          "output_type": "stream",
          "text": [
            "1 <class 'str'>\n",
            " 'rahul' <class 'str'>\n",
            " 3.4554 <class 'str'>\n",
            " 4+5j <class 'str'>\n",
            "----------------------\n",
            "1 <class 'int'>\n",
            "rahul <class 'str'>\n",
            "3.4554 <class 'float'>\n",
            "(4+5j) <class 'complex'>\n",
            "----------------------\n",
            "[1, 'rahul', 3.4554, (4+5j)]\n"
          ],
          "name": "stdout"
        }
      ]
    },
    {
      "cell_type": "markdown",
      "metadata": {
        "id": "jMbDXbT26JBr"
      },
      "source": [
        "# Control flow statements\n",
        "if, elif, else, pass,\n",
        "\n",
        "Loops - for, while, for else, while else\n",
        "\n"
      ]
    },
    {
      "cell_type": "code",
      "metadata": {
        "id": "8lj7UC476mgq",
        "colab": {
          "base_uri": "https://localhost:8080/",
          "height": 35
        },
        "outputId": "ddd5cacb-f811-460f-d558-3ed963ec7c6e"
      },
      "source": [
        "s = \"rahul\"\n",
        "for x in s:\n",
        "    print(x,end=\",\")"
      ],
      "execution_count": null,
      "outputs": [
        {
          "output_type": "stream",
          "text": [
            "r,a,h,u,l,"
          ],
          "name": "stdout"
        }
      ]
    },
    {
      "cell_type": "code",
      "metadata": {
        "id": "k4xKxiFj63C2",
        "colab": {
          "base_uri": "https://localhost:8080/",
          "height": 199
        },
        "outputId": "d0fcd3d0-ac55-480c-8848-b6a4c18edc77"
      },
      "source": [
        "# to print number between 0 to 10\n",
        "for i in range(10):\n",
        "    print(i)"
      ],
      "execution_count": null,
      "outputs": [
        {
          "output_type": "stream",
          "text": [
            "0\n",
            "1\n",
            "2\n",
            "3\n",
            "4\n",
            "5\n",
            "6\n",
            "7\n",
            "8\n",
            "9\n"
          ],
          "name": "stdout"
        }
      ]
    },
    {
      "cell_type": "code",
      "metadata": {
        "id": "XmWXJZAr7Ikq",
        "colab": {
          "base_uri": "https://localhost:8080/",
          "height": 53
        },
        "outputId": "d1e6ca9e-ff85-4ae0-ed15-920359fb85e5"
      },
      "source": [
        "# write a program to print the sum of no. given as input in form of list.\n",
        "list1 = eval(input(\"input list of numbers. : \"))\n",
        "sum = 0\n",
        "for item in list1:\n",
        "    sum = sum+item\n",
        "print(\"sum of elements is : \", sum)"
      ],
      "execution_count": null,
      "outputs": [
        {
          "output_type": "stream",
          "text": [
            "input list of numbers. : [1,2,3,4,5]\n",
            "sum of elements is :  15\n"
          ],
          "name": "stdout"
        }
      ]
    },
    {
      "cell_type": "code",
      "metadata": {
        "id": "xcCA1Org_d_I",
        "colab": {
          "base_uri": "https://localhost:8080/",
          "height": 35
        },
        "outputId": "c801af94-2656-4647-b6b4-f25d4c8ba744"
      },
      "source": [
        "# for else loop \n",
        "cart = [10,20,30,40]\n",
        "for i in cart:\n",
        "    if i>30:\n",
        "        print('cannot add items greater than 30')\n",
        "        break\n",
        "    print(i)\n",
        "else:\n",
        "    print('for loop run successfully without any problem')\n",
        "    \n",
        "# similarly while else works."
      ],
      "execution_count": null,
      "outputs": [
        {
          "output_type": "stream",
          "text": [
            "for loop run successfully without any problem\n"
          ],
          "name": "stdout"
        }
      ]
    },
    {
      "cell_type": "markdown",
      "metadata": {
        "id": "Qnpcr9HK6j5C"
      },
      "source": [
        "# String operations.\n",
        "python supports reverse indexing also.\n",
        "\n",
        "first index starts from 0 and last starts from -1\n",
        "\n",
        "slicing :\n",
        ">  [start index : end index : interval jump]\n",
        "\n",
        "\n",
        "\n",
        "\n",
        "\n"
      ]
    },
    {
      "cell_type": "code",
      "metadata": {
        "id": "sV_QksAvBDvd",
        "colab": {
          "base_uri": "https://localhost:8080/",
          "height": 235
        },
        "outputId": "8ae6d3e5-4389-4d0f-9640-3aa8a892350a"
      },
      "source": [
        "s = 'learning python is very easy'\n",
        "print(len(s))\n",
        "print(s[1:7:1])\n",
        "print(s[1:7:2])\n",
        "print(s[3:7:-1]) #gives no output as we cannot reach 7 by 3 2 1 0 -1 -2.....\n",
        "print(s[7:3:-1])  # gives output because we can go from 7 to 3\n",
        "print(s[1:7])\n",
        "print(s[:7])\n",
        "print(s[7:])\n",
        "print(s[::])\n",
        "print(s[:])\n",
        "print(s[::-1]) # reverse indexing. used to print string in reverse.\n",
        "print(s[::1]) #original order"
      ],
      "execution_count": null,
      "outputs": [
        {
          "output_type": "stream",
          "text": [
            "28\n",
            "earnin\n",
            "eri\n",
            "\n",
            "gnin\n",
            "earnin\n",
            "learnin\n",
            "g python is very easy\n",
            "learning python is very easy\n",
            "learning python is very easy\n",
            "ysae yrev si nohtyp gninrael\n",
            "learning python is very easy\n"
          ],
          "name": "stdout"
        }
      ]
    },
    {
      "cell_type": "markdown",
      "metadata": {
        "id": "GRXaTvn09B3u"
      },
      "source": [
        "## Unicode\n"
      ]
    },
    {
      "cell_type": "code",
      "metadata": {
        "id": "zlYpDS4Z9SjB",
        "colab": {
          "base_uri": "https://localhost:8080/",
          "height": 72
        },
        "outputId": "09f12561-37b8-4ecc-9622-1925d9c70494"
      },
      "source": [
        "print('\\U0001f600')\n",
        "print(chr(48))\n",
        "print(ord('G'))"
      ],
      "execution_count": null,
      "outputs": [
        {
          "output_type": "stream",
          "text": [
            "😀\n",
            "0\n",
            "71\n"
          ],
          "name": "stdout"
        }
      ]
    },
    {
      "cell_type": "markdown",
      "metadata": {
        "id": "dG_yFKjEAAI3"
      },
      "source": [
        "## strip() function"
      ]
    },
    {
      "cell_type": "code",
      "metadata": {
        "id": "hKGjORJO_vII",
        "colab": {
          "base_uri": "https://localhost:8080/",
          "height": 35
        },
        "outputId": "7e4ffa69-3ee9-4fd4-8176-9133823cb8a3"
      },
      "source": [
        "# strip, lstrip, rstrip function\n",
        "s = '  rahul  '\n",
        "print(s.strip())\n",
        "# lstrip strip from left only, rstrip strip from right only."
      ],
      "execution_count": null,
      "outputs": [
        {
          "output_type": "stream",
          "text": [
            "rahul\n"
          ],
          "name": "stdout"
        }
      ]
    },
    {
      "cell_type": "markdown",
      "metadata": {
        "id": "Tjh6_sCXAIpa"
      },
      "source": [
        "## Substring find"
      ]
    },
    {
      "cell_type": "code",
      "metadata": {
        "id": "nun0toJgAPZv",
        "colab": {
          "base_uri": "https://localhost:8080/",
          "height": 90
        },
        "outputId": "cc3b413f-fd5c-4b71-ae9e-c902d5239984"
      },
      "source": [
        "# return position of starting index of string or -1 if not found\n",
        "s = \"hello everyone\"\n",
        "print(s.find(\"hello\"))\n",
        "print(s.find(\"one\"))\n",
        "print(s.find(\"bye\"))\n",
        "\n",
        "# find within a range...\n",
        "print(s.find(\"e\",5,10))"
      ],
      "execution_count": null,
      "outputs": [
        {
          "output_type": "stream",
          "text": [
            "0\n",
            "11\n",
            "-1\n",
            "6\n"
          ],
          "name": "stdout"
        }
      ]
    },
    {
      "cell_type": "markdown",
      "metadata": {
        "id": "OFlWKWENBBqO"
      },
      "source": [
        "## count frequency"
      ]
    },
    {
      "cell_type": "code",
      "metadata": {
        "id": "m5IN-RgwBJLL",
        "colab": {
          "base_uri": "https://localhost:8080/",
          "height": 53
        },
        "outputId": "7525c0ef-89d5-45f7-9f8a-7f5ef6821789"
      },
      "source": [
        "s = \"hello hello hello\"\n",
        "print(s.count(\"hello\"))\n",
        "print(s.count(\"hello\",4,12)) # count in a  range.\n"
      ],
      "execution_count": null,
      "outputs": [
        {
          "output_type": "stream",
          "text": [
            "3\n",
            "1\n"
          ],
          "name": "stdout"
        }
      ]
    },
    {
      "cell_type": "markdown",
      "metadata": {
        "id": "SQRDKhxRBn0N"
      },
      "source": [
        "## Replace string"
      ]
    },
    {
      "cell_type": "code",
      "metadata": {
        "id": "q6uAfey0BuQF",
        "colab": {
          "base_uri": "https://localhost:8080/",
          "height": 53
        },
        "outputId": "b9881ed4-e3ff-4ba4-da4f-909c506bfb2b"
      },
      "source": [
        "print(s.replace(\"hello\", \"below\"))\n",
        "print(s)\n",
        "# replace function does not replace current string.\n",
        "# it return a new string, because string is immutable."
      ],
      "execution_count": null,
      "outputs": [
        {
          "output_type": "stream",
          "text": [
            "below below below\n",
            "hello hello hello\n"
          ],
          "name": "stdout"
        }
      ]
    },
    {
      "cell_type": "markdown",
      "metadata": {
        "id": "8dQfjz99ClRf"
      },
      "source": [
        "## Joining"
      ]
    },
    {
      "cell_type": "code",
      "metadata": {
        "id": "Ig7BOLg9CorM",
        "colab": {
          "base_uri": "https://localhost:8080/",
          "height": 72
        },
        "outputId": "a03432d5-bdc0-4afa-863e-5f582e2f2622"
      },
      "source": [
        "# only join values in a container containing string values with given \n",
        "r = input(\"enter space separated data : \").split()\n",
        "print(r)\n",
        "print(\"_\".join(r))\n"
      ],
      "execution_count": null,
      "outputs": [
        {
          "output_type": "stream",
          "text": [
            "enter space separated data : ashu sahu cs depart\n",
            "['ashu', 'sahu', 'cs', 'depart']\n"
          ],
          "name": "stdout"
        },
        {
          "output_type": "execute_result",
          "data": {
            "application/vnd.google.colaboratory.intrinsic+json": {
              "type": "string"
            },
            "text/plain": [
              "'ashu_sahu_cs_depart'"
            ]
          },
          "metadata": {
            "tags": []
          },
          "execution_count": 35
        }
      ]
    },
    {
      "cell_type": "markdown",
      "metadata": {
        "id": "VWkFITxrG8uK"
      },
      "source": [
        "## checking type of char."
      ]
    },
    {
      "cell_type": "code",
      "metadata": {
        "id": "7tq9eRAtHBMI"
      },
      "source": [
        "# isalpha()(return true if string contain only a to z or A to z)\n",
        "# isalnum()(return true if string is alphanumeric)\n",
        "# isdigit()\n",
        "# islower()\n",
        "# isupper()\n",
        "# istitle()\n",
        "# isspace()\n"
      ],
      "execution_count": null,
      "outputs": []
    },
    {
      "cell_type": "markdown",
      "metadata": {
        "id": "SJtQ9YQGH4Ea"
      },
      "source": [
        "## formatting string"
      ]
    },
    {
      "cell_type": "code",
      "metadata": {
        "id": "gsSkhDAvIFdo",
        "colab": {
          "base_uri": "https://localhost:8080/",
          "height": 144
        },
        "outputId": "a9983139-5d42-427e-dd81-4bd96f1f6a8a"
      },
      "source": [
        "print(\"the float number is {}\".format(123.456))\n",
        "print(\"the float number is {:f}\".format(123.4))\n",
        "# float precision support upto 6 decimal places.\n",
        "\n",
        "print(\"the float number is {:8.4f}\".format(123.4)) \n",
        "# total digits 8 including dot, and 4 precision after decimal.\n",
        "\n",
        "print(\"the float number is {:08.2f}\".format(123.4))\n",
        "# if not able to maintain 8 digits, append 0 in front.\n",
        "\n",
        "print(\"the float number is {:08.3f}\".format(123456654.4)) \n",
        "# main case. it does not alter integer part even if rules break.\n",
        "\n",
        "person = {'age' : 45, 'name':'ashu'}\n",
        "print(\"{p[name]} and {p[age]} of person\".format(p=person))\n",
        "# most used syntax....\n",
        "\n",
        "# --> keyword arguement system..\n",
        "print(\"{name} and {age} of person\".format(**person)) \n",
        "# it pass the whole dictionary."
      ],
      "execution_count": null,
      "outputs": [
        {
          "output_type": "stream",
          "text": [
            "the float number is 123.456\n",
            "the float number is 123.400000\n",
            "the float number is 123.4000\n",
            "the float number is 00123.40\n",
            "the float number is 123456654.400\n",
            "ashu and 45 of person\n",
            "ashu and 45 of person\n"
          ],
          "name": "stdout"
        }
      ]
    },
    {
      "cell_type": "markdown",
      "metadata": {
        "id": "Xu339OyktPC5"
      },
      "source": [
        "## reversed() function"
      ]
    },
    {
      "cell_type": "code",
      "metadata": {
        "id": "AhvlYJ4Ps3wM",
        "colab": {
          "base_uri": "https://localhost:8080/",
          "height": 90
        },
        "outputId": "2b9535e5-773a-481d-9ab1-a020e5c47cff"
      },
      "source": [
        "s = \"rahul\"\n",
        "p = reversed(s)\n",
        "print(type(p))\n",
        "print(p)\n",
        "print(list(p)) # on converting iterator to list, it create a list, push object, increment iterator.\n",
        "s = \"\".join(list(reversed(s))) # to reverse string.\n",
        "print(s) "
      ],
      "execution_count": null,
      "outputs": [
        {
          "output_type": "stream",
          "text": [
            "<class 'reversed'>\n",
            "<reversed object at 0x7f520647fd68>\n",
            "['l', 'u', 'h', 'a', 'r']\n",
            "luhar\n"
          ],
          "name": "stdout"
        }
      ]
    },
    {
      "cell_type": "markdown",
      "metadata": {
        "id": "xh8EBkQ_uRtQ"
      },
      "source": [
        "## write a program to merge alternatively chars of two strings."
      ]
    },
    {
      "cell_type": "code",
      "metadata": {
        "id": "1LnRVafoyBcj",
        "colab": {
          "base_uri": "https://localhost:8080/",
          "height": 35
        },
        "outputId": "3fe7e2ed-db2c-4d7c-9402-4032f14805f3"
      },
      "source": [
        "s1 = \"ashu\"\n",
        "s2 = \"sahuashu\"\n",
        "ans = \"\"\n",
        "for x,y in zip(s1,s2):\n",
        "    ans += x+y\n",
        "\n",
        "print(ans)"
      ],
      "execution_count": null,
      "outputs": [
        {
          "output_type": "stream",
          "text": [
            "assahhuu\n"
          ],
          "name": "stdout"
        }
      ]
    },
    {
      "cell_type": "markdown",
      "metadata": {
        "id": "StGbKPQqIEdT"
      },
      "source": [
        ""
      ]
    },
    {
      "cell_type": "markdown",
      "metadata": {
        "id": "bslEEJfDA_VO"
      },
      "source": [
        "# List operations."
      ]
    },
    {
      "cell_type": "markdown",
      "metadata": {
        "id": "sprVUrNgBEBI"
      },
      "source": [
        "## count() function"
      ]
    },
    {
      "cell_type": "code",
      "metadata": {
        "id": "jf8T7lSsBHnE",
        "colab": {
          "base_uri": "https://localhost:8080/",
          "height": 35
        },
        "outputId": "77511b88-dba6-4e8d-938d-369207911931"
      },
      "source": [
        "l = [1,2,2,2,3,3,3,3,4,5]\n",
        "print(l.count(2))"
      ],
      "execution_count": null,
      "outputs": [
        {
          "output_type": "stream",
          "text": [
            "3\n"
          ],
          "name": "stdout"
        }
      ]
    },
    {
      "cell_type": "markdown",
      "metadata": {
        "id": "9zU6KMowBUNv"
      },
      "source": [
        "## index() function"
      ]
    },
    {
      "cell_type": "code",
      "metadata": {
        "id": "5RkvCd3qBWlT",
        "colab": {
          "base_uri": "https://localhost:8080/",
          "height": 35
        },
        "outputId": "f66be392-014a-4cbf-f87e-e0a0242876cc"
      },
      "source": [
        "print(l.index(2)) # return first occurence index"
      ],
      "execution_count": null,
      "outputs": [
        {
          "output_type": "stream",
          "text": [
            "1\n"
          ],
          "name": "stdout"
        }
      ]
    },
    {
      "cell_type": "markdown",
      "metadata": {
        "id": "LAXJkBgSBqqC"
      },
      "source": [
        "## append() function"
      ]
    },
    {
      "cell_type": "code",
      "metadata": {
        "id": "Crh7rHZOBvdi",
        "colab": {
          "base_uri": "https://localhost:8080/",
          "height": 35
        },
        "outputId": "68acda08-5b68-4996-e637-43e61fe6da67"
      },
      "source": [
        "l = [1,2,3]\n",
        "l.append(4)\n",
        "print(l)"
      ],
      "execution_count": null,
      "outputs": [
        {
          "output_type": "stream",
          "text": [
            "[1, 2, 3, 4]\n"
          ],
          "name": "stdout"
        }
      ]
    },
    {
      "cell_type": "markdown",
      "metadata": {
        "id": "SMuXFTl1B2xs"
      },
      "source": [
        "## insert() function\n",
        "syntax : insert(index, data)"
      ]
    },
    {
      "cell_type": "code",
      "metadata": {
        "id": "66wcdo3DB7ba",
        "colab": {
          "base_uri": "https://localhost:8080/",
          "height": 35
        },
        "outputId": "b489eac5-9945-4e42-fb63-578e9c936488"
      },
      "source": [
        "l.insert(2,888)\n",
        "print(l)"
      ],
      "execution_count": null,
      "outputs": [
        {
          "output_type": "stream",
          "text": [
            "[1, 'a', 888, 'b']\n"
          ],
          "name": "stdout"
        }
      ]
    },
    {
      "cell_type": "markdown",
      "metadata": {
        "id": "OE--I1B0CZPr"
      },
      "source": [
        "## extend() function"
      ]
    },
    {
      "cell_type": "code",
      "metadata": {
        "id": "Rtp0v_GNCVAn",
        "colab": {
          "base_uri": "https://localhost:8080/",
          "height": 35
        },
        "outputId": "c22eacd0-b95b-4d5c-d33f-5c6f49e11ee3"
      },
      "source": [
        "m = [\"a\", \"b\"]\n",
        "l.extend(m)\n",
        "print(l)"
      ],
      "execution_count": null,
      "outputs": [
        {
          "output_type": "stream",
          "text": [
            "[1, 'a', 888, 'b', 'a', 'b']\n"
          ],
          "name": "stdout"
        }
      ]
    },
    {
      "cell_type": "markdown",
      "metadata": {
        "id": "F90oT8OUCmCU"
      },
      "source": [
        "## remove(), pop() function\n",
        " pop function removes last element but we can pass a parameter index to pop the element at given index."
      ]
    },
    {
      "cell_type": "code",
      "metadata": {
        "id": "sBEj85pdC5w_",
        "colab": {
          "base_uri": "https://localhost:8080/",
          "height": 90
        },
        "outputId": "a7675898-6503-4371-909c-1e85959dc9d8"
      },
      "source": [
        "print(l)\n",
        "l.pop()\n",
        "print(l)\n",
        "print(l.pop(2),l,sep=\"\\n\")\n"
      ],
      "execution_count": null,
      "outputs": [
        {
          "output_type": "stream",
          "text": [
            "[1, 'a', 888, 'b', 'a', 'b']\n",
            "[1, 'a', 888, 'b', 'a']\n",
            "888\n",
            "[1, 'a', 'b', 'a']\n"
          ],
          "name": "stdout"
        }
      ]
    },
    {
      "cell_type": "markdown",
      "metadata": {
        "id": "RLyAk5oxDgTR"
      },
      "source": [
        "## sort() function\n",
        "list should contain homogenous data otherwise sort function will give error."
      ]
    },
    {
      "cell_type": "code",
      "metadata": {
        "id": "0hTlP7m9Dlsj",
        "colab": {
          "base_uri": "https://localhost:8080/",
          "height": 35
        },
        "outputId": "148d889e-df07-44b7-c3fe-a9194da7400e"
      },
      "source": [
        "l = [1,2,3,4]\n",
        "l.sort(reverse=True)\n",
        "print(l)"
      ],
      "execution_count": null,
      "outputs": [
        {
          "output_type": "stream",
          "text": [
            "[4, 3, 2, 1]\n"
          ],
          "name": "stdout"
        }
      ]
    },
    {
      "cell_type": "markdown",
      "metadata": {
        "id": "5iqR044_EBk8"
      },
      "source": [
        "## aliasing and cloning\n"
      ]
    },
    {
      "cell_type": "code",
      "metadata": {
        "id": "4AZnba5VEUOc",
        "colab": {
          "base_uri": "https://localhost:8080/",
          "height": 72
        },
        "outputId": "78b71133-ec86-4413-a73d-9cf0d11058f8"
      },
      "source": [
        "l = [1,2,3,4]\n",
        "m = l\n",
        "print(id(l), id(m)) # any update in m will also update l.\n",
        "# this is called aliasing\n",
        "# so we use cloning.\n",
        "\n",
        "# 1st way \n",
        "m = l[:]\n",
        "print(id(l), id(m)) # id of both are different\n",
        "\n",
        "# 2nd way\n",
        "m = l.copy()\n",
        "print(id(l), id(m))"
      ],
      "execution_count": null,
      "outputs": [
        {
          "output_type": "stream",
          "text": [
            "140378137180104 140378137180104\n",
            "140378137180104 140378137180168\n",
            "140378137180104 140378137180360\n"
          ],
          "name": "stdout"
        }
      ]
    },
    {
      "cell_type": "markdown",
      "metadata": {
        "id": "qR2RBQS3FM9n"
      },
      "source": [
        "## +, * operator"
      ]
    },
    {
      "cell_type": "code",
      "metadata": {
        "id": "CYaDZgFXFVH8",
        "colab": {
          "base_uri": "https://localhost:8080/",
          "height": 53
        },
        "outputId": "3f301028-a29b-4e2f-9fc1-578088f18fe4"
      },
      "source": [
        "l = [1,2,3]\n",
        "m = [4,5,6]\n",
        "print(l+m)\n",
        "print(l*2)"
      ],
      "execution_count": null,
      "outputs": [
        {
          "output_type": "stream",
          "text": [
            "[1, 2, 3, 4, 5, 6]\n",
            "[1, 2, 3, 1, 2, 3]\n"
          ],
          "name": "stdout"
        }
      ]
    },
    {
      "cell_type": "markdown",
      "metadata": {
        "id": "shHG67lfGPfH"
      },
      "source": [
        "## comparisons"
      ]
    },
    {
      "cell_type": "code",
      "metadata": {
        "id": "LqRq_NOfFf6v"
      },
      "source": [
        "l = [\"dog\",\"cat\"]\n",
        "m = [\"dog\",\"cat\"]\n",
        "print(l == m)\n",
        "\n",
        "l.append(\"rat\")\n",
        "print(l == m)\n",
        "\n",
        "# the comparison operator == checks for \n",
        "# 1. len of element\n",
        "# 2. order of element\n",
        "# 3. content of list (case sensitive)\n",
        "\n",
        "# but the relation operator > <  checks for first element only.\n",
        "print(l>m)"
      ],
      "execution_count": null,
      "outputs": []
    },
    {
      "cell_type": "markdown",
      "metadata": {
        "id": "ANuEidmJGUP4"
      },
      "source": [
        "## Nesting of list"
      ]
    },
    {
      "cell_type": "code",
      "metadata": {
        "id": "Z0iFWSVpGfDy",
        "colab": {
          "base_uri": "https://localhost:8080/",
          "height": 35
        },
        "outputId": "0024dc3e-355c-4463-d7f2-97bfc82574ca"
      },
      "source": [
        "l = [[1,2,3], [4,5,6,[7,8],[9,10]]]\n",
        "print(l[1][3][1])\n",
        "# nested list is never a multidimension array but its syntax seems to be so."
      ],
      "execution_count": null,
      "outputs": [
        {
          "output_type": "stream",
          "text": [
            "8\n"
          ],
          "name": "stdout"
        }
      ]
    },
    {
      "cell_type": "markdown",
      "metadata": {
        "id": "7gkKKa2_HPhV"
      },
      "source": [
        "# tuple operations"
      ]
    },
    {
      "cell_type": "code",
      "metadata": {
        "id": "PvMiKPKiHmKb",
        "colab": {
          "base_uri": "https://localhost:8080/",
          "height": 144
        },
        "outputId": "28845b59-f855-488a-e2e6-af41f7c2337f"
      },
      "source": [
        "t=()\n",
        "print(type(t))\n",
        "\n",
        "t = (1)\n",
        "print(type(t))  # gives the type int because of typecasting\n",
        "\n",
        "t =(1,)\n",
        "print(type(t)) # now it is tuple\n",
        "\n",
        "# tuple supports indexing but it is immutable so we cannot change an element using indexing.\n",
        "t = (1,2,3,4)\n",
        "print(t[2])\n",
        "\n",
        "# tuple also support + and * operators.\n",
        "s = (5,6)\n",
        "print(t+s)\n",
        "\n",
        "#sorting a tuple\n",
        "t= (4,6,3,2,5,7,7,4,2)\n",
        "t2 = sorted(t)\n",
        "print(t2)\n",
        "\n",
        "# compare tuples.\n",
        "print(t == t2)\n",
        "\n",
        "# tuple paking and unpacking\n",
        "t = 1,2,3,4  #packing\n",
        "a,b,c,d = t  #unpacking"
      ],
      "execution_count": null,
      "outputs": [
        {
          "output_type": "stream",
          "text": [
            "<class 'tuple'>\n",
            "<class 'int'>\n",
            "<class 'tuple'>\n",
            "3\n",
            "(1, 2, 3, 4, 5, 6)\n",
            "[2, 2, 3, 4, 4, 5, 6, 7, 7]\n",
            "False\n"
          ],
          "name": "stdout"
        }
      ]
    },
    {
      "cell_type": "code",
      "metadata": {
        "id": "4udTZsHeJmiP",
        "colab": {
          "base_uri": "https://localhost:8080/",
          "height": 35
        },
        "outputId": "9a086fdd-5208-4783-ce21-bbc0e15ec1de"
      },
      "source": [
        "# tuple comprehension is not supported by python\n",
        "t = (x*x for x in range(1,6))\n",
        "print(type(t)) # gives class generator, not tuple.\n"
      ],
      "execution_count": null,
      "outputs": [
        {
          "output_type": "stream",
          "text": [
            "<class 'generator'>\n"
          ],
          "name": "stdout"
        }
      ]
    },
    {
      "cell_type": "markdown",
      "metadata": {
        "id": "kThxjEqVJ7BR"
      },
      "source": [
        "# Set operations"
      ]
    },
    {
      "cell_type": "code",
      "metadata": {
        "id": "JHKYDU4EKAfe"
      },
      "source": [
        "# set \n",
        "d = {1,2,3}\n",
        "print(type(d))\n",
        "# set never support slicing and indexing.\n",
        "\n",
        "# union()\n",
        "x = {1,2,3}\n",
        "y = {2,3,4}\n",
        "print(x.union(y))\n",
        "\n",
        "# intersection()\n",
        "print(x.intersection(y))\n",
        "\n",
        "# difference()\n",
        "print(x.difference(y))\n",
        "\n",
        "# set comprehension\n",
        "t = {x*x for x in range(1,5)}\n",
        "print(type(t)) # gives set"
      ],
      "execution_count": null,
      "outputs": []
    },
    {
      "cell_type": "markdown",
      "metadata": {
        "id": "-KuAEyg6LBkD"
      },
      "source": [
        "# Dictionary operations"
      ]
    },
    {
      "cell_type": "code",
      "metadata": {
        "id": "ePE9XRx1LH2W",
        "colab": {
          "base_uri": "https://localhost:8080/",
          "height": 90
        },
        "outputId": "f5c0dfbd-9b01-4768-cf3b-1a6c1a6fa3b7"
      },
      "source": [
        "# dictionary\n",
        "d = {}\n",
        "d1 = dict()\n",
        "print(type(d),type(d1))\n",
        "\n",
        "# accessing dictionary\n",
        "d = {\n",
        "    1:[1,2,3,4],\n",
        "    2:[\"a\", \"b\"]\n",
        "    }\n",
        "print(d[1][2])\n",
        "print(d.get(1)) #if key is not found it gives None.\n",
        "\n",
        "# pop() function works similar to list, pass key as parameter\n",
        "d.pop(2)\n",
        "print(d)\n"
      ],
      "execution_count": null,
      "outputs": [
        {
          "output_type": "stream",
          "text": [
            "<class 'dict'> <class 'dict'>\n",
            "3\n",
            "[1, 2, 3, 4]\n",
            "{1: [1, 2, 3, 4]}\n"
          ],
          "name": "stdout"
        }
      ]
    },
    {
      "cell_type": "code",
      "metadata": {
        "id": "qQCX2ee6MnhD",
        "colab": {
          "base_uri": "https://localhost:8080/",
          "height": 72
        },
        "outputId": "679624fd-e83b-4db4-9cc9-58d3847edfc1"
      },
      "source": [
        "# unpacking\n",
        "d = {\n",
        "    1:[1,2,3,4],\n",
        "    2:[\"a\", \"b\"]\n",
        "    }\n",
        "\n",
        "t = d.items()\n",
        "print(type(t))  # dict items\n",
        " \n",
        "for a,b in d.items():\n",
        "    print(a,b)"
      ],
      "execution_count": null,
      "outputs": [
        {
          "output_type": "stream",
          "text": [
            "<class 'dict_items'>\n",
            "1 [1, 2, 3, 4]\n",
            "2 ['a', 'b']\n"
          ],
          "name": "stdout"
        }
      ]
    },
    {
      "cell_type": "code",
      "metadata": {
        "id": "GS3WkRwHNM57",
        "colab": {
          "base_uri": "https://localhost:8080/",
          "height": 35
        },
        "outputId": "d628443a-2728-4371-99b0-2dbd8000caab"
      },
      "source": [
        "# dict comprehension...\n",
        "d = {x : x*x for x in range(1,6)}\n",
        "print(d)"
      ],
      "execution_count": null,
      "outputs": [
        {
          "output_type": "stream",
          "text": [
            "{1: 1, 2: 4, 3: 9, 4: 16, 5: 25}\n"
          ],
          "name": "stdout"
        }
      ]
    },
    {
      "cell_type": "markdown",
      "metadata": {
        "id": "2NS7iGFsJAEu"
      },
      "source": [
        "# Function\n",
        "to define a function in python we require two keywords\n",
        "> def and return\n",
        "\n",
        "def is mandatory keyword and return is optional\n",
        "\n",
        "there are two types of funtions.\n",
        "\n",
        "> builtin functions - id(), type(), eval(), len()\n",
        "> userdefined function."
      ]
    },
    {
      "cell_type": "code",
      "metadata": {
        "id": "I3aDVgNtKCUJ",
        "colab": {
          "base_uri": "https://localhost:8080/",
          "height": 72
        },
        "outputId": "bc159a90-fb2b-44ae-d194-ed10288bac34"
      },
      "source": [
        "# user defined function in python.\n",
        "def fun_name(pareameters):\n",
        "    ''' example of a basic function'''\n",
        "    print(\"hello\")\n",
        "\n",
        "fun_name(1)\n",
        "print(fun_name(1)) # prints hello and None both.\n",
        "# if we dont define a return type in function then it is None"
      ],
      "execution_count": null,
      "outputs": [
        {
          "output_type": "stream",
          "text": [
            "hello\n",
            "hello\n",
            "None\n"
          ],
          "name": "stdout"
        }
      ]
    },
    {
      "cell_type": "code",
      "metadata": {
        "id": "OIChTb3mKdVV"
      },
      "source": [
        "#   Parameters\n",
        "# 1. positional arguement\n",
        "# 2. keyword arguement\n",
        "# 3. default arguement\n",
        "# 4. variable length arguement\n",
        "\n",
        "# write a function named calculator that return sum, div, mult, and sub of two no.\n",
        "\n",
        "def calculator(x,y):\n",
        "    sum = x+y\n",
        "    subs = x-y\n",
        "    mul = x*y\n",
        "    div = x//y\n",
        "    return (sum,subs,mul,div) \n",
        "\n",
        "# positional arguement \n",
        "print(calculator(5,6))\n",
        "# it can return multiple values but it create a tuple of them before returning."
      ],
      "execution_count": null,
      "outputs": []
    },
    {
      "cell_type": "code",
      "metadata": {
        "id": "_s6aK6JiPHsq",
        "colab": {
          "base_uri": "https://localhost:8080/",
          "height": 53
        },
        "outputId": "e1fb705a-7c5d-4bae-c81c-1e08a7171658"
      },
      "source": [
        "# keyword arguement passing\n",
        "def hello(name,add):\n",
        "    print(name, \"and\", add)\n",
        "\n",
        "hello(add = \"bhopal\", name=\"ashu\")\n",
        "\n",
        "# it is possible to use positional arguement and keyword arguement passing together\n",
        "# we need to write positional arguement first then keyword arguements.\n",
        "\n",
        "hello(\"rahul\", add=\"bhopal\")\n",
        "# hello(\"bhopal\", name = \"rahul\")   will give error hello() got multiple values for name.\n",
        "# hello(name = \"rahul\",\"bhopal\")     will give error"
      ],
      "execution_count": null,
      "outputs": [
        {
          "output_type": "stream",
          "text": [
            "ashu and bhopal\n",
            "rahul and bhopal\n"
          ],
          "name": "stdout"
        }
      ]
    },
    {
      "cell_type": "code",
      "metadata": {
        "id": "__tKgDGMQjHy",
        "colab": {
          "base_uri": "https://localhost:8080/",
          "height": 35
        },
        "outputId": "7acfc29d-7922-4fb4-b6de-1ce9be4b9d97"
      },
      "source": [
        "# default arguement passing\n",
        "def hello(name=\"ashu\", add=\"bhopal\"):\n",
        "    print(name,\"and\",add)\n",
        "\n",
        "hello() #gives no error because it is taking default values\n",
        "\n",
        "# after the default arguement, we can not take non default arguements\n",
        "# so we always write default arguement at last during defining a function."
      ],
      "execution_count": null,
      "outputs": [
        {
          "output_type": "stream",
          "text": [
            "ashu and bhopal\n"
          ],
          "name": "stdout"
        }
      ]
    },
    {
      "cell_type": "code",
      "metadata": {
        "id": "0yttvMZdSCWn",
        "colab": {
          "base_uri": "https://localhost:8080/"
        },
        "outputId": "f1b1f245-d37b-49d7-85cb-cadfa390bb81"
      },
      "source": [
        "# variable length arguement.\n",
        "def sum(*n):\n",
        "    print(type(n)) # n is a tuple.\n",
        "    total = 0\n",
        "    for i in n:\n",
        "        total = total + i\n",
        "\n",
        "    print(\"total : \", total)\n",
        "\n",
        "sum(2,3,4,5)\n",
        "sum(2,3,4)\n",
        "sum(5,6,6,7,66)\n",
        "\n",
        "# keyword variable length arguement\n",
        "def display(**kwrgs):\n",
        "    print(type(kwrgs))\n",
        "    print(kwrgs)\n",
        "\n",
        "display(name = \"rahul\", surname = \"dubey\")\n",
        "    \n",
        "# when we pass values through * it is a tuple.\n",
        "# when we pass values using ** it is a dictionary.\n"
      ],
      "execution_count": null,
      "outputs": [
        {
          "output_type": "stream",
          "text": [
            "<class 'tuple'>\n",
            "total :  14\n",
            "<class 'tuple'>\n",
            "total :  9\n",
            "<class 'tuple'>\n",
            "total :  90\n",
            "<class 'dict'>\n",
            "{'name': 'rahul', 'surname': 'dubey'}\n"
          ],
          "name": "stdout"
        }
      ]
    },
    {
      "cell_type": "markdown",
      "metadata": {
        "id": "DYQCflVT-eyM"
      },
      "source": [
        "## global and local variable.\n"
      ]
    },
    {
      "cell_type": "code",
      "metadata": {
        "id": "tGPJGzbE_gei",
        "colab": {
          "base_uri": "https://localhost:8080/"
        },
        "outputId": "63cc849b-4930-43b5-a787-c20ceb460ace"
      },
      "source": [
        "a = 10  # global variable.\n",
        "def f1():\n",
        "    a = 15   # local variable\n",
        "    print(a)\n",
        "\n",
        "def f2():\n",
        "    print(a)\n",
        "\n",
        "f1() # access local variable\n",
        "f2() # access global variable \n"
      ],
      "execution_count": null,
      "outputs": [
        {
          "output_type": "stream",
          "text": [
            "15\n",
            "10\n"
          ],
          "name": "stdout"
        }
      ]
    },
    {
      "cell_type": "code",
      "metadata": {
        "id": "37dEntyuAbJn",
        "colab": {
          "base_uri": "https://localhost:8080/"
        },
        "outputId": "4b0eff28-355a-42fe-d5b5-875d85b6f55e"
      },
      "source": [
        "# using global variable inside a function.\n",
        "a = 10\n",
        "def f1():\n",
        "    global a\n",
        "    a = 23\n",
        "    print(a)\n",
        "\n",
        "f1()\n",
        "f2()\n",
        "\n",
        "# both function access global variable."
      ],
      "execution_count": null,
      "outputs": [
        {
          "output_type": "stream",
          "text": [
            "23\n",
            "23\n"
          ],
          "name": "stdout"
        }
      ]
    },
    {
      "cell_type": "code",
      "metadata": {
        "id": "BnStYlFsBXDI",
        "colab": {
          "base_uri": "https://localhost:8080/"
        },
        "outputId": "ce56c5b6-9006-4a24-8a6a-5e12a2d08560"
      },
      "source": [
        "# declaring a global variabl inside function\n",
        "def f1():\n",
        "    global v\n",
        "    v = 10\n",
        "\n",
        "def f2():\n",
        "    print(v)\n",
        "\n",
        "f1()\n",
        "f2() # this function is able to access v because it is globally declared."
      ],
      "execution_count": null,
      "outputs": [
        {
          "output_type": "stream",
          "text": [
            "10\n"
          ],
          "name": "stdout"
        }
      ]
    },
    {
      "cell_type": "code",
      "metadata": {
        "id": "JFOHhfGHCCB2",
        "colab": {
          "base_uri": "https://localhost:8080/"
        },
        "outputId": "4b63caa6-9254-4dcc-8e47-d967e13c94fd"
      },
      "source": [
        "# access local and global value simultaneously \n",
        "a = 10 # global function\n",
        "def f1():\n",
        "    a = 15 # local variable\n",
        "    print(a) # local variable access\n",
        "    print(globals()['a']) #global variable access.\n",
        "\n",
        "f1()\n",
        "\n",
        "# globals function gives a dictionary of all global variables."
      ],
      "execution_count": null,
      "outputs": [
        {
          "output_type": "stream",
          "text": [
            "15\n",
            "10\n"
          ],
          "name": "stdout"
        }
      ]
    },
    {
      "cell_type": "markdown",
      "metadata": {
        "id": "-zTUcKsgCBok"
      },
      "source": [
        "## Anonymous function (Lambda Function)\n"
      ]
    },
    {
      "cell_type": "code",
      "metadata": {
        "id": "JE7-Q1wuDfzs",
        "colab": {
          "base_uri": "https://localhost:8080/"
        },
        "outputId": "67413060-6501-4c53-9926-f732f2b16f0f"
      },
      "source": [
        "# nameless function or lambda function\n",
        "def square(n):\n",
        "    return (n*n)\n",
        "\n",
        "def square(n):return (n*n)\n",
        "\n",
        "# lambda arguement list : expression \n",
        "# lambda directly executes and return value.\n",
        "x = lambda n : n*n\n",
        "\n",
        "print(x(4))\n",
        "print(x(5))\n",
        "\n",
        "s = lambda a,b: a if a>b else b\n",
        "print(s(5,7))\n",
        "\n"
      ],
      "execution_count": null,
      "outputs": [
        {
          "output_type": "stream",
          "text": [
            "16\n",
            "25\n",
            "7\n"
          ],
          "name": "stdout"
        }
      ]
    },
    {
      "cell_type": "code",
      "metadata": {
        "id": "XYKNf6hzEtKy",
        "colab": {
          "base_uri": "https://localhost:8080/"
        },
        "outputId": "10a79a9b-807e-40d2-fdc8-ded321ad8374"
      },
      "source": [
        "# filter function\n",
        "# map function\n",
        "# reduce function\n",
        "\n",
        "# given a list. reduce it to even numbers.\n",
        "l = [1,2,3,4,5,6,7,8,9,10]\n",
        "# use a function that will check for even no. and filter it out.\n",
        "even = lambda n : True if x%2 == 0 else False\n",
        "\n",
        "# filter function\n",
        "# syntax  -   filter(task, list)\n",
        "l2 = list(filter(lambda n :n%2 == 0 , l))\n",
        "print(l2)\n",
        "\n"
      ],
      "execution_count": null,
      "outputs": [
        {
          "output_type": "stream",
          "text": [
            "[2, 4, 6, 8, 10]\n"
          ],
          "name": "stdout"
        }
      ]
    },
    {
      "cell_type": "code",
      "metadata": {
        "id": "mXcD15JeGtlE",
        "colab": {
          "base_uri": "https://localhost:8080/"
        },
        "outputId": "30e12f08-74db-4693-a361-b2798eb18c49"
      },
      "source": [
        "# map function\n",
        "# syntax - map(func, sequence)\n",
        "# given a list. find square of all elements of list.\n",
        "\n",
        "l3 = list(map(lambda x : x*x, l))\n",
        "print(l3)\n",
        "\n",
        "# taking input in form of list using map.\n",
        "l4 = list(map(int, input().split()))\n",
        "print(l4)"
      ],
      "execution_count": null,
      "outputs": [
        {
          "output_type": "stream",
          "text": [
            "[1, 4, 9, 16, 25, 36, 49, 64, 81, 100]\n",
            "1 2 3 4 5 6 7\n",
            "[1, 2, 3, 4, 5, 6, 7]\n"
          ],
          "name": "stdout"
        }
      ]
    },
    {
      "cell_type": "code",
      "metadata": {
        "id": "KTK9iMAEIbl2",
        "colab": {
          "base_uri": "https://localhost:8080/"
        },
        "outputId": "beab6833-bada-4be3-94d3-e506c570721b"
      },
      "source": [
        "# reduce function\n",
        "# it takes sequence of elements and return single element.\n",
        "\n",
        "# find sum of all element of l3\n",
        "from functools import reduce\n",
        "sum = reduce(lambda x,y : x+y, l3)\n",
        "print(sum)"
      ],
      "execution_count": null,
      "outputs": [
        {
          "output_type": "stream",
          "text": [
            "385\n"
          ],
          "name": "stdout"
        }
      ]
    },
    {
      "cell_type": "markdown",
      "metadata": {
        "id": "dyiWIJ_cAaZo"
      },
      "source": [
        "## function aliasing and nested function\n",
        "\n"
      ]
    },
    {
      "cell_type": "code",
      "metadata": {
        "colab": {
          "base_uri": "https://localhost:8080/"
        },
        "id": "pevuMb4cEtOx",
        "outputId": "b5bc74e0-c177-44a4-9728-cd1d3cc43cd2"
      },
      "source": [
        "def print_msg(msg): # This is the outer enclosing function\n",
        "    def printer():# This is the nested function\n",
        "        print(msg)\n",
        "    return printer # this got changed\n",
        "\n",
        "# Now let's try calling this function.\n",
        "# Output: Hello\n",
        "\n",
        "# function aliasing means naming a function.\n",
        "another = print_msg(\"Hello\")\n",
        "another()"
      ],
      "execution_count": null,
      "outputs": [
        {
          "output_type": "stream",
          "text": [
            "<function print_msg.<locals>.printer at 0x7f71bad2f400>\n",
            "Hello\n"
          ],
          "name": "stdout"
        }
      ]
    },
    {
      "cell_type": "markdown",
      "metadata": {
        "id": "nmM1ytVmF_cV"
      },
      "source": [
        "## Decorator function\n",
        "input --> (input function) --> decorator function --> output function with extended functionality"
      ]
    },
    {
      "cell_type": "code",
      "metadata": {
        "colab": {
          "base_uri": "https://localhost:8080/"
        },
        "id": "EJC5AF2bGDpj",
        "outputId": "1b586c8e-eb0d-4670-c7a9-6d145efd8138"
      },
      "source": [
        "def decor(func): \n",
        "    def inner1(*args, **kwargs): \n",
        "        print(\"before Execution\") \n",
        "        # getting the returned value \n",
        "        returned_value = func(*args, **kwargs) \n",
        "        print(\"after Execution\") \n",
        "        # returning the value to the original frame \n",
        "        return returned_value \n",
        "    return inner1 \n",
        "  \n",
        "# adding decorator to the function \n",
        "@decor\n",
        "def sum_two_numbers(a, b): \n",
        "    print(\"Inside the function\") \n",
        "    return a + b \n",
        "  \n",
        "a, b = 1, 2\n",
        "  \n",
        "# getting the value through return of the function \n",
        "print(\"Sum =\", sum_two_numbers(a, b)) "
      ],
      "execution_count": null,
      "outputs": [
        {
          "output_type": "stream",
          "text": [
            "before Execution\n",
            "Inside the function\n",
            "after Execution\n",
            "Sum = 3\n"
          ],
          "name": "stdout"
        }
      ]
    },
    {
      "cell_type": "code",
      "metadata": {
        "colab": {
          "base_uri": "https://localhost:8080/"
        },
        "id": "nGWHHbtIH6wh",
        "outputId": "9976864d-b2e4-4874-e7e8-d287bce421d5"
      },
      "source": [
        "# decorator chaining\n",
        "# defining multiple decors\n",
        "def decor1(func):\n",
        "    def inner1():\n",
        "        print(\"decor 1 print\")\n",
        "    return inner1\n",
        "\n",
        "def decor2(func):\n",
        "    def inner2():\n",
        "        print(\"decor 2 print\")\n",
        "    return inner2\n",
        "\n",
        "@decor2\n",
        "@decor1\n",
        "def original():\n",
        "    print(\"original function\")\n",
        "\n",
        "original()\n",
        "\n",
        "# here first original function call back decor1 which again \n",
        "# call back decor 2 so finally the returned value is decor 2."
      ],
      "execution_count": null,
      "outputs": [
        {
          "output_type": "stream",
          "text": [
            "decor 2 print\n"
          ],
          "name": "stdout"
        }
      ]
    },
    {
      "cell_type": "code",
      "metadata": {
        "colab": {
          "base_uri": "https://localhost:8080/"
        },
        "id": "xTf1SDfSL6YK",
        "outputId": "aa649cb6-8137-497c-8770-332da8d06419"
      },
      "source": [
        "# another example\n",
        "def decor1(func):\n",
        "    def inner():\n",
        "        x = func()\n",
        "        return x * x\n",
        "    return inner\n",
        "\n",
        "def decor(func):\n",
        "    def inner():\n",
        "        x = func()\n",
        "        return x*2\n",
        "    return inner\n",
        "\n",
        "@decor1\n",
        "@decor\n",
        "def num():\n",
        "    return 10\n",
        "\n",
        "num()\n",
        "\n",
        "# num callback decor \n",
        "# decor callback decor1\n",
        "# decor1 execute inner which has func = decor\n",
        "# decor returns 20, x= 20.\n",
        "# inner return x*x , 400\n",
        "# decor1 returned 400 finally."
      ],
      "execution_count": null,
      "outputs": [
        {
          "output_type": "execute_result",
          "data": {
            "text/plain": [
              "400"
            ]
          },
          "metadata": {
            "tags": []
          },
          "execution_count": 8
        }
      ]
    },
    {
      "cell_type": "markdown",
      "metadata": {
        "id": "ghi-KZpyOAV5"
      },
      "source": [
        "## Generator Function"
      ]
    },
    {
      "cell_type": "code",
      "metadata": {
        "colab": {
          "base_uri": "https://localhost:8080/"
        },
        "id": "xyI78BtGOG9r",
        "outputId": "91fc51da-a0f5-42ca-c9a7-b1439f18abce"
      },
      "source": [
        "# l = [x for x in range(10000000000000)]\n",
        "# in colab the session crashed after using all available RAM\n",
        "\n",
        "l = (x for x in range(100000000000000))\n",
        "#  this code executes very quickly without using much RAM as previous one.\n",
        "\n",
        "# in list comprehension a whole list is created in one go, so RAM usage is high.\n",
        "# while in tuple compression it executed very quickly ???.\n",
        "print(type(l))\n",
        "\n",
        "# tuples have no concept like compression.\n",
        "# this is a generator.\n",
        "print(l)\n"
      ],
      "execution_count": null,
      "outputs": [
        {
          "output_type": "stream",
          "text": [
            "<class 'generator'>\n",
            "<generator object <genexpr> at 0x7f7aa8bd1d58>\n"
          ],
          "name": "stdout"
        }
      ]
    }
  ]
}