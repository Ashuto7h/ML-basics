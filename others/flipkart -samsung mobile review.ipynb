{
 "metadata": {
  "language_info": {
   "codemirror_mode": {
    "name": "ipython",
    "version": 3
   },
   "file_extension": ".py",
   "mimetype": "text/x-python",
   "name": "python",
   "nbconvert_exporter": "python",
   "pygments_lexer": "ipython3",
   "version": 3
  },
  "orig_nbformat": 2
 },
 "nbformat": 4,
 "nbformat_minor": 2,
 "cells": [
  {
   "source": [
    "# Flipkart Samsung Smart phone reviews Scrapper\n",
    "## Filters applied :\n",
    " - __Flipkart Assured__ : true\n",
    " - __Brand__ : Samsung\n",
    " - __Operating System__ : Android\n",
    " - __Sim Type__ : Dual Sim\n",
    " - __Type__ : Smartphones\n",
    " - __Availablity__ : Exclude Out of Stock\n",
    "\n",
    "No. of products after applying filter : 145\n",
    "\n",
    "url - https://www.flipkart.com/mobiles-accessories/mobiles/pr?sid=tyy%2C4io&otracker=categorytree&p%5B%5D=facets.sim_type%255B%255D%3DDual%2BSim&p%5B%5D=facets.fulfilled_by%255B%255D%3DFlipkart%2BAssured&p%5B%5D=facets.operating_system%255B%255D%3DAndroid&p%5B%5D=facets.availability%255B%255D%3DExclude%2BOut%2Bof%2BStock&p%5B%5D=facets.type%255B%255D%3DSmartphones&p%5B%5D=facets.brand%255B%255D%3DSamsung\n",
    "\n",
    "Pages - 7"
   ],
   "cell_type": "markdown",
   "metadata": {}
  }
 ]
}