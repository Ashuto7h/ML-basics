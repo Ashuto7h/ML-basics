{
 "metadata": {
  "language_info": {
   "codemirror_mode": {
    "name": "ipython",
    "version": 3
   },
   "file_extension": ".py",
   "mimetype": "text/x-python",
   "name": "python",
   "nbconvert_exporter": "python",
   "pygments_lexer": "ipython3",
   "version": "3.8.5-final"
  },
  "orig_nbformat": 2,
  "kernelspec": {
   "name": "python3",
   "display_name": "Python 3.8.5 64-bit ('base': conda)",
   "metadata": {
    "interpreter": {
     "hash": "84bd0b8312f9eb0e16a15fbb426430977ab7443487f927923d73a85e3eb3fba6"
    }
   }
  }
 },
 "nbformat": 4,
 "nbformat_minor": 2,
 "cells": [
  {
   "source": [
    "## Fancy Decorators\n",
    "### Class Decorators\n",
    "#### 1. @Property Decorator\n",
    "to use the class function as an attribute.\n"
   ],
   "cell_type": "markdown",
   "metadata": {}
  },
  {
   "cell_type": "code",
   "execution_count": 7,
   "metadata": {},
   "outputs": [
    {
     "output_type": "stream",
     "name": "stdout",
     "text": [
      "John got grade B\n"
     ]
    }
   ],
   "source": [
    "    class Student:  \n",
    "        def __init__(self,name,grade):  \n",
    "             self.name = name  \n",
    "             self.grade = grade  \n",
    "        @property  \n",
    "        def display(self):  \n",
    "             return self.name + \" got grade \" + self.grade  \n",
    "      \n",
    "    stu = Student(\"John\",\"B\")  \n",
    "    print(stu.display)  "
   ]
  },
  {
   "source": [
    "#### 2. @staticmethod \n",
    "see below for more info\n",
    "#### 3. @classmethod \n",
    "see below for more info\n",
    "#### 4. Nested Decorator"
   ],
   "cell_type": "markdown",
   "metadata": {}
  },
  {
   "cell_type": "code",
   "execution_count": 9,
   "metadata": {},
   "outputs": [
    {
     "output_type": "stream",
     "name": "stdout",
     "text": [
      "<i><strong>This is a basic program</strong></i>\n"
     ]
    }
   ],
   "source": [
    "def italic(func):\n",
    "      \n",
    "    def wrapper():\n",
    "        return '<i>' + func() + '</i>'\n",
    "      \n",
    "    return wrapper\n",
    "  \n",
    "def strong(func):\n",
    "      \n",
    "    def wrapper():\n",
    "        return '<strong>' + func() + '</strong>'\n",
    "      \n",
    "    return wrapper\n",
    "  \n",
    "  \n",
    "@italic\n",
    "@strong\n",
    "def introduction():\n",
    "    return 'This is a basic program'\n",
    "  \n",
    "print(introduction())\n",
    "\n",
    "# here first introduction goes to strong. strong returns its wrapper which is passed to italic. \n",
    "# italic func = wrapper. \n",
    "# italic wrapper returns <i> + strong wrapper + </i>\n",
    "# means <i> + <strong> + strong func() + </strong> + </i>\n",
    "# means <i> + <strong> + This is a basic program + </strong> + </i>"
   ]
  },
  {
   "source": [
    "#### 5. Decorator with arguements\n"
   ],
   "cell_type": "markdown",
   "metadata": {}
  },
  {
   "cell_type": "code",
   "execution_count": 14,
   "metadata": {},
   "outputs": [
    {
     "output_type": "stream",
     "name": "stdout",
     "text": [
      "vin\nvin\nvin\nvin\nvin\n"
     ]
    }
   ],
   "source": [
    "import functools  \n",
    "  \n",
    "def repeat(num):  \n",
    "#  Creating and returning a wrapper function  \n",
    "    def decorator_repeat(func):  \n",
    "        @functools.wraps(func) \n",
    "        def wrapper(*args,**kwargs):  \n",
    "            for _ in range(num):  \n",
    "                value = func(*args,**kwargs)  \n",
    "            return value  \n",
    "        return wrapper  \n",
    "    return decorator_repeat  \n",
    "  \n",
    "#  Here we are passing num as an argument which repeats the print function  \n",
    "@repeat(num=5)  \n",
    "def function1(name):  \n",
    "     print(f\"{name}\")  \n",
    "\n",
    "function1(\"vin\")"
   ]
  },
  {
   "source": [
    "#### 6. Stateful Decorator"
   ],
   "cell_type": "markdown",
   "metadata": {}
  },
  {
   "cell_type": "code",
   "execution_count": 17,
   "metadata": {},
   "outputs": [
    {
     "output_type": "stream",
     "name": "stdout",
     "text": [
      "Call 1 of 'say_hello'\nSay Hello\nCall 2 of 'say_hello'\nSay Hello\n"
     ]
    }
   ],
   "source": [
    "import functools  \n",
    "  \n",
    "def count_function(func):  \n",
    "    @functools.wraps(func)  \n",
    "    def wrapper_count_calls(*args, **kwargs):  \n",
    "        wrapper_count_calls.num_calls += 1  \n",
    "        print(f\"Call {wrapper_count_calls.num_calls} of {func.__name__!r}\")\n",
    "        return func(*args, **kwargs)  \n",
    "    \n",
    "    wrapper_count_calls.num_calls = 0  # this doesn't execute again. only when function defines.\n",
    "    return wrapper_count_calls  \n",
    "    \n",
    "@count_function  \n",
    "def say_hello():  \n",
    "    print(\"Say Hello\")  \n",
    "\n",
    "say_hello()  \n",
    "say_hello()"
   ]
  },
  {
   "source": [
    "#### 7. Classes as Decorators"
   ],
   "cell_type": "markdown",
   "metadata": {}
  },
  {
   "cell_type": "code",
   "execution_count": 18,
   "metadata": {},
   "outputs": [
    {
     "output_type": "stream",
     "name": "stdout",
     "text": [
      "Call1 of 'say_hello'\nSay Hello\nCall2 of 'say_hello'\nSay Hello\nCall3 of 'say_hello'\nSay Hello\n"
     ]
    }
   ],
   "source": [
    "import functools  \n",
    "  \n",
    "class Count_Calls:  \n",
    "    def __init__(self, func):  \n",
    "        functools.update_wrapper(self, func)  \n",
    "        self.func = func  \n",
    "        self.num_calls = 0  \n",
    "  \n",
    "    def __call__(self, *args, **kwargs):  \n",
    "        self.num_calls += 1  \n",
    "        print(f\"Call{self.num_calls} of {self.func.__name__!r}\")  \n",
    "        return self.func(*args, **kwargs)  \n",
    "  \n",
    "@Count_Calls  \n",
    "def say_hello():  \n",
    "    print(\"Say Hello\")  \n",
    "  \n",
    "say_hello()  \n",
    "say_hello()  \n",
    "say_hello()"
   ]
  },
  {
   "source": [
    "## Generators\n",
    "- generators are faster than iteration methods, because they don't need to create __iter__() and __next__() for each state.\n",
    "- generators can be created in form of a function which `yield` a value.\n",
    "- The yield statement controls the flow of the generator function. It pauses the function execution by saving all states and yielded to the caller. Later it resumes execution when a successive function is called. We can use the multiple yield statement in the generator function.\n",
    "- generator are memory efficient. list of 1000 elements takes 90 times more space than generators\n",
    "- generators can be used to produce infinite set of items, if you are not storing them in memory. because they produce only one item at a time/iteration."
   ],
   "cell_type": "markdown",
   "metadata": {}
  },
  {
   "cell_type": "code",
   "execution_count": 21,
   "metadata": {},
   "outputs": [
    {
     "output_type": "stream",
     "name": "stdout",
     "text": [
      "0\n2\n4\n6\n8\n"
     ]
    }
   ],
   "source": [
    "def simple():  \n",
    "    for i in range(10):  \n",
    "        if(i%2==0):  \n",
    "            yield i  \n",
    "\n",
    "#Successive Function call using for loop\n",
    "for i in simple():  \n",
    "    print(i)  "
   ]
  },
  {
   "cell_type": "code",
   "execution_count": 22,
   "metadata": {},
   "outputs": [
    {
     "output_type": "stream",
     "name": "stdout",
     "text": [
      "First String\nSecond string\nThird String\n"
     ]
    }
   ],
   "source": [
    "    def multiple_yield():  \n",
    "        str1 = \"First String\"  \n",
    "        yield str1  \n",
    "      \n",
    "        str2 = \"Second string\"  \n",
    "        yield str2  \n",
    "      \n",
    "        str3 = \"Third String\"  \n",
    "        yield str3  \n",
    "    obj = multiple_yield()  \n",
    "    print(next(obj))  \n",
    "    print(next(obj))  \n",
    "    print(next(obj))  "
   ]
  },
  {
   "source": [
    "## Multiprocessing in Python\n",
    "- __pipe()__  returns a pair of connection objects.\n",
    "- __run()__  represent the process activities.\n",
    "- __start()__  starts the process.\t\n",
    "- __join([timeout])__  block further processing until the process whose join() method is called terminates. The timeout is optional argument.\t\n",
    "- __is_alive()__  returns if process is alive.\t\n",
    "- __terminate()__  As the name suggests, it is used to terminate the process. the terminate() method is used in Linux, for Windows, we use TerminateProcess() method.\t\n",
    "- __kill()__  This method is similar to the terminate() but using the SIGKILL signal on Unix.\t\n",
    "- __close()__  close the Process object and releases all resources associated with it.\t\n",
    "- __qsize()__  It returns the approximate size of the queue.\t\n",
    "- __empty()__  If queue is empty, it returns True.\t\n",
    "- __full()__  It returns True, if queue is full.\t\n",
    "- __get_await()__ This method is equivalent get(False).\t\n",
    "- __get()__ used to get elements from the queue. It removes and returns an element from queue.\t\n",
    "- __put()__ used to insert an element into the queue.\t\n",
    "- __cpu_count()__ returns the number of working CPU within the system.\t\n",
    "- __current_process()__  returns the Process object corresponding to the current process.\t\n",
    "- __parent_process()__ \treturns the parent Process object corresponding to the current process.\t\n",
    "- __task_done()__ used indicate that an enqueued task is completed.\t\n",
    "- __join_thread()__ This method is used to join the background thread"
   ],
   "cell_type": "markdown",
   "metadata": {}
  },
  {
   "cell_type": "code",
   "execution_count": 26,
   "metadata": {},
   "outputs": [
    {
     "output_type": "stream",
     "name": "stdout",
     "text": [
      "process2\n",
      "process1\n",
      "\n",
      "\n",
      "process1\n",
      "process2\n",
      "\n",
      "\n",
      "process1\n",
      "process2\n",
      "\n",
      "process1\n",
      "\n",
      "\n",
      "process1\n",
      "process2\n",
      "\n",
      "\n",
      "process1\n",
      "process2\n",
      "\n",
      "\n",
      "process2\n",
      "\n",
      "process2\n",
      "process1\n",
      "\n",
      "process2\n",
      "\n",
      "\n",
      "process2\n",
      "process1\n",
      "\n",
      "process2\n",
      "\n",
      "\n",
      "process1\n",
      "\n",
      "process1\n",
      "\n",
      "Both processes are finished\n"
     ]
    }
   ],
   "source": [
    "import multiprocessing  \n",
    "def cube(n):  \n",
    "   # This function will print the cube of the given number  \n",
    "   for i in range(10):\n",
    "       print('process1\\n')\n",
    "#    print(f\"The Cube is: {n*n*n}\\n\")  \n",
    "def square(n):\n",
    "   for i in range(10):\n",
    "       print('process2\\n')\n",
    "    # This function will print the square of the given number  \n",
    "#    print(f\"The Square is: {n*n}\")  \n",
    "  \n",
    "if __name__ == \"__main__\":  \n",
    "   # creating two processes  \n",
    "   process1 = multiprocessing.Process(target= square, args=(5, ))  \n",
    "   process2 = multiprocessing.Process(target= cube, args=(5, ))  \n",
    "  \n",
    "   # Here we start the process 1  \n",
    "   process1.start()  \n",
    "   # Here we start process 2  \n",
    "   process2.start()  \n",
    "  \n",
    "   # The join() method is used to wait for process 1 to complete  \n",
    "   process1.join()  \n",
    "   # It is used to wait for process 2 to complete  \n",
    "   process2.join()  \n",
    "  \n",
    "   # Print if both processes are completed  \n",
    "   print(\"Both processes are finished\")  "
   ]
  },
  {
   "source": [
    "# Object Oriented Programming\n"
   ],
   "cell_type": "markdown",
   "metadata": {}
  },
  {
   "cell_type": "code",
   "execution_count": 35,
   "metadata": {},
   "outputs": [
    {
     "output_type": "stream",
     "name": "stdout",
     "text": [
      "ID: 10 \nName: John\n"
     ]
    },
    {
     "output_type": "error",
     "ename": "AttributeError",
     "evalue": "id",
     "traceback": [
      "\u001b[0;31m---------------------------------------------------------------------------\u001b[0m",
      "\u001b[0;31mAttributeError\u001b[0m                            Traceback (most recent call last)",
      "\u001b[0;32m<ipython-input-35-8a85f1529a52>\u001b[0m in \u001b[0;36m<module>\u001b[0;34m\u001b[0m\n\u001b[1;32m     10\u001b[0m \u001b[0memp\u001b[0m \u001b[0;34m=\u001b[0m \u001b[0mEmployee\u001b[0m\u001b[0;34m(\u001b[0m\u001b[0;34m)\u001b[0m\u001b[0;34m\u001b[0m\u001b[0;34m\u001b[0m\u001b[0m\n\u001b[1;32m     11\u001b[0m \u001b[0memp\u001b[0m\u001b[0;34m.\u001b[0m\u001b[0mdisplay\u001b[0m\u001b[0;34m(\u001b[0m\u001b[0;34m)\u001b[0m\u001b[0;34m\u001b[0m\u001b[0;34m\u001b[0m\u001b[0m\n\u001b[0;32m---> 12\u001b[0;31m \u001b[0;32mdel\u001b[0m \u001b[0memp\u001b[0m\u001b[0;34m.\u001b[0m\u001b[0mid\u001b[0m\u001b[0;34m\u001b[0m\u001b[0;34m\u001b[0m\u001b[0m\n\u001b[0m\u001b[1;32m     13\u001b[0m \u001b[0;32mdel\u001b[0m \u001b[0memp\u001b[0m\u001b[0;34m.\u001b[0m\u001b[0ml\u001b[0m\u001b[0;34m[\u001b[0m\u001b[0;36m2\u001b[0m\u001b[0;34m]\u001b[0m\u001b[0;34m\u001b[0m\u001b[0;34m\u001b[0m\u001b[0m\n\u001b[1;32m     14\u001b[0m \u001b[0;32mdel\u001b[0m \u001b[0memp\u001b[0m\u001b[0;34m\u001b[0m\u001b[0;34m\u001b[0m\u001b[0m\n",
      "\u001b[0;31mAttributeError\u001b[0m: id"
     ]
    }
   ],
   "source": [
    "# identify the type of error\n",
    "\n",
    "class Employee:    \n",
    "    id = 10   \n",
    "    name = \"John\"   \n",
    "    l = [1,2,3,4] \n",
    "    def display (self):    \n",
    "        print(\"ID: %d \\nName: %s\"%(self.id,self.name))    \n",
    "# Creating a emp instance of Employee class  \n",
    "emp = Employee()    \n",
    "emp.display()   \n",
    "del emp.id\n",
    "del emp.l[2]\n",
    "del emp \n",
    "\n",
    "# the error occured because we cannot delete an attribute of object.\n",
    "# we have to delete the whole object. \n",
    "# we can delete the value holded by object attribute. \n",
    "# example line 12 gives error but line 13 not.\n",
    "\n",
    "# attribute error occurs when an attribute is not able to perform any operation.\n",
    "# example   i = 1\n",
    "#           i.append(2)\n",
    "# it gives attribute error because we cannot perform append on int."
   ]
  },
  {
   "source": [
    "### Overloading in Python\n",
    "- python never supports overloading\n",
    "- when we define a function multiple times in same class with different signatures, then it saves the last definition and works accordingly.\n",
    "- reason for this is that it is an interpreted language, which executes a program line by line. so when same function gets defined again, rather than giving error, it changes the definition."
   ],
   "cell_type": "markdown",
   "metadata": {}
  },
  {
   "cell_type": "code",
   "execution_count": 36,
   "metadata": {},
   "outputs": [
    {
     "output_type": "error",
     "ename": "TypeError",
     "evalue": "__init__() missing 1 required positional argument: 'x'",
     "traceback": [
      "\u001b[0;31m---------------------------------------------------------------------------\u001b[0m",
      "\u001b[0;31mTypeError\u001b[0m                                 Traceback (most recent call last)",
      "\u001b[0;32m<ipython-input-36-72b778c1e59e>\u001b[0m in \u001b[0;36m<module>\u001b[0;34m\u001b[0m\n\u001b[1;32m      5\u001b[0m         \u001b[0mprint\u001b[0m\u001b[0;34m(\u001b[0m\u001b[0;34m\"The second contructor\"\u001b[0m\u001b[0;34m,\u001b[0m\u001b[0mx\u001b[0m\u001b[0;34m)\u001b[0m\u001b[0;34m\u001b[0m\u001b[0;34m\u001b[0m\u001b[0m\n\u001b[1;32m      6\u001b[0m \u001b[0;34m\u001b[0m\u001b[0m\n\u001b[0;32m----> 7\u001b[0;31m \u001b[0mst\u001b[0m \u001b[0;34m=\u001b[0m \u001b[0mStudent\u001b[0m\u001b[0;34m(\u001b[0m\u001b[0;34m)\u001b[0m\u001b[0;34m\u001b[0m\u001b[0;34m\u001b[0m\u001b[0m\n\u001b[0m",
      "\u001b[0;31mTypeError\u001b[0m: __init__() missing 1 required positional argument: 'x'"
     ]
    }
   ],
   "source": [
    "    class Student:  \n",
    "        def __init__(self):  \n",
    "            print(\"The First Constructor\")  \n",
    "        def __init__(self,x):  \n",
    "            print(\"The second contructor\",x)  \n",
    "      \n",
    "    st = Student()  "
   ]
  },
  {
   "source": [
    "### builtin clas functions\n",
    "1. getattr(obj, name, default)\n",
    "2. setattr(obj, name, value)\n",
    "3. delattr(obj, name)\n",
    "4. hasattr(obj, name)\n",
    "### builtin clas attributes\n",
    "1. `__dict__` - provides dictionary containing class namespace informations\n",
    "2. `__doc__` - provides class documentation string\n",
    "3. `__name__` - returns class name\n",
    "4. `__module__` - returns the module in which class is defined. (default = main)\n",
    "5. `__bases__` - contains a tuple including all base classes. (default = object)\n"
   ],
   "cell_type": "markdown",
   "metadata": {}
  },
  {
   "cell_type": "code",
   "execution_count": 46,
   "metadata": {},
   "outputs": [
    {
     "output_type": "stream",
     "name": "stdout",
     "text": [
      "The second contructor 5\n{}\nNone\nStudent\n__main__\n(<class 'object'>,)\n"
     ]
    }
   ],
   "source": [
    "s = Student(5)\n",
    "print(s.__dict__)\n",
    "print(s.__doc__)\n",
    "print(Student.__name__)\n",
    "print(s.__module__)\n",
    "print(Student.__bases__)\n"
   ]
  },
  {
   "source": [
    "## Types of Method"
   ],
   "cell_type": "markdown",
   "metadata": {}
  },
  {
   "source": [
    "### Instance Method\n",
    "- instance method is a method which uses instance variable.\n",
    "- instance method must have self as first arguement\n",
    "- by using self, you can access instance variable inside instance method.\n",
    "- if you want to call instance method inside class so you can do it by self variable.\n",
    "- outside class use object reference."
   ],
   "cell_type": "markdown",
   "metadata": {}
  },
  {
   "cell_type": "code",
   "execution_count": 2,
   "metadata": {},
   "outputs": [
    {
     "output_type": "stream",
     "name": "stdout",
     "text": [
      "address of student is  vidisha\n"
     ]
    }
   ],
   "source": [
    "# while defining a method inside class, it is always instance method because it contains self.\n",
    "class Student:\n",
    "    def s_add(self,add):\n",
    "        self.add = add\n",
    "        return self.add\n",
    "    def display(self):\n",
    "        print(\"address of student is \", self.s_add('vidisha'))\n",
    "\n",
    "s = Student()\n",
    "s.display()\n"
   ]
  },
  {
   "source": [
    "### Class method\n",
    "- inside method implementation, using class variables(static variables)\n",
    "- in a class method it is necessary to pass atleast one arguement that represents the class.\n",
    "- how to difference between class and instance method. -> use decoratoor.\n",
    "- class method can be accessed by class name or object reference."
   ],
   "cell_type": "markdown",
   "metadata": {}
  },
  {
   "cell_type": "code",
   "execution_count": 10,
   "metadata": {},
   "outputs": [
    {
     "output_type": "stream",
     "name": "stdout",
     "text": [
      "no. of object created are :  3\nno. of object created :  3\n"
     ]
    }
   ],
   "source": [
    "# class to count no. of objects created.\n",
    "class Test:\n",
    "    count = 0\n",
    "    def __init__(self):\n",
    "        Test.count += 1\n",
    "    \n",
    "    @classmethod\n",
    "    def displaycount(cls):\n",
    "        print('no. of object created are : ', cls.count)\n",
    "        print('no. of object created : ',Test.count)\n",
    "\n",
    "t1 = Test()\n",
    "t2 = Test()\n",
    "t3 = Test()\n",
    "t2.displaycount()\n",
    "\n",
    "# here count is class variable (static variable)"
   ]
  },
  {
   "source": [
    "### Static Method\n",
    "- a method that can be called without creating object\n",
    "- they are general utility methods.\n",
    "- inside these methods, we don't use any instance of class variables.\n",
    "- to decalre the static method, we require @staticmethod decorator.\n",
    "- we can access static method using class name or object reference\n"
   ],
   "cell_type": "markdown",
   "metadata": {}
  },
  {
   "cell_type": "code",
   "execution_count": 11,
   "metadata": {},
   "outputs": [
    {
     "output_type": "error",
     "ename": "TypeError",
     "evalue": "add() takes 2 positional arguments but 3 were given",
     "traceback": [
      "\u001b[0;31m---------------------------------------------------------------------------\u001b[0m",
      "\u001b[0;31mTypeError\u001b[0m                                 Traceback (most recent call last)",
      "\u001b[0;32m<ipython-input-11-d9706c9db7ba>\u001b[0m in \u001b[0;36m<module>\u001b[0;34m\u001b[0m\n\u001b[1;32m      4\u001b[0m \u001b[0;34m\u001b[0m\u001b[0m\n\u001b[1;32m      5\u001b[0m \u001b[0mr\u001b[0m \u001b[0;34m=\u001b[0m \u001b[0mrahulmath\u001b[0m\u001b[0;34m(\u001b[0m\u001b[0;34m)\u001b[0m\u001b[0;34m\u001b[0m\u001b[0;34m\u001b[0m\u001b[0m\n\u001b[0;32m----> 6\u001b[0;31m \u001b[0mr\u001b[0m\u001b[0;34m.\u001b[0m\u001b[0madd\u001b[0m\u001b[0;34m(\u001b[0m\u001b[0;36m5\u001b[0m\u001b[0;34m,\u001b[0m\u001b[0;36m6\u001b[0m\u001b[0;34m)\u001b[0m\u001b[0;34m\u001b[0m\u001b[0;34m\u001b[0m\u001b[0m\n\u001b[0m",
      "\u001b[0;31mTypeError\u001b[0m: add() takes 2 positional arguments but 3 were given"
     ]
    }
   ],
   "source": [
    "class rahulmath:\n",
    "    def add(x,y):\n",
    "        print(x+y)\n",
    "# by default python treats a method as instance method. so it assumes x as self.\n",
    "r = rahulmath()\n",
    "r.add(5,6)"
   ]
  },
  {
   "cell_type": "code",
   "execution_count": 15,
   "metadata": {},
   "outputs": [
    {
     "output_type": "stream",
     "name": "stdout",
     "text": [
      "14\n12\n"
     ]
    }
   ],
   "source": [
    "# general utility method is a method which doesn't need a class reference. they can be used for simple utilities.\n",
    "class rahulmath:\n",
    "    p = 3\n",
    "    @staticmethod\n",
    "    def add(x,y):\n",
    "        print(x + y + rahulmath.p)\n",
    "\n",
    "r = rahulmath()\n",
    "r.add(5,6)\n",
    "rahulmath.add(4,5)"
   ]
  },
  {
   "source": [
    "#### can we access a private variable of class by using object reference\n",
    "> ans = No\n",
    "\n",
    "#### can we access a private variable of class by using class reference\n",
    "> ans = No"
   ],
   "cell_type": "markdown",
   "metadata": {}
  },
  {
   "cell_type": "code",
   "execution_count": 21,
   "metadata": {},
   "outputs": [
    {
     "output_type": "stream",
     "name": "stdout",
     "text": [
      "20 30\n30\n"
     ]
    },
    {
     "output_type": "error",
     "ename": "AttributeError",
     "evalue": "type object 'Test' has no attribute '__z'",
     "traceback": [
      "\u001b[0;31m---------------------------------------------------------------------------\u001b[0m",
      "\u001b[0;31mAttributeError\u001b[0m                            Traceback (most recent call last)",
      "\u001b[0;32m<ipython-input-21-1b1f7a69c8b4>\u001b[0m in \u001b[0;36m<module>\u001b[0;34m\u001b[0m\n\u001b[1;32m      7\u001b[0m \u001b[0mprint\u001b[0m\u001b[0;34m(\u001b[0m\u001b[0mt\u001b[0m\u001b[0;34m.\u001b[0m\u001b[0mx\u001b[0m\u001b[0;34m,\u001b[0m \u001b[0mt\u001b[0m\u001b[0;34m.\u001b[0m\u001b[0m_y\u001b[0m\u001b[0;34m)\u001b[0m\u001b[0;34m\u001b[0m\u001b[0;34m\u001b[0m\u001b[0m\n\u001b[1;32m      8\u001b[0m \u001b[0mprint\u001b[0m\u001b[0;34m(\u001b[0m\u001b[0mTest\u001b[0m\u001b[0;34m.\u001b[0m\u001b[0m_y\u001b[0m\u001b[0;34m)\u001b[0m\u001b[0;34m\u001b[0m\u001b[0;34m\u001b[0m\u001b[0m\n\u001b[0;32m----> 9\u001b[0;31m \u001b[0mprint\u001b[0m\u001b[0;34m(\u001b[0m\u001b[0mTest\u001b[0m\u001b[0;34m.\u001b[0m\u001b[0m__z\u001b[0m\u001b[0;34m)\u001b[0m\u001b[0;34m\u001b[0m\u001b[0;34m\u001b[0m\u001b[0m\n\u001b[0m",
      "\u001b[0;31mAttributeError\u001b[0m: type object 'Test' has no attribute '__z'"
     ]
    }
   ],
   "source": [
    "class Test:\n",
    "    x = 20\n",
    "    _y = 30\n",
    "    __z = 40\n",
    "\n",
    "t = Test()\n",
    "print(t.x, t._y)\n",
    "print(Test.__z)"
   ]
  },
  {
   "source": [
    "### Access specifier\n",
    "- in pythonthere is no specific keyword for Access specifier (private,protected, public)\n",
    "- in python every thing is public by default\n",
    "- x is public\n",
    "- _x is protected (only for illusion. nothing is like protected, it behaves like public always)\n",
    "- __x is private"
   ],
   "cell_type": "markdown",
   "metadata": {}
  },
  {
   "source": [
    "# . . . "
   ],
   "cell_type": "markdown",
   "metadata": {}
  },
  {
   "source": [
    "- I take one class object and pass it to other class. it is not extending functionality\n",
    "\n",
    "### has a relationship\n",
    "#### composition\n",
    "if container and contained is strongly related\n",
    "#### aggregation\n",
    "if container and contained is not strongly related\n",
    "\n",
    "example car has ---> engine, if destroy car, engine destroy. composition\n",
    "\n",
    "employee has ---> car, it is aggregation.\n",
    "\n",
    "### Is a relationship\n",
    "#### inheritance --> reusablity --> extend functionality"
   ],
   "cell_type": "markdown",
   "metadata": {}
  },
  {
   "source": [
    "### Composition"
   ],
   "cell_type": "markdown",
   "metadata": {}
  },
  {
   "cell_type": "code",
   "execution_count": 26,
   "metadata": {},
   "outputs": [
    {
     "output_type": "stream",
     "name": "stdout",
     "text": [
      "this is a car with following engine\n",
      "engine functionality\n",
      "four stroke\n",
      "releasing all car resource\n",
      "releasing all engine resource\n"
     ]
    }
   ],
   "source": [
    "import time\n",
    "class Engine:\n",
    "    power = 10\n",
    "    def __init__(self):\n",
    "        self.type = \"four stroke\"\n",
    "    \n",
    "    def __del__(self):\n",
    "        print('releasing all engine resource')\n",
    "        time.sleep(5)\n",
    "    \n",
    "    def m1(self):\n",
    "        print(\"engine functionality\")\n",
    "    \n",
    "\n",
    "class Car:\n",
    "    def __init__(self):\n",
    "        self.engine = Engine()\n",
    "    \n",
    "    def __del__(self):\n",
    "        print('releasing all car resource')\n",
    "        time.sleep(5)\n",
    "   \n",
    "    def car_info(self):\n",
    "        print('this is a car with following engine')\n",
    "    \n",
    "    def m2(self):\n",
    "        self.car_info()\n",
    "        self.engine.m1()\n",
    "        print(self.engine.type)\n",
    "\n",
    "c = Car()\n",
    "c.m2()\n",
    "del c\n",
    "\n",
    "# here, as car object is deleted, engine also gets deleted. \n",
    "# container and contained object have strong relations."
   ]
  },
  {
   "source": [
    "## Aggregation\n"
   ],
   "cell_type": "markdown",
   "metadata": {}
  },
  {
   "cell_type": "code",
   "execution_count": 27,
   "metadata": {},
   "outputs": [
    {
     "output_type": "stream",
     "name": "stdout",
     "text": [
      "releasing car resource\n",
      "mohan y\n"
     ]
    }
   ],
   "source": [
    "import time\n",
    "class Car:\n",
    "    def __init__(self, model, color):\n",
    "        self.model = model\n",
    "        self.color = color\n",
    "    def __del__(self):\n",
    "        print('releasing car resource')\n",
    "        time.sleep(5)\n",
    "    \n",
    "    def carinfo(self):\n",
    "        print(self.model, self.color)\n",
    "\n",
    "class Emp:\n",
    "    def __init__(self,name, car):\n",
    "        self.name= name\n",
    "        self.car = car\n",
    "    \n",
    "    def __del__(self):\n",
    "        print(\"releasing Emp resource\")\n",
    "    \n",
    "    def Empinfo(self):\n",
    "        print(self.name, self.car)\n",
    "\n",
    "c = Car('y','black')\n",
    "e = Emp('mohan', 'y')\n",
    "del c\n",
    "e.Empinfo()\n",
    "\n",
    "# no strong relation."
   ]
  },
  {
   "source": [
    "## Inheritance"
   ],
   "cell_type": "markdown",
   "metadata": {}
  },
  {
   "cell_type": "code",
   "execution_count": 28,
   "metadata": {},
   "outputs": [
    {
     "output_type": "stream",
     "name": "stdout",
     "text": [
      "parent\nchild\n"
     ]
    }
   ],
   "source": [
    "# simple inheritance \n",
    "class P:\n",
    "    def m1(self):\n",
    "        print(\"parent\")\n",
    "\n",
    "class C(P):\n",
    "    def m2(self):\n",
    "        print(\"child\")\n",
    "\n",
    "c = C()\n",
    "c.m1()\n",
    "c.m2()"
   ]
  },
  {
   "cell_type": "code",
   "execution_count": 29,
   "metadata": {},
   "outputs": [
    {
     "output_type": "stream",
     "name": "stdout",
     "text": [
      "parent\nchild\nchild of C\n"
     ]
    }
   ],
   "source": [
    "# multilevel inheritance \n",
    "class P:\n",
    "    def m1(self):\n",
    "        print(\"parent\")\n",
    "\n",
    "class C(P):\n",
    "    def m2(self):\n",
    "        print(\"child\")\n",
    "\n",
    "class Cc(C):\n",
    "    def m3(self):\n",
    "        print('child of C')\n",
    "\n",
    "c = Cc()\n",
    "c.m1()\n",
    "c.m2()\n",
    "c.m3()"
   ]
  },
  {
   "cell_type": "code",
   "execution_count": 33,
   "metadata": {},
   "outputs": [
    {
     "output_type": "stream",
     "name": "stdout",
     "text": [
      "parent 1\nparent 1\nchild\n"
     ]
    }
   ],
   "source": [
    "# hierarchial inheritance\n",
    "class P1:\n",
    "    def m(self):\n",
    "        print(\"parent 1\")\n",
    "\n",
    "class P2:\n",
    "    def m(self):\n",
    "        print(\"parent 2\")\n",
    "\n",
    "class C(P1,P2):\n",
    "    def m3(self):\n",
    "        print('child')\n",
    "\n",
    "c = C()\n",
    "c.m()\n",
    "c.m()\n",
    "c.m3()"
   ]
  },
  {
   "cell_type": "code",
   "execution_count": 34,
   "metadata": {},
   "outputs": [
    {
     "output_type": "stream",
     "name": "stdout",
     "text": [
      "parent 2\nparent 2\nchild\n"
     ]
    }
   ],
   "source": [
    "# hierarchial inheritance\n",
    "class P1:\n",
    "    def m(self):\n",
    "        print(\"parent 1\")\n",
    "\n",
    "class P2:\n",
    "    def m(self):\n",
    "        print(\"parent 2\")\n",
    "\n",
    "class C(P2,P1):\n",
    "    def m3(self):\n",
    "        print('child')\n",
    "\n",
    "c = C()\n",
    "c.m()\n",
    "c.m()\n",
    "c.m3()"
   ]
  },
  {
   "source": [
    "__Note__ : Java had the multiple inheritance problem but python doesn't have.\n",
    "the methods will be executed in the order in which they were given."
   ],
   "cell_type": "markdown",
   "metadata": {}
  },
  {
   "source": [
    "In Multiple or hybrid inheritance, how PVM decides the order of preference in overridden methods.\n"
   ],
   "cell_type": "markdown",
   "metadata": {}
  },
  {
   "cell_type": "code",
   "execution_count": 2,
   "metadata": {},
   "outputs": [
    {
     "output_type": "stream",
     "name": "stdout",
     "text": [
      "[<class '__main__.A'>, <class 'object'>]\n[<class '__main__.B'>, <class 'object'>]\n[<class '__main__.C'>, <class 'object'>]\n[<class '__main__.X'>, <class '__main__.A'>, <class '__main__.B'>, <class 'object'>]\n[<class '__main__.Y'>, <class '__main__.B'>, <class '__main__.C'>, <class 'object'>]\n[<class '__main__.P'>, <class '__main__.X'>, <class '__main__.A'>, <class '__main__.Y'>, <class '__main__.B'>, <class '__main__.C'>, <class 'object'>]\n"
     ]
    }
   ],
   "source": [
    "class A: pass\n",
    "class B: pass\n",
    "class C: pass\n",
    "class X(A,B): pass\n",
    "class Y(B,C): pass\n",
    "class P(X,Y,C): pass\n",
    "print(A.mro())\n",
    "print(B.mro())\n",
    "print(C.mro())\n",
    "print(X.mro())\n",
    "print(Y.mro())\n",
    "print(P.mro())"
   ]
  },
  {
   "source": [
    "- super() and its restrictions\n",
    "- super() cannot be called from any static method.\n",
    "- super().__init__() only be called from  child __init__()\n",
    "\n",
    "__polymorphism__\n",
    "- python follows duck typing flow\n",
    "\n",
    "- operator overloading\n"
   ],
   "cell_type": "markdown",
   "metadata": {}
  },
  {
   "source": [
    "# Find Outputs\n"
   ],
   "cell_type": "markdown",
   "metadata": {}
  },
  {
   "cell_type": "code",
   "execution_count": 2,
   "metadata": {},
   "outputs": [],
   "source": [
    "z = \"xyz\"  \n",
    "j = \"j\"  \n",
    "while j in z:\n",
    "    print(j, end=\" \")\n",
    "\n",
    "# it prints nothing because j is not available in z."
   ]
  },
  {
   "cell_type": "code",
   "execution_count": 4,
   "metadata": {},
   "outputs": [
    {
     "output_type": "stream",
     "name": "stdout",
     "text": [
      "['xy', 'yz']\n"
     ]
    }
   ],
   "source": [
    "    x = ['xy', 'yz']  \n",
    "    for i in x:  \n",
    "        i.upper()  \n",
    "    print(x)  \n",
    "\n",
    "    # i.upper() or i.lower() returns value. they don't change it inplace."
   ]
  },
  {
   "cell_type": "code",
   "execution_count": 5,
   "metadata": {},
   "outputs": [
    {
     "output_type": "error",
     "ename": "NameError",
     "evalue": "name 'APPLE' is not defined",
     "traceback": [
      "\u001b[0;31m---------------------------------------------------------------------------\u001b[0m",
      "\u001b[0;31mNameError\u001b[0m                                 Traceback (most recent call last)",
      "\u001b[0;32m<ipython-input-5-0dacee1dc240>\u001b[0m in \u001b[0;36m<module>\u001b[0;34m\u001b[0m\n\u001b[1;32m      1\u001b[0m \u001b[0;31m# find the type of error.\u001b[0m\u001b[0;34m\u001b[0m\u001b[0;34m\u001b[0m\u001b[0;34m\u001b[0m\u001b[0m\n\u001b[0;32m----> 2\u001b[0;31m \u001b[0mMANGO\u001b[0m \u001b[0;34m=\u001b[0m \u001b[0mAPPLE\u001b[0m\u001b[0;34m\u001b[0m\u001b[0;34m\u001b[0m\u001b[0m\n\u001b[0m",
      "\u001b[0;31mNameError\u001b[0m: name 'APPLE' is not defined"
     ]
    }
   ],
   "source": [
    "# find the type of error.\n",
    "MANGO = APPLE \n",
    "# ans = NameError "
   ]
  },
  {
   "cell_type": "code",
   "execution_count": 6,
   "metadata": {},
   "outputs": [
    {
     "output_type": "error",
     "ename": "TypeError",
     "evalue": "catching classes that do not inherit from BaseException is not allowed",
     "traceback": [
      "\u001b[0;31m---------------------------------------------------------------------------\u001b[0m",
      "\u001b[0;31mTypeError\u001b[0m                                 Traceback (most recent call last)",
      "\u001b[0;32m<ipython-input-6-1dd7fd6ccaa2>\u001b[0m in \u001b[0;36m<module>\u001b[0;34m\u001b[0m\n\u001b[1;32m      2\u001b[0m     \u001b[0;32mif\u001b[0m \u001b[0;34m'2'\u001b[0m \u001b[0;34m!=\u001b[0m \u001b[0;36m2\u001b[0m\u001b[0;34m:\u001b[0m\u001b[0;34m\u001b[0m\u001b[0;34m\u001b[0m\u001b[0m\n\u001b[0;32m----> 3\u001b[0;31m         \u001b[0;32mraise\u001b[0m \u001b[0;34m\"JavaTpoint\"\u001b[0m\u001b[0;34m\u001b[0m\u001b[0;34m\u001b[0m\u001b[0m\n\u001b[0m\u001b[1;32m      4\u001b[0m     \u001b[0;32melse\u001b[0m\u001b[0;34m:\u001b[0m\u001b[0;34m\u001b[0m\u001b[0;34m\u001b[0m\u001b[0m\n",
      "\u001b[0;31mTypeError\u001b[0m: exceptions must derive from BaseException",
      "\nDuring handling of the above exception, another exception occurred:\n",
      "\u001b[0;31mTypeError\u001b[0m                                 Traceback (most recent call last)",
      "\u001b[0;32m<ipython-input-6-1dd7fd6ccaa2>\u001b[0m in \u001b[0;36m<module>\u001b[0;34m\u001b[0m\n\u001b[1;32m      4\u001b[0m     \u001b[0;32melse\u001b[0m\u001b[0;34m:\u001b[0m\u001b[0;34m\u001b[0m\u001b[0;34m\u001b[0m\u001b[0m\n\u001b[1;32m      5\u001b[0m         \u001b[0mprint\u001b[0m\u001b[0;34m(\u001b[0m\u001b[0;34m\"JavaTpoint has not exist\"\u001b[0m\u001b[0;34m)\u001b[0m\u001b[0;34m\u001b[0m\u001b[0;34m\u001b[0m\u001b[0m\n\u001b[0;32m----> 6\u001b[0;31m \u001b[0;32mexcept\u001b[0m \u001b[0;34m\"JavaTpoint\"\u001b[0m\u001b[0;34m:\u001b[0m\u001b[0;34m\u001b[0m\u001b[0;34m\u001b[0m\u001b[0m\n\u001b[0m\u001b[1;32m      7\u001b[0m     \u001b[0mprint\u001b[0m \u001b[0;34m(\u001b[0m\u001b[0;34m\"JavaTpoint has exist\"\u001b[0m\u001b[0;34m)\u001b[0m\u001b[0;34m\u001b[0m\u001b[0;34m\u001b[0m\u001b[0m\n",
      "\u001b[0;31mTypeError\u001b[0m: catching classes that do not inherit from BaseException is not allowed"
     ]
    }
   ],
   "source": [
    "    try:  \n",
    "        if '2' != 2:  \n",
    "            raise \"JavaTpoint\"  \n",
    "        else:  \n",
    "            print(\"JavaTpoint has not exist\")  \n",
    "    except \"JavaTpoint\":  \n",
    "        print (\"JavaTpoint has exist\") \n",
    "        # every exception should inherit from baseException class. "
   ]
  }
 ]
}