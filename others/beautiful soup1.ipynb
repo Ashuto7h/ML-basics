{
 "metadata": {
  "language_info": {
   "codemirror_mode": {
    "name": "ipython",
    "version": 3
   },
   "file_extension": ".py",
   "mimetype": "text/x-python",
   "name": "python",
   "nbconvert_exporter": "python",
   "pygments_lexer": "ipython3",
   "version": "3.8.5-final"
  },
  "orig_nbformat": 2,
  "kernelspec": {
   "name": "python3",
   "display_name": "Python 3",
   "language": "python"
  }
 },
 "nbformat": 4,
 "nbformat_minor": 2,
 "cells": [
  {
   "source": [
    "# Using Beautiful soup to extract data."
   ],
   "cell_type": "markdown",
   "metadata": {}
  },
  {
   "cell_type": "code",
   "execution_count": 7,
   "metadata": {},
   "outputs": [
    {
     "output_type": "stream",
     "name": "stdout",
     "text": [
      "<class 'bs4.BeautifulSoup'>\n\n<!DOCTYPE html>\n<html lang=\"en\">\n <head>\n  <!-- Anti-flicker snippet (recommended)  -->\n  <style>\n   .async-hide {\n\t\topacity: 0 !important\n\t}\n  </style>\n  <script>\n   (function (a, s, y, n, c, h, i, d, e) {\n\t\ts.className += ' ' + y;\n\t\th.start = 1 * new Date;\n\t\th.end = i = function () {\n\t\t\ts.className = s.className.replace(RegExp(' ?' + y), '')\n\t\t};\n\t\t(a[n] = a[n] || []).hide = h;\n\t\tsetTimeout(function () {\n\t\t\ti();\n\t\t\th.end = null\n\t\t}, c);\n\t\th.timeout = c;\n\t})(window, document.documentElement, 'async-hide', 'dataLayer', 4000,\n\t\t{'GTM-NVFPDWB': true});\n  </script>\n  <!-- Google Tag Manager -->\n  <script>\n   (function (w, d, s, l, i) {\n\t\tw[l] = w[l] || [];\n\t\tw[l].push({\n\t\t\t'gtm.start':\n\t\t\t\tnew Date().getTime(), event: 'gtm.js'\n\t\t});\n\t\tvar f = d.getElementsByTagName(s)[0],\n\t\t\tj = d.createElement(s), dl = l != 'dataLayer' ? '&l=' + l : '';\n\t\tj.async = true;\n\t\tj.src =\n\t\t\t'https://www.googletagmanager.com/gtm.js?id=' + i + dl;\n\t\tf.parentNode.insertBefore(j, f);\n\t})(window, document, 'script', 'dataLayer', 'GTM-NVFPDWB');\n  </script>\n  <!-- End Google Tag Manager -->\n  <title>\n   Web Scraper Test Sites\n  </title>\n  <meta charset=\"utf-8\"/>\n  <meta content=\"IE=edge,chrome=1\" http-equiv=\"X-UA-Compatible\"/>\n  <meta content=\"web scraping,Web Scraper,Chrome extension,Crawling,Cross platform scraper\" name=\"keywords\"/>\n  <meta content=\"The most popular web scraping extension. Start scraping in minutes. Automate your tasks with our Cloud Scraper. No software to download, no coding needed.\" name=\"description\"/>\n  <link href=\"/favicon.png\" rel=\"icon\" sizes=\"128x128\"/>\n  <meta content=\"width=device-width, initial-scale=1.0\" name=\"viewport\"/>\n  <link href=\"/css/app.css?id=e4de8db16b64e604046e\" rel=\"stylesheet\"/>\n  <link href=\"https://webscraper.io/test-sites/e-commerce/allinone/computers\" rel=\"canonical\"/>\n  <link href=\"/img/logo-icon.png\" rel=\"apple-touch-icon\"/>\n  <script defer=\"\" src=\"/js/app.js?id=e64f07a3ce1d466cf04c\">\n  </script>\n </head>\n <body>\n  <!-- Google Tag Manager (noscript) -->\n  <noscript>\n   <iframe height=\"0\" src=\"https://www.googletagmanager.com/ns.html?id=GTM-NVFPDWB\" style=\"display:none;visibility:hidden\" width=\"0\">\n   </iframe>\n  </noscript>\n  <!-- End Google Tag Manager (noscript) -->\n  <header class=\"navbar navbar-fixed-top navbar-static\" role=\"banner\">\n   <div class=\"container\">\n    <div class=\"navbar-header\">\n     <a data-target=\".side-collapse\" data-target-2=\".side-collapse-container\" data-toggle=\"collapse-side\">\n      <button aria-controls=\"navbar\" aria-expanded=\"false\" class=\"navbar-toggle pull-right collapsed\" data-target=\"#navbar\" data-target-2=\".side-collapse-container\" data-target-3=\".side-collapse\" data-toggle=\"collapse\" type=\"button\">\n       <span class=\"sr-only\">\n        Toggle navigation\n       </span>\n       <span class=\"icon-bar top-bar\">\n       </span>\n       <span class=\"icon-bar middle-bar\">\n       </span>\n       <span class=\"icon-bar bottom-bar\">\n       </span>\n      </button>\n     </a>\n     <div class=\"navbar-brand\">\n      <a href=\"/\">\n       <img alt=\"Web Scraper\" src=\"/img/logo_white.svg\"/>\n      </a>\n     </div>\n    </div>\n    <div class=\"side-collapse in\">\n     <nav class=\"navbar-collapse collapse\" id=\"navbar\" role=\"navigation\">\n      <ul class=\"nav navbar-nav navbar-right\">\n       <li class=\"hidden\">\n        <a href=\"#page-top\">\n        </a>\n       </li>\n       <li>\n        <a class=\"menuitm\" href=\"/\">\n         <p>\n          Web Scraper\n         </p>\n         <div class=\"crta\">\n         </div>\n        </a>\n       </li>\n       <li>\n        <a class=\"menuitm\" href=\"/cloud-scraper\">\n         <p>\n          Cloud Scraper\n         </p>\n         <div class=\"crta\">\n         </div>\n        </a>\n       </li>\n       <li>\n        <a class=\"menuitm\" href=\"/pricing\">\n         <p>\n          Pricing\n         </p>\n         <div class=\"crta\">\n         </div>\n        </a>\n       </li>\n       <li class=\"dropdown\">\n        <a class=\"menuitm dropdown-toggle\" data-toggle=\"dropdown\" href=\"#section3\">\n         <p>\n          Learn\n         </p>\n         <div class=\"crta\">\n         </div>\n        </a>\n        <ul class=\"dropdown-menu\">\n         <li>\n          <a href=\"/documentation\">\n           Documentation\n          </a>\n         </li>\n         <li>\n          <a href=\"/tutorials\">\n           Video Tutorials\n          </a>\n         </li>\n         <li>\n          <a href=\"/how-to-videos\">\n           How to\n          </a>\n         </li>\n         <li>\n          <a href=\"/test-sites\">\n           Test Sites\n          </a>\n         </li>\n         <li>\n          <a href=\"https://forum.webscraper.io/\" rel=\"noopener\" target=\"_blank\">\n           Forum\n          </a>\n         </li>\n        </ul>\n       </li>\n       <li>\n        <a class=\"btn-menu1 install-extension\" href=\"https://chrome.google.com/webstore/detail/web-scraper/jnhgnonknehpejjnehehllkliplmbmhn?hl=en\" rel=\"noopener\" target=\"_blank\">\n         Install\n        </a>\n       </li>\n       <li>\n        <a class=\"btn-menu2\" href=\"https://cloud.webscraper.io/\">\n         Login\n        </a>\n       </li>\n      </ul>\n     </nav>\n    </div>\n   </div>\n  </header>\n  <div class=\"wrapper\">\n   <div class=\"formenu-here container-fluid\">\n   </div>\n   <div class=\"container-fluid blog-hero\">\n    <div class=\"container\">\n     <div class=\"row\">\n      <div class=\"col-md-12\">\n       <h1>\n        Test Sites\n       </h1>\n      </div>\n     </div>\n    </div>\n   </div>\n   <div class=\"container test-site\">\n    <div class=\"row\">\n     <div class=\"col-md-3 sidebar\">\n      <div class=\"navbar-default sidebar\" role=\"navigation\">\n       <div class=\"sidebar-nav navbar-collapse\">\n        <ul class=\"nav\" id=\"side-menu\">\n         <li>\n          <a href=\"/test-sites/e-commerce/allinone\">\n           Home\n          </a>\n         </li>\n         <li class=\"active\">\n          <a class=\"category-link active\" href=\"/test-sites/e-commerce/allinone/computers\">\n           Computers\n           <span class=\"fa arrow\">\n           </span>\n          </a>\n          <ul class=\"nav nav-second-level collapse in\">\n           <li>\n            <a class=\"subcategory-link\" href=\"/test-sites/e-commerce/allinone/computers/laptops\">\n             Laptops\n            </a>\n           </li>\n           <li>\n            <a class=\"subcategory-link\" href=\"/test-sites/e-commerce/allinone/computers/tablets\">\n             Tablets\n            </a>\n           </li>\n          </ul>\n         </li>\n         <li>\n          <a class=\"category-link\" href=\"/test-sites/e-commerce/allinone/phones\">\n           Phones\n           <span class=\"fa arrow\">\n           </span>\n          </a>\n         </li>\n        </ul>\n       </div>\n      </div>\n     </div>\n     <div class=\"col-md-9\">\n      <h1 class=\"page-header\">\n       Computers category\n      </h1>\n      <h2>\n       Top items being scraped right now\n      </h2>\n      <div class=\"row\">\n       <div class=\"col-sm-4 col-lg-4 col-md-4\">\n        <div class=\"thumbnail\">\n         <img alt=\"item\" class=\"img-responsive\" src=\"/images/test-sites/e-commerce/items/cart2.png\"/>\n         <div class=\"caption\">\n          <h4 class=\"pull-right price\">\n           $1366.32\n          </h4>\n          <h4>\n           <a class=\"title\" href=\"/test-sites/e-commerce/allinone/product/630\" title=\"Toshiba Portege X20W-D-10V Black/Blue\">\n            Toshiba Portege...\n           </a>\n          </h4>\n          <p class=\"description\">\n           Toshiba Portege X20W-D-10V Black/Blue, 12.5\" FHD Touch, Core i7-7500U, 8GB, 512GB SSD, Windows 10 Pro\n          </p>\n         </div>\n         <div class=\"ratings\">\n          <p class=\"pull-right\">\n           11 reviews\n          </p>\n          <p data-rating=\"1\">\n           <span class=\"glyphicon glyphicon-star\">\n           </span>\n          </p>\n         </div>\n        </div>\n       </div>\n       <div class=\"col-sm-4 col-lg-4 col-md-4\">\n        <div class=\"thumbnail\">\n         <img alt=\"item\" class=\"img-responsive\" src=\"/images/test-sites/e-commerce/items/cart2.png\"/>\n         <div class=\"caption\">\n          <h4 class=\"pull-right price\">\n           $469.10\n          </h4>\n          <h4>\n           <a class=\"title\" href=\"/test-sites/e-commerce/allinone/product/571\" title=\"Acer Aspire ES1-572 Black\">\n            Acer Aspire ES1-...\n           </a>\n          </h4>\n          <p class=\"description\">\n           Acer Aspire ES1-572 Black, 15.6\" HD, Core i3-6006U, 4GB, 128GB SSD, Windows 10 Home\n          </p>\n         </div>\n         <div class=\"ratings\">\n          <p class=\"pull-right\">\n           5 reviews\n          </p>\n          <p data-rating=\"3\">\n           <span class=\"glyphicon glyphicon-star\">\n           </span>\n           <span class=\"glyphicon glyphicon-star\">\n           </span>\n           <span class=\"glyphicon glyphicon-star\">\n           </span>\n          </p>\n         </div>\n        </div>\n       </div>\n       <div class=\"col-sm-4 col-lg-4 col-md-4\">\n        <div class=\"thumbnail\">\n         <img alt=\"item\" class=\"img-responsive\" src=\"/images/test-sites/e-commerce/items/cart2.png\"/>\n         <div class=\"caption\">\n          <h4 class=\"pull-right price\">\n           $1338.37\n          </h4>\n          <h4>\n           <a class=\"title\" href=\"/test-sites/e-commerce/allinone/product/625\" title=\"Dell Latitude 5480\">\n            Dell Latitude 54...\n           </a>\n          </h4>\n          <p class=\"description\">\n           Dell Latitude 5480, 14\" FHD, Core i7-7600U, 8GB, 256GB SSD, Linux + Windows 10 Home\n          </p>\n         </div>\n         <div class=\"ratings\">\n          <p class=\"pull-right\">\n           11 reviews\n          </p>\n          <p data-rating=\"2\">\n           <span class=\"glyphicon glyphicon-star\">\n           </span>\n           <span class=\"glyphicon glyphicon-star\">\n           </span>\n          </p>\n         </div>\n        </div>\n       </div>\n      </div>\n     </div>\n    </div>\n   </div>\n   <div class=\"clearfix\">\n   </div>\n   <div class=\"push\">\n   </div>\n  </div>\n  <div class=\"container-fluid footer\" id=\"layout-footer\">\n   <div class=\"container\">\n    <div class=\"row\">\n     <div class=\"col-md-3\">\n      <ul>\n       <li>\n        <p>\n         Products\n        </p>\n       </li>\n       <li>\n        <a href=\"/\">\n         Web Scraper browser extension\n        </a>\n       </li>\n       <li>\n        <a href=\"/pricing\">\n         Web Scraper Cloud\n        </a>\n       </li>\n      </ul>\n     </div>\n     <div class=\"col-md-3\">\n      <ul>\n       <li>\n        <p>\n         Company\n        </p>\n       </li>\n       <li>\n        <a href=\"/contact\">\n         Contact\n        </a>\n       </li>\n       <li>\n        <a href=\"/privacy-policy\">\n         Website Privacy Policy\n        </a>\n       </li>\n       <li>\n        <a href=\"/extension-privacy-policy\">\n         Browser Extension Privacy Policy\n        </a>\n       </li>\n       <li>\n        <a href=\"http://webscraperio.us-east-1.elasticbeanstalk.com/downloads/Web_Scraper_Media_Kit.zip\">\n         Media kit\n        </a>\n       </li>\n       <li>\n        <a href=\"/jobs\">\n         Jobs\n        </a>\n       </li>\n      </ul>\n     </div>\n     <div class=\"col-md-3\">\n      <ul>\n       <li>\n        <p>\n         Resources\n        </p>\n       </li>\n       <li>\n        <a href=\"/blog\">\n         Blog\n        </a>\n       </li>\n       <li>\n        <a href=\"/documentation\">\n         Documentation\n        </a>\n       </li>\n       <li>\n        <a href=\"/tutorials\">\n         Video Tutorials\n        </a>\n       </li>\n       <li>\n        <a href=\"/screenshots\">\n         Screenshots\n        </a>\n       </li>\n       <li>\n        <a href=\"/test-sites\">\n         Test Sites\n        </a>\n       </li>\n       <li>\n        <a href=\"https://forum.webscraper.io/\" rel=\"noopener\" target=\"_blank\">\n         Forum\n        </a>\n       </li>\n      </ul>\n     </div>\n     <div class=\"col-md-3\">\n      <ul>\n       <li>\n        <p>\n         CONTACT US\n        </p>\n       </li>\n       <li>\n        <a href=\"mailto:info@webscraper.io\">\n         info@webscraper.io\n        </a>\n       </li>\n       <li>\n        Rupniecibas iela 30,\n        <br/>\n        Riga, Latvia, LV-1045\n       </li>\n      </ul>\n      <ul class=\"smedia\">\n       <li>\n        <a href=\"https://www.facebook.com/webscraperio/\" rel=\"noopener\" target=\"_blank\">\n         <img alt=\"Web Scraper on Facebook\" src=\"/img/fbicon.png\"/>\n        </a>\n       </li>\n       <li>\n        <a href=\"https://twitter.com/webscraperio\" rel=\"noopener\" target=\"_blank\">\n         <img alt=\"Web Scraper on Twitter\" src=\"/img/twicon.png\"/>\n        </a>\n       </li>\n      </ul>\n     </div>\n    </div>\n    <div class=\"row\">\n     <div class=\"col-md-12\">\n      <p class=\"copyright\">\n       Copyright &amp;copy 2021\n       <a href=\"#\">\n        Web Scraper\n       </a>\n       | All rights\n\t\t\t\t\treserved | Made by zoom59\n      </p>\n     </div>\n    </div>\n   </div>\n  </div>\n </body>\n</html>\n\n"
     ]
    }
   ],
   "source": [
    "import urllib\n",
    "from bs4 import BeautifulSoup\n",
    "\n",
    "r = urllib.request.urlopen(\"https://webscraper.io/test-sites/e-commerce/allinone\").read()\n",
    "\n",
    "soup = BeautifulSoup(r)\n",
    "print(type(soup))\n",
    "print()\n",
    "print(soup.prettify())"
   ]
  },
  {
   "source": [
    "## Extracting data"
   ],
   "cell_type": "markdown",
   "metadata": {}
  },
  {
   "cell_type": "code",
   "execution_count": 97,
   "metadata": {},
   "outputs": [
    {
     "output_type": "execute_result",
     "data": {
      "text/plain": [
       "                                             img_src    price  \\\n",
       "0  https://webscraper.io/images/test-sites/e-comm...  1366.32   \n",
       "1  https://webscraper.io/images/test-sites/e-comm...   469.10   \n",
       "2  https://webscraper.io/images/test-sites/e-comm...  1338.37   \n",
       "\n",
       "                  name                                        description  \\\n",
       "0   Toshiba Portege...  Toshiba Portege X20W-D-10V Black/Blue, 12.5\" F...   \n",
       "1  Acer Aspire ES1-...  Acer Aspire ES1-572 Black, 15.6\" HD, Core i3-6...   \n",
       "2  Dell Latitude 54...  Dell Latitude 5480, 14\" FHD, Core i7-7600U, 8G...   \n",
       "\n",
       "  rating reviews  \n",
       "0      1      11  \n",
       "1      3       5  \n",
       "2      2      11  "
      ],
      "text/html": "<div>\n<style scoped>\n    .dataframe tbody tr th:only-of-type {\n        vertical-align: middle;\n    }\n\n    .dataframe tbody tr th {\n        vertical-align: top;\n    }\n\n    .dataframe thead th {\n        text-align: right;\n    }\n</style>\n<table border=\"1\" class=\"dataframe\">\n  <thead>\n    <tr style=\"text-align: right;\">\n      <th></th>\n      <th>img_src</th>\n      <th>price</th>\n      <th>name</th>\n      <th>description</th>\n      <th>rating</th>\n      <th>reviews</th>\n    </tr>\n  </thead>\n  <tbody>\n    <tr>\n      <th>0</th>\n      <td>https://webscraper.io/images/test-sites/e-comm...</td>\n      <td>1366.32</td>\n      <td>Toshiba Portege...</td>\n      <td>Toshiba Portege X20W-D-10V Black/Blue, 12.5\" F...</td>\n      <td>1</td>\n      <td>11</td>\n    </tr>\n    <tr>\n      <th>1</th>\n      <td>https://webscraper.io/images/test-sites/e-comm...</td>\n      <td>469.10</td>\n      <td>Acer Aspire ES1-...</td>\n      <td>Acer Aspire ES1-572 Black, 15.6\" HD, Core i3-6...</td>\n      <td>3</td>\n      <td>5</td>\n    </tr>\n    <tr>\n      <th>2</th>\n      <td>https://webscraper.io/images/test-sites/e-comm...</td>\n      <td>1338.37</td>\n      <td>Dell Latitude 54...</td>\n      <td>Dell Latitude 5480, 14\" FHD, Core i7-7600U, 8G...</td>\n      <td>2</td>\n      <td>11</td>\n    </tr>\n  </tbody>\n</table>\n</div>"
     },
     "metadata": {},
     "execution_count": 97
    }
   ],
   "source": [
    "products = soup.find_all(\"div\",attrs={\"class\": \"thumbnail\"})\n",
    "\n",
    "products_dict = {\n",
    "    'img_src' : [],\n",
    "    'price':[],\n",
    "    'name':[],\n",
    "    'description':[],\n",
    "    'rating':[],\n",
    "    'reviews':[]\n",
    "}\n",
    "\n",
    "for thumbnail in products:\n",
    "    prefix = 'https://webscraper.io'\n",
    "    products_dict['img_src'].append(prefix + thumbnail.img['src'])\n",
    "    products_dict['price'].append(thumbnail.h4.get_text()[1:])\n",
    "    products_dict['name'].append(thumbnail.a.get_text())\n",
    "    products_dict['description'].append(thumbnail.p.get_text())\n",
    "    products_dict['rating'].append(thumbnail.find_all('div')[1].find_all('p')[1]['data-rating'])\n",
    "    products_dict['reviews'].append(thumbnail.find_all('p',attrs={'class','pull-right'})[0].get_text()[:-8])\n",
    "    \n",
    "import pandas\n",
    "df = pandas.DataFrame(products_dict)\n",
    "# df =df.transpose()\n",
    "\n",
    "df.to_csv('products1.csv')\n",
    "df.to_json('products1.json')\n",
    "df"
   ]
  }
 ]
}